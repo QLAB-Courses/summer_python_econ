{
 "cells": [
  {
   "cell_type": "markdown",
   "id": "7e746ee3",
   "metadata": {},
   "source": [
    " # Assignment_3"
   ]
  },
  {
   "cell_type": "markdown",
   "id": "088d0039",
   "metadata": {},
   "source": [
    "If you copy codes from previous answers, explain each step. No explanation is 0 points."
   ]
  },
  {
   "cell_type": "markdown",
   "id": "8a7283c3",
   "metadata": {},
   "source": [
    "## Part 1. Functions"
   ]
  },
  {
   "cell_type": "markdown",
   "id": "18bc971d",
   "metadata": {},
   "source": [
    "1.Write a function that takes two numeric parameters, `a` and `b`, and subtracts both numbers, such that `c = a - b`. Expresses `c` as the value to return.\n"
   ]
  },
  {
   "cell_type": "code",
   "execution_count": 1,
   "id": "102107b0",
   "metadata": {},
   "outputs": [],
   "source": [
    "# We create a function:  \n",
    "def subtraction(a,b):\n",
    "    c = a - b\n",
    "    return c"
   ]
  },
  {
   "cell_type": "code",
   "execution_count": 2,
   "id": "e28f9b86",
   "metadata": {},
   "outputs": [
    {
     "data": {
      "text/plain": [
       "530"
      ]
     },
     "execution_count": 2,
     "metadata": {},
     "output_type": "execute_result"
    }
   ],
   "source": [
    "# An example:\n",
    "subtraction(850, 320)"
   ]
  },
  {
   "cell_type": "markdown",
   "id": "1000d0eb",
   "metadata": {},
   "source": [
    "2.Write a function that transforms the temperature from degrees Celsius to degrees Fahrenheit. The formula is:    \n",
    "$F = 1.8*C + 32$"
   ]
  },
  {
   "cell_type": "code",
   "execution_count": 3,
   "id": "b42821e6",
   "metadata": {},
   "outputs": [],
   "source": [
    "def celsius_a_fahrenheit(temp_c):\n",
    "    '''\n",
    "     transform temperature from celsius to fahrenheit\n",
    "    Input: \n",
    "        temp_c:float number\n",
    "    Output: \n",
    "        returns: float number\n",
    "    '''\n",
    "    \n",
    "    #Write your function here\n",
    "    temp_f = 1.8*temp_c + 32 \n",
    "    return temp_f "
   ]
  },
  {
   "cell_type": "code",
   "execution_count": 4,
   "id": "9f07fe72",
   "metadata": {},
   "outputs": [
    {
     "data": {
      "text/plain": [
       "113.0"
      ]
     },
     "execution_count": 4,
     "metadata": {},
     "output_type": "execute_result"
    }
   ],
   "source": [
    "# An example:\n",
    "celsius_a_fahrenheit(45)"
   ]
  },
  {
   "cell_type": "markdown",
   "id": "a5fdb6e3",
   "metadata": {},
   "source": [
    "3.Write a function that gives the result of a division of two numbers, however, the result must be a mixed number. \n",
    "\n",
    "Mixed numbers are a representation that has an integer part and a part less than one. For example, $50 / 7$ is represented as follows:\n",
    "$\n",
    "  7\\frac{1}{7}\n",
    "$  \n",
    "\n",
    "Another example: $23 / 4$ would be \n",
    "$\n",
    "  5\\frac{3}{4}\n",
    "$  \n",
    "\n",
    "The function takes 2 arguments: first, the number to divide, and second, the divisor. \n",
    "\n",
    "The function returns a list with 3 elements: the integer, the numerator of the fraction and the denominator of the fraction. \n",
    "\n",
    "For example, ``` mixed_number(23,4)``` results in ```[5, 3, 4] ```. \n",
    "\n",
    "``` mixed_number(24,4)``` results in ```[6, 0, 4] ```. \n",
    "\n",
    "Hint: floor and module"
   ]
  },
  {
   "cell_type": "code",
   "execution_count": 11,
   "id": "38469b01",
   "metadata": {},
   "outputs": [
    {
     "name": "stdout",
     "output_type": "stream",
     "text": [
      "[2, 1, 3]\n",
      "[12, 0, 6]\n"
     ]
    }
   ],
   "source": [
    "def mixed_numb(num, den):\n",
    "    ''' Convert division to mixed number\n",
    "    Input: \n",
    "        num: integer\n",
    "        den: integer\n",
    "    Output: \n",
    "        returns: list with 3 numbers\n",
    "    '''\n",
    "    # I am going to calculate the integer part using floor division \n",
    "    integer_part = num // den\n",
    "\n",
    "    # I am going to calculate the remainder, which is the numerator of the fractional part\n",
    "    fractional_numerator = num % den\n",
    "\n",
    "    # As we see in the examples, the dominator of the fractional part remains the same\n",
    "    fractional_dominator = den\n",
    "\n",
    "    # Now we return the result as a list [integer_part, fractional_numerator, fractional_dominator]\n",
    "    return [integer_part, fractional_numerator, fractional_dominator]\n",
    "\n",
    "\n",
    "print(mixed_numb(7, 3)) # [2, 1, 3]\n",
    "print(mixed_numb(72, 6)) # [12, 0, 6]\n",
    "\n"
   ]
  },
  {
   "cell_type": "markdown",
   "id": "aee1d361",
   "metadata": {},
   "source": [
    "4.We have the next function"
   ]
  },
  {
   "cell_type": "code",
   "execution_count": 14,
   "id": "802c0a2e",
   "metadata": {},
   "outputs": [],
   "source": [
    "def school_grade(age):\n",
    "    ''' calculate the school grade you belong to according to your age\n",
    "    Input: \n",
    "    age: int\n",
    "    output: tuple, composed of \n",
    "    grade: string\n",
    "    esp: specific what degree\n",
    "    '''\n",
    "    \n",
    "    if (age < 6) or (age > 17):\n",
    "        return \"Isn't in school grade\"\n",
    "    elif (age >= 6) and (age < 12):\n",
    "        grade = \"Primary\"\n",
    "        if age == 6:\n",
    "            esp = \"1st grade\"\n",
    "        elif age == 7:\n",
    "            esp = \"2nd grade\"\n",
    "        elif age == 8:\n",
    "            esp = \"3rd grade\"\n",
    "        elif age == 9:\n",
    "            esp = \"4th grade\"\n",
    "        elif age == 10:\n",
    "            esp = \"5th grade\"\n",
    "        else:\n",
    "            esp = \"6th grade\"\n",
    "    else:\n",
    "        grade = \"Highschool\"\n",
    "        if age == 12:\n",
    "            esp = \"1st grade\"\n",
    "        elif age == 13:\n",
    "            esp = \"2nd grade\"\n",
    "        elif age == 14:\n",
    "            esp = \"3rd grade\"\n",
    "        elif age == 15:\n",
    "            esp = \"4th grade\"\n",
    "        else:\n",
    "            esp = \"5th grade\"\n",
    "            \n",
    "    return grade, esp"
   ]
  },
  {
   "cell_type": "markdown",
   "id": "1214a8f3",
   "metadata": {},
   "source": [
    "Likewise, we have 7 children, who are of the following ages:   \n",
    "    `ages = [2, 4, 6, 7, 10, 15, 16]`  \n",
    "We want to know what grades/years these children go to. To do this, create an empty list. In this list you will store the result of said function for each of the ages in this list. Use a for loop . \n",
    "\n",
    "Hint: To get familiar with the feature, you can use it with ages within the school age range."
   ]
  },
  {
   "cell_type": "code",
   "execution_count": 17,
   "id": "4e1a5d9c",
   "metadata": {},
   "outputs": [
    {
     "name": "stdout",
     "output_type": "stream",
     "text": [
      "[\"Isn't in school grade\", \"Isn't in school grade\", ('Primary', '1st grade'), ('Primary', '2nd grade'), ('Primary', '5th grade'), ('Highschool', '4th grade'), ('Highschool', '5th grade')]\n"
     ]
    }
   ],
   "source": [
    "# Ages list to test\n",
    "ages = [2, 4, 6, 7, 10, 15, 16]\n",
    "\n",
    "#Empty list to store the results\n",
    "grades = []\n",
    "\n",
    "# Bucle to iterate over the ages list \n",
    "for x in ages: \n",
    "    grades.append(school_grade(x))\n",
    "\n",
    "# Print the results\n",
    "print(grades) \n"
   ]
  },
  {
   "cell_type": "markdown",
   "id": "e4d2b12e",
   "metadata": {},
   "source": [
    "5. Write a function that converts Lima time (GMT -5) into 4 possible hours: \n",
    "- Vanuatu Time (GMT +11)  \n",
    "- Dominica Time (GMT - 4)\n",
    "- Time Abuja, Nigeria (GMT +1)\n",
    "- Beijing, China Time (GMT +8)  \n",
    "(We can use a dictionary inside the function, to find the city-time pairs more easily.)\n",
    "\n",
    "Let's assume that we will only use whole hours. \n",
    "The function must have 2 parameters: \n",
    "- the Lima time that we want to convert (integer). \n",
    "- the city (string) to which we want to convert the time.\n",
    "\n",
    "The function must return the time (0 to 24 hours) as a number (can be a float ending in .0). Be careful that you have to handle the case when the sum is more than 24 hours (Hint: %). \n",
    "There are cases in which the time can be negative (Hint: See it as a subtraction)"
   ]
  },
  {
   "cell_type": "code",
   "execution_count": 1,
   "id": "94cd31f5",
   "metadata": {},
   "outputs": [],
   "source": [
    "def convert_lima_time(lima_time, city):\n",
    "    # Dictionary mapping cities to their GMT offsets\n",
    "    time_offsets = {\n",
    "        \"Vanuatu\": 16,   \n",
    "        \"Dominica\": 1,   \n",
    "        \"Abuja\": 6,      \n",
    "        \"Beijing\": 13    \n",
    "    }\n",
    "    \n",
    "    # Check if the city is in the dictionary\n",
    "    if city not in time_offsets:\n",
    "        raise ValueError(f\"City '{city}' is not recognized. Available options: {list(time_offsets.keys())}\")\n",
    "    \n",
    "    # Calculate the time in the desired city\n",
    "    city_time = (lima_time + time_offsets[city]) % 24\n",
    "    \n",
    "    return float(city_time)  # Return as a float ending in .0\n"
   ]
  },
  {
   "cell_type": "code",
   "execution_count": 4,
   "id": "eebe5ea5",
   "metadata": {},
   "outputs": [
    {
     "data": {
      "text/plain": [
       "7.0"
      ]
     },
     "execution_count": 4,
     "metadata": {},
     "output_type": "execute_result"
    }
   ],
   "source": [
    "#Example\n",
    "convert_lima_time(1, \"Abuja\")"
   ]
  },
  {
   "cell_type": "markdown",
   "id": "b5cc1e1c",
   "metadata": {},
   "source": [
    "## Part 2. Classes"
   ]
  },
  {
   "cell_type": "markdown",
   "id": "6167894a",
   "metadata": {},
   "source": [
    "6. Person Class\n",
    "- Attributes: name, age, address.\n",
    "Methods:\n",
    "__init__(): Constructor to initialize attributes.\n",
    "- greet(): Print a custom greeting.\n",
    "- birthday_years(): Increases the age by one."
   ]
  },
  {
   "cell_type": "code",
   "execution_count": 18,
   "id": "26b8ec28",
   "metadata": {},
   "outputs": [],
   "source": [
    "# We create Person Class:\n",
    "class PersonClass:\n",
    "    \n",
    "    def __init__(self, name, age, address):\n",
    "        self.name = name\n",
    "        self.age = age\n",
    "        self.address = address\n",
    "\n",
    "    def greet( self ):\n",
    "        print( f'Hi, my name is { self.name }.I am {self.age} years old and I live at {self.address}.')\n",
    "        \n",
    "    def birthday_years( self ):\n",
    "        self.age +=1\n",
    "        print(f\"The next year, I will be {self.age} years old.\")"
   ]
  },
  {
   "cell_type": "code",
   "execution_count": 19,
   "id": "4d57a071",
   "metadata": {},
   "outputs": [
    {
     "name": "stdout",
     "output_type": "stream",
     "text": [
      "Hi, my name is Marco.I am 22 years old and I live at Jr. Unión.\n",
      "The next year, I will be 23 years old.\n"
     ]
    }
   ],
   "source": [
    "# An example:\n",
    "Marco = PersonClass(\"Marco\", 22, \"Jr. Unión\")\n",
    "Marco.greet()\n",
    "Marco.birthday_years()"
   ]
  },
  {
   "cell_type": "markdown",
   "id": "322b2017",
   "metadata": {},
   "source": [
    "7.BankAccount Class\n",
    "- Attributes: owner, account_number, balance.\n",
    "Methods:\n",
    "- deposit(): Increase the balance.\n",
    "- withdraw(): Decreases balance (check for sufficient funds).\n",
    "- show_info(): Prints the account information."
   ]
  },
  {
   "cell_type": "code",
   "execution_count": 42,
   "id": "4dbddd3c",
   "metadata": {},
   "outputs": [],
   "source": [
    "class BankAccountClass:\n",
    "\n",
    "    def __init__(self, owner, account_number, balance):\n",
    "        self.owner = owner\n",
    "        self.account_number = account_number\n",
    "        self.balance = balance\n",
    "    \n",
    "    def deposit(self, amount):\n",
    "\n",
    "        \"Increase the balance by the amount deposited\"\n",
    "\n",
    "        if amount > 0: \n",
    "            self.balance += amount \n",
    "            print(\"deposited $\" + str(round(amount, 2)) + \". Your new balance is $\" + str(round(self.balance, 2)))                  \n",
    "        else:\n",
    "            print(\"Invalid amount. Please enter a positive number.\")\n",
    "    \n",
    "    def withdraw(self, amount):\n",
    "\n",
    "        \"Decrease the balance by the amount withdrawn\"\n",
    "\n",
    "        if amount > 0: \n",
    "            if amount <= self.balance: \n",
    "                self.balance -= amount \n",
    "                print(\"withdrawn $\" + str(round(amount,2)) + \". Your new balance is $\" + str(round(self.balance,2)))\n",
    "            else: \n",
    "                print(\"Insufficient funds. Your current balance is $\" + str(round(self.balance,2)))\n",
    "        else:\n",
    "            print(\"Invalid amount. Please enter a positive number.\")\n",
    "    \n",
    "    def show_info(self): \n",
    "\n",
    "        \"Print the account information\"\n",
    "\n",
    "        print(\"Owner:\" + self.owner)\n",
    "        print(\"Account number:\" + self.account_number)\n",
    "        print(\"Balance: $\" + str(round(self.balance,2)))\n",
    "        "
   ]
  },
  {
   "cell_type": "code",
   "execution_count": 41,
   "id": "8c7bdb38",
   "metadata": {},
   "outputs": [
    {
     "name": "stdout",
     "output_type": "stream",
     "text": [
      "Owner:Dj Peligro\n",
      "Account number:123456\n",
      "Balance: $1000\n",
      "---------------------------------\n",
      "deposited $500. Your new balance is $1500\n",
      "---------------------------------\n",
      "withdrawn $200. Your new balance is $1300\n",
      "---------------------------------\n",
      "Insufficient funds. Your current balance is $1300\n",
      "---------------------------------\n",
      "Owner:Dj Peligro\n",
      "Account number:123456\n",
      "Balance: $1300\n"
     ]
    }
   ],
   "source": [
    "account = BankAccountClass(\"Dj Peligro\", \"123456\", 1000)\n",
    "account.show_info()\n",
    "\n",
    "print(\"---------------------------------\")\n",
    "account.deposit(500)\n",
    "print(\"---------------------------------\")\n",
    "account.withdraw(200)\n",
    "print(\"---------------------------------\")\n",
    "account.withdraw(2000) #this have to show an insfficient funds message\n",
    "print(\"---------------------------------\")\n",
    "account.show_info()\n"
   ]
  },
  {
   "cell_type": "markdown",
   "id": "e7e8666b",
   "metadata": {},
   "source": [
    "\n",
    "8.Create a class called Mascot that represents a mascot in a store. The class must have the following attributes and methods:\n",
    "\n",
    "Attributes:\n",
    "\n",
    "- name: The name of the pet.\n",
    "- species: The species of the pet (dog, cat, etc.).\n",
    "- breed: The breed of the pet.\n",
    "- age: The age of the pet.\n",
    "- price: The price of the pet.\n",
    "\n",
    "Methods:\n",
    "\n",
    "- __init__(self, name, species, race, age, price): Constructor that initializes the class with the given attributes.\n",
    "- show_information(self): Prints the pet information in a readable format.\n",
    "- discount(self, percentage): Applies a discount to the price of the pet."
   ]
  },
  {
   "cell_type": "code",
   "execution_count": 17,
   "id": "c1dcdb63",
   "metadata": {},
   "outputs": [],
   "source": [
    "class Mascot:\n",
    "    def __init__(self, name, species, breed, age, price):\n",
    "        \"\"\"\n",
    "        Constructor\n",
    "        \"\"\"\n",
    "        self.name = name\n",
    "        self.species = species\n",
    "        self.breed = breed\n",
    "        self.age = age\n",
    "        self.price = price\n",
    "\n",
    "    def show_information(self):\n",
    "        \"\"\"\n",
    "        Prints the pet's information\n",
    "        \"\"\"\n",
    "        print(f\"Her name is {self.name} and she is of the species {self.species}.\")\n",
    "        print(f\"She eats {self.breed}.\")\n",
    "        print(f\"Her age is {self.age} years and her price is ${self.price:.2f}.\")\n",
    "\n",
    "    def discount(self, percentage):\n",
    "        \"\"\"\n",
    "        Applies a discount to the pet's price.\n",
    "        \"\"\"\n",
    "        if 0 <= percentage <= 100:\n",
    "            discount_amount = self.price * (percentage / 100)\n",
    "            self.price -= discount_amount  # Update the price\n",
    "            print(f\"A discount of {percentage}% has been applied. New price: ${self.price:.2f}\")\n",
    "        else:\n",
    "            print(\"Invalid discount percentage. Please enter a value between 0 and 100.\")\n",
    "\n"
   ]
  },
  {
   "cell_type": "code",
   "execution_count": 18,
   "id": "14a903e9",
   "metadata": {},
   "outputs": [
    {
     "name": "stdout",
     "output_type": "stream",
     "text": [
      "Her name is Killane and she is of the species cat.\n",
      "She eats fish.\n",
      "Her age is 3 years and her price is $120.00.\n",
      "A discount of 20% has been applied. New price: $96.00\n"
     ]
    }
   ],
   "source": [
    "#Example\n",
    "# Create and use the class directly\n",
    "pet = Mascot(name=\"Killane\", species=\"cat\", breed=\"fish\", age=3, price=120)\n",
    "\n",
    "# Show information\n",
    "pet.show_information()\n",
    "\n",
    "# Apply a discount of 20%\n",
    "pet.discount(20)\n"
   ]
  }
 ],
 "metadata": {
  "kernelspec": {
   "display_name": "base",
   "language": "python",
   "name": "python3"
  },
  "language_info": {
   "codemirror_mode": {
    "name": "ipython",
    "version": 3
   },
   "file_extension": ".py",
   "mimetype": "text/x-python",
   "name": "python",
   "nbconvert_exporter": "python",
   "pygments_lexer": "ipython3",
   "version": "3.12.7"
  }
 },
 "nbformat": 4,
 "nbformat_minor": 5
}
