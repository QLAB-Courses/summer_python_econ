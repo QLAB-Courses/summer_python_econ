{
 "cells": [
  {
   "cell_type": "markdown",
   "id": "7e746ee3",
   "metadata": {},
   "source": [
    " # Assignment_3"
   ]
  },
  {
   "cell_type": "markdown",
   "id": "088d0039",
   "metadata": {},
   "source": [
    "If you copy codes from previous answers, explain each step. No explanation is 0 points."
   ]
  },
  {
   "cell_type": "markdown",
   "id": "8a7283c3",
   "metadata": {},
   "source": [
    "## Part 1. Functions"
   ]
  },
  {
   "cell_type": "markdown",
   "id": "18bc971d",
   "metadata": {},
   "source": [
    "1.Write a function that takes two numeric parameters, `a` and `b`, and subtracts both numbers, such that `c = a - b`. Expresses `c` as the value to return.\n"
   ]
  },
  {
   "cell_type": "code",
   "execution_count": 37,
   "id": "102107b0",
   "metadata": {},
   "outputs": [],
   "source": [
    "def function1(a:int,b:int):\n",
    "    y = a - b\n",
    "    return y"
   ]
  },
  {
   "cell_type": "code",
   "execution_count": 38,
   "id": "c096d6f4",
   "metadata": {},
   "outputs": [
    {
     "data": {
      "text/plain": [
       "7"
      ]
     },
     "execution_count": 38,
     "metadata": {},
     "output_type": "execute_result"
    }
   ],
   "source": [
    "function1(9,2)"
   ]
  },
  {
   "cell_type": "markdown",
   "id": "1000d0eb",
   "metadata": {},
   "source": [
    "2.Write a function that transforms the temperature from degrees Celsius to degrees Fahrenheit. The formula is:    \n",
    "$F = 1.8*C + 32$"
   ]
  },
  {
   "cell_type": "code",
   "execution_count": 39,
   "id": "b42821e6",
   "metadata": {},
   "outputs": [
    {
     "name": "stdout",
     "output_type": "stream",
     "text": [
      "30 grados Celsius son equivalentes a 86.0 grados Fahrenheit.\n"
     ]
    }
   ],
   "source": [
    "def celsius_a_fahrenheit(temp_c):\n",
    "    '''\n",
    "     transform temperature from celsius to fahrenheit\n",
    "    Input: \n",
    "        temp_c:float number\n",
    "    Output: \n",
    "        returns: float number\n",
    "    '''\n",
    "    \n",
    "    #Write your function here\n",
    "    \n",
    "    temp_f = 1.8 * temp_c + 32\n",
    "    \n",
    "    return temp_f \n",
    "\n",
    "resultado = celsius_a_fahrenheit(30)\n",
    "print(f\"30 grados Celsius son equivalentes a {resultado} grados Fahrenheit.\")"
   ]
  },
  {
   "cell_type": "markdown",
   "id": "a5fdb6e3",
   "metadata": {},
   "source": [
    "3.Write a function that gives the result of a division of two numbers, however, the result must be a mixed number. \n",
    "\n",
    "Mixed numbers are a representation that has an integer part and a part less than one. For example, $50 / 7$ is represented as follows:\n",
    "$\n",
    "  7\\frac{1}{7}\n",
    "$  \n",
    "\n",
    "Another example: $23 / 4$ would be \n",
    "$\n",
    "  5\\frac{3}{4}\n",
    "$  \n",
    "\n",
    "The function takes 2 arguments: first, the number to divide, and second, the divisor. \n",
    "\n",
    "The function returns a list with 3 elements: the integer, the numerator of the fraction and the denominator of the fraction. \n",
    "\n",
    "For example, ``` mixed_number(23,4)``` results in ```[5, 3, 4] ```. \n",
    "\n",
    "``` mixed_number(24,4)``` results in ```[6, 0, 4] ```. \n",
    "\n",
    "Hint: floor and module"
   ]
  },
  {
   "cell_type": "code",
   "execution_count": 40,
   "id": "38469b01",
   "metadata": {},
   "outputs": [],
   "source": [
    "def mixed_numb(num, den):\n",
    "    '''\n",
    "\n",
    "    Convert division to mixed number\n",
    "    Input: \n",
    "        num: integer\n",
    "        den: integer\n",
    "    Output: \n",
    "        returns: list with 3 numbers\n",
    "    '''\n",
    "    entero = num//den\n",
    "    residuo =num - entero*den\n",
    "    lista_output = [entero, residuo, den]\n",
    "    \n",
    "    return lista_output"
   ]
  },
  {
   "cell_type": "code",
   "execution_count": 41,
   "id": "837662e8",
   "metadata": {},
   "outputs": [
    {
     "data": {
      "text/plain": [
       "[1, 7, 10]"
      ]
     },
     "execution_count": 41,
     "metadata": {},
     "output_type": "execute_result"
    }
   ],
   "source": [
    "mixed_numb(17,10)"
   ]
  },
  {
   "cell_type": "markdown",
   "id": "aee1d361",
   "metadata": {},
   "source": [
    "4.We have the next function"
   ]
  },
  {
   "cell_type": "code",
   "execution_count": 42,
   "id": "802c0a2e",
   "metadata": {},
   "outputs": [],
   "source": [
    "def school_grade(age):\n",
    "    ''' \n",
    "    calculate the school grade you belong to according to your age\n",
    "    Input: \n",
    "        age: int\n",
    "    Output: \n",
    "        tuple, composed of \n",
    "        grade: string\n",
    "        esp: specific what degree\n",
    "    '''\n",
    "    \n",
    "    if (age < 6) or (age > 17):\n",
    "        return \"Isn't in school grade\"\n",
    "    elif (age >= 6) and (age < 12):\n",
    "        grade = \"Primary\"\n",
    "        if age == 6:\n",
    "            esp = \"1st grade\"\n",
    "        elif age == 7:\n",
    "            esp = \"2nd grade\"\n",
    "        elif age == 8:\n",
    "            esp = \"3rd grade\"\n",
    "        elif age == 9:\n",
    "            esp = \"4th grade\"\n",
    "        elif age == 10:\n",
    "            esp = \"5th grade\"\n",
    "        else:\n",
    "            esp = \"6th grade\"\n",
    "        \n",
    "    else:\n",
    "        grade = \"Highschool\"\n",
    "        if age == 12:\n",
    "            esp = \"1st grade\"\n",
    "        elif age == 13:\n",
    "            esp = \"2nd grade\"\n",
    "        elif age == 14:\n",
    "            esp = \"3rd grade\"\n",
    "        elif age == 15:\n",
    "            esp = \"4th grade\"\n",
    "        else:\n",
    "            esp = \"5th grade\"\n",
    "            \n",
    "    return grade, esp"
   ]
  },
  {
   "cell_type": "markdown",
   "id": "1214a8f3",
   "metadata": {},
   "source": [
    "Likewise, we have 7 children, who are of the following ages:   \n",
    "    `ages = [2, 4, 6, 7, 10, 15, 16]`  \n",
    "We want to know what grades/years these children go to. To do this, create an empty list. In this list you will store the result of said function for each of the ages in this list. Use a for loop . \n",
    "\n",
    "Hint: To get familiar with the feature, you can use it with ages within the school age range."
   ]
  },
  {
   "cell_type": "code",
   "execution_count": 43,
   "id": "4e1a5d9c",
   "metadata": {},
   "outputs": [
    {
     "name": "stdout",
     "output_type": "stream",
     "text": [
      "Isn't in school grade\n",
      "Isn't in school grade\n",
      "('Primary', '1st grade')\n",
      "('Primary', '2nd grade')\n",
      "('Primary', '5th grade')\n",
      "('Highschool', '4th grade')\n",
      "('Highschool', '5th grade')\n"
     ]
    }
   ],
   "source": [
    "ages = [2, 4, 6, 7, 10, 15, 16]\n",
    "list_result = []\n",
    "for age in ages:\n",
    "    result = school_grade(age)\n",
    "    list_result.append(result)\n",
    "\n",
    "for res in list_result:\n",
    "    print(res)"
   ]
  },
  {
   "cell_type": "markdown",
   "id": "e4d2b12e",
   "metadata": {},
   "source": [
    "5. Write a function that converts Lima time (GMT -5) into 4 possible hours: \n",
    "- Vanuatu Time (GMT +11)  \n",
    "- Dominica Time (GMT - 4)\n",
    "- Time Abuja, Nigeria (GMT +1)\n",
    "- Beijing, China Time (GMT +8)  \n",
    "(We can use a dictionary inside the function, to find the city-time pairs more easily.)\n",
    "\n",
    "Let's assume that we will only use whole hours. \n",
    "The function must have 2 parameters: \n",
    "- the Lima time that we want to convert (integer). \n",
    "- the city (string) to which we want to convert the time.\n",
    "\n",
    "The function must return the time (0 to 24 hours) as a number (can be a float ending in .0). Be careful that you have to handle the case when the sum is more than 24 hours (Hint: %). \n",
    "There are cases in which the time can be negative (Hint: See it as a subtraction)"
   ]
  },
  {
   "cell_type": "code",
   "execution_count": 44,
   "id": "eebe5ea5",
   "metadata": {},
   "outputs": [
    {
     "name": "stdout",
     "output_type": "stream",
     "text": [
      "Lima time: 23, Vanuatu time: 15.0\n",
      "Lima time: 23, Dominica time: 0.0\n",
      "Lima time: 23, Abuja time: 5.0\n",
      "Lima time: 23, Beijing time: 12.0\n"
     ]
    }
   ],
   "source": [
    "def convert_time(lima_time, city):\n",
    "\n",
    "    time_differences = {\n",
    "        \"Vanuatu\": 16,       # GMT +11 relative to GMT -5\n",
    "        \"Dominica\": 1,       # GMT -4 relative to GMT -5\n",
    "        \"Abuja\": 6,          # GMT +1 relative to GMT -5\n",
    "        \"Beijing\": 13        # GMT +8 relative to GMT -5\n",
    "    }\n",
    "    \n",
    "    \n",
    "    converted_time = lima_time + time_differences[city]\n",
    "    \n",
    "    converted_time = converted_time % 24\n",
    "    \n",
    "    return float(converted_time)\n",
    "\n",
    "cities = [\"Vanuatu\", \"Dominica\", \"Abuja\", \"Beijing\"]\n",
    "lima_time = 23\n",
    "\n",
    "for city in cities:\n",
    "    converted = convert_time(lima_time, city)\n",
    "    print(f\"Lima time: {lima_time}, {city} time: {converted}\")\n"
   ]
  },
  {
   "cell_type": "markdown",
   "id": "b5cc1e1c",
   "metadata": {},
   "source": [
    "## Part 2. Classes"
   ]
  },
  {
   "cell_type": "markdown",
   "id": "6167894a",
   "metadata": {},
   "source": [
    "6. Person Class\n",
    "- Attributes: name, age, address.\n",
    "Methods:\n",
    "__init__(): Constructor to initialize attributes.\n",
    "- greet(): Print a custom greeting.\n",
    "- birthday_years(): Increases the age by one."
   ]
  },
  {
   "cell_type": "code",
   "execution_count": 45,
   "id": "26b8ec28",
   "metadata": {},
   "outputs": [],
   "source": [
    "class Person:\n",
    "    def __init__(self, name, age, address):\n",
    "        self.name = name  # Inicializa el atributo 'name'\n",
    "        self.age = age    # Inicializa el atributo 'age'\n",
    "        self.address = address  # Inicializa el atributo 'address'\n",
    "\n",
    "    def greet(self):\n",
    "        print(f\"Hello, my name is {self.name}!\")  # Saludo personalizado\n",
    "\n",
    "    def birthday_years(self):\n",
    "        self.age += 1  # Incrementa la edad en 1\n",
    "        print(f\"Happy Birthday! You are now {self.age} years old.\")"
   ]
  },
  {
   "cell_type": "code",
   "execution_count": 46,
   "id": "0d6448b4",
   "metadata": {},
   "outputs": [
    {
     "name": "stdout",
     "output_type": "stream",
     "text": [
      "Greeting:\n",
      "Hello, my name is Miguel Villasante!\n",
      "\n",
      "Celebrating a birthday:\n",
      "Happy Birthday! You are now 23 years old.\n"
     ]
    }
   ],
   "source": [
    "\n",
    "# Crear una instancia de la clase Person\n",
    "person = Person(\"Miguel Villasante\", 22, \"Lima, Peru\")\n",
    "\n",
    "# Mostrar un saludo personalizado\n",
    "print(\"Greeting:\")\n",
    "person.greet()\n",
    "\n",
    "# Mostrar información actual y luego incrementar la edad\n",
    "print(\"\\nCelebrating a birthday:\")\n",
    "person.birthday_years()\n",
    "\n"
   ]
  },
  {
   "cell_type": "markdown",
   "id": "322b2017",
   "metadata": {},
   "source": [
    "7.BankAccount Class\n",
    "- Attributes: owner, account_number, balance.\n",
    "Methods:\n",
    "- deposit(): Increase the balance.\n",
    "- withdraw(): Decreases balance (check for sufficient funds).\n",
    "- show_info(): Prints the account information."
   ]
  },
  {
   "cell_type": "code",
   "execution_count": 47,
   "id": "4dbddd3c",
   "metadata": {},
   "outputs": [],
   "source": [
    "class BankAccount:\n",
    "    def __init__(self, owner, account_number, balance=0):\n",
    "        self.owner = owner  # Propietario de la cuenta\n",
    "        self.account_number = account_number  # Número de cuenta\n",
    "        self.balance = balance  # Saldo inicial (por defecto es 0)\n",
    "\n",
    "    def deposit(self, amount):\n",
    "        \"\"\"Incrementa el saldo con el monto especificado.\"\"\"\n",
    "        if amount > 0:\n",
    "            self.balance += amount\n",
    "            print(f\"${amount} has been deposited. New balance: ${self.balance}\")\n",
    "        else:\n",
    "            print(\"Deposit amount must be positive.\")\n",
    "\n",
    "    def withdraw(self, amount):\n",
    "        \"\"\"Reduce el saldo, verificando si hay fondos suficientes.\"\"\"\n",
    "        if amount > 0:\n",
    "            if amount <= self.balance:\n",
    "                self.balance -= amount\n",
    "                print(f\"${amount} has been withdrawn. New balance: ${self.balance}\")\n",
    "            else:\n",
    "                print(\"Insufficient funds.\")\n",
    "        else:\n",
    "            print(\"Withdrawal amount must be positive.\")\n",
    "\n",
    "    def show_info(self):\n",
    "        \"\"\"Muestra la información de la cuenta.\"\"\"\n",
    "        print(f\"Account Owner: {self.owner}\")\n",
    "        print(f\"Account Number: {self.account_number}\")\n",
    "        print(f\"Current Balance: ${self.balance}\")\n"
   ]
  },
  {
   "cell_type": "code",
   "execution_count": 48,
   "id": "a60a27f6",
   "metadata": {},
   "outputs": [
    {
     "name": "stdout",
     "output_type": "stream",
     "text": [
      "Account information:\n",
      "Account Owner: Miguel Villasante\n",
      "Account Number: 123456789\n",
      "Current Balance: $1000\n",
      "\n",
      "Making a deposit of $500:\n",
      "$500 has been deposited. New balance: $1500\n",
      "\n",
      "Attempting to withdraw $2000:\n",
      "Insufficient funds.\n",
      "\n",
      "Withdrawing $300:\n",
      "$300 has been withdrawn. New balance: $1200\n",
      "\n",
      "Final account information:\n",
      "Account Owner: Miguel Villasante\n",
      "Account Number: 123456789\n",
      "Current Balance: $1200\n"
     ]
    }
   ],
   "source": [
    "# Crear una cuenta bancaria\n",
    "account = BankAccount(\"Miguel Villasante\", \"123456789\", 1000)\n",
    "\n",
    "# Mostrar información de la cuenta\n",
    "print(\"Account information:\")\n",
    "account.show_info()\n",
    "\n",
    "# Realizar un depósito\n",
    "print(\"\\nMaking a deposit of $500:\")\n",
    "account.deposit(500)\n",
    "\n",
    "# Intentar retirar más dinero del que hay en el saldo\n",
    "print(\"\\nAttempting to withdraw $2000:\")\n",
    "account.withdraw(2000)\n",
    "\n",
    "# Retirar una cantidad válida\n",
    "print(\"\\nWithdrawing $300:\")\n",
    "account.withdraw(300)\n",
    "\n",
    "# Mostrar la información final de la cuenta\n",
    "print(\"\\nFinal account information:\")\n",
    "account.show_info()"
   ]
  },
  {
   "cell_type": "markdown",
   "id": "e7e8666b",
   "metadata": {},
   "source": [
    "\n",
    "8.Create a class called Mascot that represents a mascot in a store. The class must have the following attributes and methods:\n",
    "\n",
    "Attributes:\n",
    "\n",
    "- name: The name of the pet.\n",
    "- species: The species of the pet (dog, cat, etc.).\n",
    "- breed: The breed of the pet.\n",
    "- age: The age of the pet.\n",
    "- price: The price of the pet.\n",
    "\n",
    "Methods:\n",
    "\n",
    "- __init__(self, name, species, race, age, price): Constructor that initializes the class with the given attributes.\n",
    "- show_information(self): Prints the pet information in a readable format.\n",
    "- discount(self, percentage): Applies a discount to the price of the pet."
   ]
  },
  {
   "cell_type": "code",
   "execution_count": 49,
   "id": "c1dcdb63",
   "metadata": {},
   "outputs": [
    {
     "name": "stdout",
     "output_type": "stream",
     "text": [
      "Mascot Information:\n",
      "Name: Rita\n",
      "Species: Dog\n",
      "Breed: Viringo peruano\n",
      "Age: 3 years\n",
      "Price: $7300.00\n",
      "Applied a discount of 1%. New price: $7227.00\n",
      "Mascot Information:\n",
      "Name: Rita\n",
      "Species: Dog\n",
      "Breed: Viringo peruano\n",
      "Age: 3 years\n",
      "Price: $7227.00\n"
     ]
    }
   ],
   "source": [
    "class Mascot:\n",
    "\n",
    "    def __init__(self, name, species, breed, age, price):\n",
    "        \n",
    "        self.name = name\n",
    "        self.species = species\n",
    "        self.breed = breed\n",
    "        self.age = age\n",
    "        self.price = price\n",
    "    \n",
    "    def show_information(self):\n",
    "       \n",
    "        print(\"Mascot Information:\")\n",
    "        print(f\"Name: {self.name}\")\n",
    "        print(f\"Species: {self.species}\")\n",
    "        print(f\"Breed: {self.breed}\")\n",
    "        print(f\"Age: {self.age} years\")\n",
    "        print(f\"Price: ${self.price:.2f}\")\n",
    "    \n",
    "    def discount(self, percentage):\n",
    "   \n",
    "        if percentage < 0 or percentage > 100:\n",
    "            print(\"Invalid discount percentage. Must be between 0 and 100.\")\n",
    "        else:\n",
    "            discount_amount = self.price * (percentage / 100)\n",
    "            self.price -= discount_amount\n",
    "            print(f\"Applied a discount of {percentage}%. New price: ${self.price:.2f}\")\n",
    "\n",
    "\n",
    "mascot1 = Mascot(\"Rita\", \"Dog\", \"Viringo peruano\", 3, 7300.0)\n",
    "\n",
    "mascot1.show_information()\n",
    "\n",
    "mascot1.discount(1)\n",
    "\n",
    "mascot1.show_information()\n"
   ]
  }
 ],
 "metadata": {
  "kernelspec": {
   "display_name": "Python 3 (ipykernel)",
   "language": "python",
   "name": "python3"
  },
  "language_info": {
   "codemirror_mode": {
    "name": "ipython",
    "version": 3
   },
   "file_extension": ".py",
   "mimetype": "text/x-python",
   "name": "python",
   "nbconvert_exporter": "python",
   "pygments_lexer": "ipython3",
   "version": "3.11.5"
  }
 },
 "nbformat": 4,
 "nbformat_minor": 5
}
