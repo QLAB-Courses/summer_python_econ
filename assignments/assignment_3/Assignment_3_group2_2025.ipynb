{
 "cells": [
  {
   "cell_type": "markdown",
   "id": "6af48ac7",
   "metadata": {},
   "source": [
    " # Assignment_3"
   ]
  },
  {
   "cell_type": "markdown",
   "id": "25573cde",
   "metadata": {},
   "source": [
    "If you copy codes from previous answers, explain each step. No explanation is 0 points."
   ]
  },
  {
   "cell_type": "markdown",
   "id": "cbfa5119",
   "metadata": {},
   "source": [
    "## Part 1. Functions"
   ]
  },
  {
   "cell_type": "markdown",
   "id": "02154d93",
   "metadata": {},
   "source": [
    "1.Write a function that takes two numeric parameters, `a` and `b`, and subtracts both numbers, such that `c = a - b`. Expresses `c` as the value to return.\n"
   ]
  },
  {
   "cell_type": "code",
   "execution_count": 2,
   "id": "068c0590",
   "metadata": {},
   "outputs": [],
   "source": [
    "#I simply define a function with two arguments\n",
    "def sum(a,b):\n",
    "    c = a - b \n",
    "    print(c)\n"
   ]
  },
  {
   "cell_type": "code",
   "execution_count": 3,
   "id": "6e0b1a50",
   "metadata": {},
   "outputs": [
    {
     "name": "stdout",
     "output_type": "stream",
     "text": [
      "3\n"
     ]
    }
   ],
   "source": [
    "sum(7,4)"
   ]
  },
  {
   "cell_type": "markdown",
   "id": "4f6cfa9f",
   "metadata": {},
   "source": [
    "2.Write a function that transforms the temperature from degrees Celsius to degrees Fahrenheit. The formula is:    \n",
    "$F = 1.8*C + 32$"
   ]
  },
  {
   "cell_type": "code",
   "execution_count": 4,
   "id": "6f36ce6c",
   "metadata": {},
   "outputs": [],
   "source": [
    "def celsius_a_fahrenheit(temp_c):\n",
    "    '''\n",
    "     transform temperature from celsius to fahrenheit\n",
    "    Input: \n",
    "        temp_c:float number\n",
    "    Output: \n",
    "        returns: float number\n",
    "    '''\n",
    " \n",
    "    \n",
    "    \n",
    "    #Write your function here\n",
    "    \n",
    "    temp_f = temp_c*1.8 +32 #transcript the formula\n",
    "    \n",
    "    return temp_f "
   ]
  },
  {
   "cell_type": "code",
   "execution_count": 5,
   "id": "00947654",
   "metadata": {},
   "outputs": [
    {
     "data": {
      "text/plain": [
       "89.6"
      ]
     },
     "execution_count": 5,
     "metadata": {},
     "output_type": "execute_result"
    }
   ],
   "source": [
    "celsius_a_fahrenheit(32)"
   ]
  },
  {
   "cell_type": "markdown",
   "id": "6b34b729",
   "metadata": {},
   "source": [
    "3.Write a function that gives the result of a division of two numbers, however, the result must be a mixed number. \n",
    "\n",
    "Mixed numbers are a representation that has an integer part and a part less than one. For example, $50 / 7$ is represented as follows:\n",
    "$\n",
    "  7\\frac{1}{7}\n",
    "$  \n",
    "\n",
    "Another example: $23 / 4$ would be \n",
    "$\n",
    "  5\\frac{3}{4}\n",
    "$  \n",
    "\n",
    "The function takes 2 arguments: first, the number to divide, and second, the divisor. \n",
    "\n",
    "The function returns a list with 3 elements: the integer, the numerator of the fraction and the denominator of the fraction. \n",
    "\n",
    "For example, ``` mixed_number(23,4)``` results in ```[5, 3, 4] ```. \n",
    "\n",
    "``` mixed_number(24,4)``` results in ```[6, 0, 4] ```. \n",
    "\n",
    "Hint: floor and module"
   ]
  },
  {
   "cell_type": "code",
   "execution_count": 6,
   "id": "9c03d2c3",
   "metadata": {},
   "outputs": [],
   "source": [
    "def mixed_numb(num, den): #de fraccion impropia a mixto\n",
    "    '''\n",
    "\n",
    "    Convert division to mixed number\n",
    "    Input: \n",
    "        num: integer\n",
    "        den: integer\n",
    "    Output: \n",
    "        returns: list with 3 numbers\n",
    "    '''\n",
    "    \n",
    "    if num > den: # I establish this appropiate condition to work with improper fractions\n",
    "        division = num // den #to have floats as a result\n",
    "        division_residue = num % den \n",
    "      \n",
    "    \n",
    "    else:\n",
    "        print( \"Only improper fractions\")\n",
    "  \n",
    "\n",
    "    return print( division, division_residue, den)\n",
    "        \n",
    "        \n",
    "        \n",
    "    \n",
    "    "
   ]
  },
  {
   "cell_type": "code",
   "execution_count": 7,
   "id": "56a2b032",
   "metadata": {},
   "outputs": [
    {
     "name": "stdout",
     "output_type": "stream",
     "text": [
      "2 4 5\n"
     ]
    }
   ],
   "source": [
    "mixed_numb(14,5)"
   ]
  },
  {
   "cell_type": "markdown",
   "id": "fc467ef8",
   "metadata": {},
   "source": [
    "4.We have the next function"
   ]
  },
  {
   "cell_type": "code",
   "execution_count": 8,
   "id": "f5cea8d3",
   "metadata": {},
   "outputs": [],
   "source": [
    "def school_grade(age):\n",
    "    \n",
    "    ''' \n",
    "    calculate the school grade you belong to according to your age\n",
    "    Input: \n",
    "    age: int\n",
    "    output: tuple, composed of \n",
    "    grade: string\n",
    "    esp: specific what degree\n",
    "    \n",
    "    '''\n",
    "    \n",
    "    if ((age < 6) | (age > 17)):\n",
    "        return \"Isn't in school grader\"\n",
    "    #assert age > 5 & age < 17\n",
    "    elif ((age >=6) & (age < 12)):\n",
    "        grade = \"Primary\"\n",
    "        if age == 6:\n",
    "            esp = \"1st grade\"\n",
    "        elif age == 7:\n",
    "            esp = \"2nd grade\"\n",
    "        elif age == 8:\n",
    "            esp = \"3rd grade\"\n",
    "        elif age == 9:\n",
    "            esp = \"4th grade\"\n",
    "        elif age == 10:\n",
    "            esp = \"5th grade\"\n",
    "        else:\n",
    "            esp= \"6th grade\"\n",
    "        \n",
    "    else:\n",
    "        grade = \"Highschool\"\n",
    "        if age == 12:\n",
    "            esp = \"1st grade\"\n",
    "        elif age == 13:\n",
    "            esp = \"2nd grade\"\n",
    "        elif age == 14:\n",
    "            esp = \"3rd grade\"\n",
    "        elif age == 15:\n",
    "            esp = \"4th grade\"\n",
    "        else:\n",
    "            esp = \"5th grade\"\n",
    "            \n",
    "    return grade, esp"
   ]
  },
  {
   "cell_type": "code",
   "execution_count": 9,
   "id": "3aa556e5",
   "metadata": {},
   "outputs": [
    {
     "data": {
      "text/plain": [
       "('Highschool', '1st grade')"
      ]
     },
     "execution_count": 9,
     "metadata": {},
     "output_type": "execute_result"
    }
   ],
   "source": [
    "school_grade(12)"
   ]
  },
  {
   "cell_type": "markdown",
   "id": "73fe2efd",
   "metadata": {},
   "source": [
    "Likewise, we have 7 children, who are of the following ages:   \n",
    "    `ages = [2, 4, 6, 7, 10, 15, 16]`  \n",
    "We want to know what grades/years these children go to. To do this, create an empty list. In this list you will store the result of said function for each of the ages in this list. Use a for loop . \n",
    "\n",
    "Hint: To get familiar with the feature, you can use it with ages within the school age range."
   ]
  },
  {
   "cell_type": "code",
   "execution_count": 10,
   "id": "17327b48",
   "metadata": {},
   "outputs": [],
   "source": [
    "#I define this list with my kids age\n",
    "my_sons = [2, 4, 6, 7, 10, 15, 16]"
   ]
  },
  {
   "cell_type": "code",
   "execution_count": 11,
   "id": "ae8f8e43",
   "metadata": {},
   "outputs": [
    {
     "name": "stdout",
     "output_type": "stream",
     "text": [
      "[\"Isn't in school grader\", \"Isn't in school grader\", ('Primary', '1st grade'), ('Primary', '2nd grade'), ('Primary', '5th grade'), ('Highschool', '4th grade'), ('Highschool', '5th grade')]\n"
     ]
    }
   ],
   "source": [
    "#computing where this kids go \n",
    "\n",
    "where_they_go = [] #empty list\n",
    "for x in my_sons:\n",
    "    where_they_go.append(school_grade(x)) #evaluating their ages in the function and adding with append\n",
    "\n",
    "print(where_they_go)\n"
   ]
  },
  {
   "cell_type": "markdown",
   "id": "5cc317cd",
   "metadata": {},
   "source": [
    "5. Write a function that converts Lima time (GMT -5) into 4 possible hours: \n",
    "- Vanuatu Time (GMT +11)  \n",
    "- Dominica Time (GMT - 4)\n",
    "- Time Abuja, Nigeria (GMT +1)\n",
    "- Beijing, China Time (GMT +8)  \n",
    "(We can use a dictionary inside the function, to find the city-time pairs more easily.)\n",
    "\n",
    "Let's assume that we will only use whole hours. \n",
    "The function must have 2 parameters: \n",
    "- the Lima time that we want to convert (integer). \n",
    "- the city (string) to which we want to convert the time.\n",
    "\n",
    "The function must return the time (0 to 24 hours) as a number (can be a float ending in .0). Be careful that you have to handle the case when the sum is more than 24 hours (Hint: %). \n",
    "There are cases in which the time can be negative (Hint: See it as a subtraction)"
   ]
  },
  {
   "cell_type": "code",
   "execution_count": 12,
   "id": "6ce93501",
   "metadata": {},
   "outputs": [
    {
     "ename": "NameError",
     "evalue": "name 'valor3' is not defined",
     "output_type": "error",
     "traceback": [
      "\u001b[1;31m---------------------------------------------------------------------------\u001b[0m",
      "\u001b[1;31mNameError\u001b[0m                                 Traceback (most recent call last)",
      "Cell \u001b[1;32mIn[12], line 7\u001b[0m\n\u001b[0;32m      5\u001b[0m valor1 \u001b[38;5;241m=\u001b[39m rest_numerico[\u001b[38;5;241m0\u001b[39m]\n\u001b[0;32m      6\u001b[0m valor2 \u001b[38;5;241m=\u001b[39m rest_numerico[\u001b[38;5;241m5\u001b[39m]\n\u001b[1;32m----> 7\u001b[0m \u001b[43mvalor3\u001b[49m\n\u001b[0;32m      8\u001b[0m \u001b[38;5;28;01mdef\u001b[39;00m \u001b[38;5;21mtime1\u001b[39m(x):\n\u001b[0;32m      9\u001b[0m     res1 \u001b[38;5;241m=\u001b[39m x \u001b[38;5;241m+\u001b[39m \u001b[38;5;241m5\u001b[39m\n",
      "\u001b[1;31mNameError\u001b[0m: name 'valor3' is not defined"
     ]
    }
   ],
   "source": [
    "times = {\"Lima (Principal)(GMT-5)\" : '18.00',\"Vanuatu (GMT+4)\": '27.00', \"Dominica (GMT-4)\": '19.00', \"Abuja (GMT +1)\": '24.00',\n",
    "    \"Bejing (GMT +8)\": '7.00', \"GMT general\": '23.00' }\n",
    "\n",
    "rest_numerico = [float(valor) for valor in times.values()]\n",
    "valor1 = rest_numerico[0]\n",
    "valor2 = rest_numerico[5]\n",
    "valor3\n",
    "def time1(x):\n",
    "    res1 = x + 5\n",
    "    return res1\n",
    "valor3 = time1(valor1)\n",
    "#Este valor3 seria la hora actual en GMT y ya depende y le sumamos o restamos\n",
    "# Este y continuo significa la gmt que no varia es el punto medio, el x si se le agrega o resta al gmt, ejemplo con Vanuatu Tim\n",
    "# que es 27 , restandole 24h seria 3 am\n",
    "\n",
    "def gmtgen(x,y=23):\n",
    "    result = x+y\n",
    "    if (24<result):\n",
    "        result2 = result - 24\n",
    "        return f\"{result2} am\"\n",
    "    else:\n",
    "        return f\"{result} pm\"\n",
    "gmtgen(x=-5)"
   ]
  },
  {
   "cell_type": "markdown",
   "id": "3f807c98",
   "metadata": {},
   "source": [
    "## Part 2. Classes"
   ]
  },
  {
   "cell_type": "markdown",
   "id": "3a35bf23",
   "metadata": {},
   "source": [
    "6. Person Class\n",
    "- Attributes: name, age, address.\n",
    "Methods:\n",
    "__init__(): Constructor to initialize attributes.\n",
    "- greet(): Print a custom greeting.\n",
    "- birthday_years(): Increases the age by one."
   ]
  },
  {
   "cell_type": "code",
   "execution_count": 21,
   "id": "390840c8",
   "metadata": {},
   "outputs": [],
   "source": [
    "#6\n",
    "class Person:\n",
    "  def __init__(self, name, age, address): #attributes\n",
    "    self.name = name\n",
    "    self.age = age\n",
    "    self.address = address\n",
    "    #methods\n",
    "  def print_name( self ):\n",
    "    print( f'Iam { self.name}.' )\n",
    "  def print_age( self ):\n",
    "    print( f'Iam { self. age} years old.' )\n",
    "  def print_address( self ):\n",
    "    print( f'I live in { self. address}.' )\n",
    "  def greet( self ): #method to provide a simple greet using attributes\n",
    "    print(f'Hello there! my name is { self.name }. Nice to meeet you!' )\n",
    "  def birthday_years( self ): #this is for the age\n",
    "    self.age += 1\n",
    "    print( f'Happy birthday, my dear { self.name }! Enjoy your { self.age }s' )\n",
    "    \n",
    "    \n",
    "          \n",
    "    \n",
    "\n",
    "\n",
    "\n"
   ]
  },
  {
   "cell_type": "code",
   "execution_count": 31,
   "id": "b51d9f2f",
   "metadata": {},
   "outputs": [],
   "source": [
    "girl = Person( name = \"Sofia\", age = 19, address = \"Los Olivos\")"
   ]
  },
  {
   "cell_type": "code",
   "execution_count": 33,
   "id": "5cb01119",
   "metadata": {},
   "outputs": [
    {
     "name": "stdout",
     "output_type": "stream",
     "text": [
      "Hello there! my name is Sofia. Nice to meeet you!\n"
     ]
    }
   ],
   "source": [
    "girl.greet()"
   ]
  },
  {
   "cell_type": "code",
   "execution_count": 29,
   "id": "e2e25c5d",
   "metadata": {},
   "outputs": [
    {
     "name": "stdout",
     "output_type": "stream",
     "text": [
      "Happy birthday, my dear Sofia! Enjoy your 20s\n"
     ]
    }
   ],
   "source": [
    "girl.birthday_years()"
   ]
  },
  {
   "cell_type": "markdown",
   "id": "78bfb6d3",
   "metadata": {},
   "source": [
    "7.BankAccount Class\n",
    "- Attributes: owner, account_number, balance.\n",
    "Methods:\n",
    "- deposit(): Increase the balance.\n",
    "- withdraw(): Decreases balance (check for sufficient funds).\n",
    "- show_info(): Prints the account information."
   ]
  },
  {
   "cell_type": "code",
   "execution_count": 34,
   "id": "54e50aea",
   "metadata": {},
   "outputs": [],
   "source": [
    "class BankAccount:\n",
    "    def __init__( self, owner, account_number, balance = 0): #I define a default balance\n",
    "        self.owner = owner\n",
    "        self.account_number = account_number \n",
    "        self.balance = balance\n",
    "        \n",
    "    def deposit( self, amount ): \n",
    "        if amount > 0: #the accounts accept only positive numbers (money)\n",
    "            self.balance += amount \n",
    "            print( f'New balance ${ self. balance}') \n",
    "        else: \n",
    "            print( \"Try again\")      \n",
    "                  \n",
    "    def withdraw( self, amount ): #I verify if its possible to retire the money\n",
    "         if  0 < amount <= self.balance: #then its possible to withdraw\n",
    "             self.balance -= amount \n",
    "             print( f'Succesful withdrawal. New balance: $ { self.balance }') \n",
    "         else:\n",
    "             print(\"Invalid amount\")\n",
    "      \n",
    "    def show_info(self): #to update the info\n",
    "                   print(f'Owner: {self.owner}')\n",
    "                   print(f'Account number: {self.account_number}') \n",
    "                   print(f'Balance: {self.balance}')\n",
    "                   \n",
    "                   \n",
    "                  \n",
    "                  \n",
    "                  "
   ]
  },
  {
   "cell_type": "code",
   "execution_count": 35,
   "id": "19f133ce",
   "metadata": {},
   "outputs": [],
   "source": [
    "jhonsito = BankAccount( owner= \"Jhon\", account_number= 7388374, balance= 50)"
   ]
  },
  {
   "cell_type": "code",
   "execution_count": 36,
   "id": "320c560c",
   "metadata": {},
   "outputs": [
    {
     "name": "stdout",
     "output_type": "stream",
     "text": [
      "New balance $70\n"
     ]
    }
   ],
   "source": [
    "jhonsito.deposit(20)\n"
   ]
  },
  {
   "cell_type": "code",
   "execution_count": 37,
   "id": "0f2bfff0",
   "metadata": {},
   "outputs": [
    {
     "name": "stdout",
     "output_type": "stream",
     "text": [
      "Succesful withdrawal. New balance: $ 30\n"
     ]
    }
   ],
   "source": [
    "jhonsito.withdraw(40)"
   ]
  },
  {
   "cell_type": "code",
   "execution_count": 38,
   "id": "304e0677",
   "metadata": {},
   "outputs": [
    {
     "name": "stdout",
     "output_type": "stream",
     "text": [
      "Owner: Jhon\n",
      "Account number: 7388374\n",
      "Balance: 30\n"
     ]
    }
   ],
   "source": [
    "jhonsito.show_info()"
   ]
  },
  {
   "cell_type": "markdown",
   "id": "6758f373",
   "metadata": {},
   "source": [
    "\n",
    "8.Create a class called Mascot that represents a mascot in a store. The class must have the following attributes and methods:\n",
    "\n",
    "Attributes:\n",
    "\n",
    "- name: The name of the pet.\n",
    "- species: The species of the pet (dog, cat, etc.).\n",
    "- breed: The breed of the pet.\n",
    "- age: The age of the pet.\n",
    "- price: The price of the pet.\n",
    "\n",
    "Methods:\n",
    "\n",
    "- __init__(self, name, species, race, age, price): Constructor that initializes the class with the given attributes.\n",
    "- show_information(self): Prints the pet information in a readable format.\n",
    "- discount(self, percentage): Applies a discount to the price of the pet."
   ]
  },
  {
   "cell_type": "code",
   "execution_count": 16,
   "id": "2fb26845",
   "metadata": {},
   "outputs": [
    {
     "name": "stdout",
     "output_type": "stream",
     "text": [
      "Información de la mascota:\n",
      "Nombre: Luna\n",
      "Especie: Perro\n",
      "Raza: Mestizo\n",
      "Edad: 4 años\n",
      "Precio: $ 20000\n",
      "Se aplicó descuento de 20 %.\n",
      "Nuevo precio: $ 16000.0\n",
      "Información de la mascota:\n",
      "Nombre: Luna\n",
      "Especie: Perro\n",
      "Raza: Mestizo\n",
      "Edad: 4 años\n",
      "Precio: $ 16000.0\n"
     ]
    }
   ],
   "source": [
    "# Clase que representa una mascota\n",
    "class Mascot:\n",
    "    def __init__(self, name, species, breed, age, price):\n",
    "        # Guardar los datos de la mascota\n",
    "        self.name = name\n",
    "        self.species = species\n",
    "        self.breed = breed\n",
    "        self.age = age\n",
    "        self.price = price\n",
    "\n",
    "    def show_information(self):\n",
    "        # Mostrar la información de la mascota\n",
    "        print(\"Información de la mascota:\")\n",
    "        print(\"Nombre:\", self.name)\n",
    "        print(\"Especie:\", self.species)\n",
    "        print(\"Raza:\", self.breed)\n",
    "        print(\"Edad:\", self.age, \"años\")\n",
    "        print(\"Precio: $\", self.price)\n",
    "\n",
    "    def discount(self, percentage):\n",
    "        # Aplicar un descuento al precio\n",
    "        if percentage >= 0 and percentage <= 100:\n",
    "            discount_amount = self.price * (percentage / 100)\n",
    "            self.price = self.price - discount_amount\n",
    "            print(\"Se aplicó descuento de\", percentage, \"%.\")\n",
    "            print(\"Nuevo precio: $\", self.price)\n",
    "        else:\n",
    "            print(\"El porcentaje de descuento no es válido.\")\n",
    "\n",
    "\n",
    "# Creamos una mascota\n",
    "mi_mascota = Mascot(\"Luna\", \"Perro\", \"Mestizo\", 4, 20000)\n",
    "\n",
    "# Mostramos la información\n",
    "mi_mascota.show_information()\n",
    "\n",
    "# Aplicamos un descuento del 20%\n",
    "mi_mascota.discount(20)\n",
    "\n",
    "# Mostramos la información actualizada\n",
    "mi_mascota.show_information()\n"
   ]
  }
 ],
 "metadata": {
  "kernelspec": {
   "display_name": "Python 3",
   "language": "python",
   "name": "python3"
  },
  "language_info": {
   "codemirror_mode": {
    "name": "ipython",
    "version": 3
   },
   "file_extension": ".py",
   "mimetype": "text/x-python",
   "name": "python",
   "nbconvert_exporter": "python",
   "pygments_lexer": "ipython3",
   "version": "3.9.13"
  }
 },
 "nbformat": 4,
 "nbformat_minor": 5
}
