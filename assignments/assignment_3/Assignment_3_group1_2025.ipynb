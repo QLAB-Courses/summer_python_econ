{
 "cells": [
  {
   "cell_type": "markdown",
   "id": "7e746ee3",
   "metadata": {},
   "source": [
    " # Assignment_3"
   ]
  },
  {
   "cell_type": "markdown",
   "id": "088d0039",
   "metadata": {},
   "source": [
    "If you copy codes from previous answers, explain each step. No explanation is 0 points."
   ]
  },
  {
   "cell_type": "markdown",
   "id": "8a7283c3",
   "metadata": {},
   "source": [
    "## Part 1. Functions"
   ]
  },
  {
   "cell_type": "markdown",
   "id": "18bc971d",
   "metadata": {},
   "source": [
    "1.Write a function that takes two numeric parameters, `a` and `b`, and subtracts both numbers, such that `c = a - b`. Expresses `c` as the value to return.\n"
   ]
  },
  {
   "cell_type": "code",
   "execution_count": null,
   "id": "102107b0",
   "metadata": {},
   "outputs": [],
   "source": []
  },
  {
   "cell_type": "markdown",
   "id": "1000d0eb",
   "metadata": {},
   "source": [
    "2.Write a function that transforms the temperature from degrees Celsius to degrees Fahrenheit. The formula is:    \n",
    "$F = 1.8*C + 32$"
   ]
  },
  {
   "cell_type": "code",
   "execution_count": null,
   "id": "b42821e6",
   "metadata": {},
   "outputs": [],
   "source": [
    "def celsius_a_fahrenheit(temp_c):\n",
    "    '''\n",
    "     transform temperature from celsius to fahrenheit\n",
    "    Input: \n",
    "        temp_c:float number\n",
    "    Output: \n",
    "        returns: float number\n",
    "    '''\n",
    "    \n",
    "    #Write your function here\n",
    "    \n",
    "    return temp_f "
   ]
  },
  {
   "cell_type": "markdown",
   "id": "a5fdb6e3",
   "metadata": {},
   "source": [
    "3.Write a function that gives the result of a division of two numbers, however, the result must be a mixed number. \n",
    "\n",
    "Mixed numbers are a representation that has an integer part and a part less than one. For example, $50 / 7$ is represented as follows:\n",
    "$\n",
    "  7\\frac{1}{7}\n",
    "$  \n",
    "\n",
    "Another example: $23 / 4$ would be \n",
    "$\n",
    "  5\\frac{3}{4}\n",
    "$  \n",
    "\n",
    "The function takes 2 arguments: first, the number to divide, and second, the divisor. \n",
    "\n",
    "The function returns a list with 3 elements: the integer, the numerator of the fraction and the denominator of the fraction. \n",
    "\n",
    "For example, ``` mixed_number(23,4)``` results in ```[5, 3, 4] ```. \n",
    "\n",
    "``` mixed_number(24,4)``` results in ```[6, 0, 4] ```. \n",
    "\n",
    "Hint: floor and module"
   ]
  },
  {
   "cell_type": "code",
   "execution_count": null,
   "id": "38469b01",
   "metadata": {},
   "outputs": [],
   "source": [
    "def mixed_numb(num, den):\n",
    "    '''\n",
    "\n",
    "    Convert division to mixed number\n",
    "    Input: \n",
    "        num: integer\n",
    "        den: integer\n",
    "    Output: \n",
    "        returns: list with 3 numbers\n",
    "    '''"
   ]
  },
  {
   "cell_type": "markdown",
   "id": "aee1d361",
   "metadata": {},
   "source": [
    "4.We have the next function"
   ]
  },
  {
   "cell_type": "code",
   "execution_count": null,
   "id": "802c0a2e",
   "metadata": {},
   "outputs": [],
   "source": [
    "def school_grade(age):\n",
    "    \n",
    "''' calculate the school grade you belong to according to your age\n",
    "    Input: \n",
    "    age: int\n",
    "    output: tuple, composed of \n",
    "    grade: string\n",
    "    esp: specific what degree\n",
    "    \n",
    "    '''\n",
    "    \n",
    "    if ((age < 6) | (age > 17)):\n",
    "        return \"Isn't in school grader\"\n",
    "    #assert age > 5 & age < 17\n",
    "    elif ((age >=6) & (age < 12)):\n",
    "        grade = \"Primary\"\n",
    "        if age == 6:\n",
    "            esp = \"1st grade\"\n",
    "        elif age == 7:\n",
    "            esp = \"2nd grade\"\n",
    "        elif age == 8:\n",
    "            esp = \"3rd grade\"\n",
    "        elif age == 9:\n",
    "            esp = \"4th grade\"\n",
    "        elif age == 10:\n",
    "            esp = \"5th grade\"\n",
    "        else:\n",
    "            esp= \"6th grade\"\n",
    "        \n",
    "    else:\n",
    "        grade = \"Highschool\"\n",
    "        if age == 12:\n",
    "            esp = \"1st grade\"\n",
    "        elif age == 13:\n",
    "            esp = \"2nd grade\"\n",
    "        elif age == 14:\n",
    "            esp = \"3rd grade\"\n",
    "        elif age == 15:\n",
    "            esp = \"4th grade\"\n",
    "        else:\n",
    "            esp = \"5th grade\"\n",
    "            \n",
    "    return grade, esp"
   ]
  },
  {
   "cell_type": "markdown",
   "id": "1214a8f3",
   "metadata": {},
   "source": [
    "Likewise, we have 7 children, who are of the following ages:   \n",
    "    `ages = [2, 4, 6, 7, 10, 15, 16]`  \n",
    "We want to know what grades/years these children go to. To do this, create an empty list. In this list you will store the result of said function for each of the ages in this list. Use a for loop . \n",
    "\n",
    "Hint: To get familiar with the feature, you can use it with ages within the school age range."
   ]
  },
  {
   "cell_type": "code",
   "execution_count": null,
   "id": "4e1a5d9c",
   "metadata": {},
   "outputs": [],
   "source": []
  },
  {
   "cell_type": "markdown",
   "id": "e4d2b12e",
   "metadata": {},
   "source": [
    "5. Write a function that converts Lima time (GMT -5) into 4 possible hours: \n",
    "- Vanuatu Time (GMT +11)  \n",
    "- Dominica Time (GMT - 4)\n",
    "- Time Abuja, Nigeria (GMT +1)\n",
    "- Beijing, China Time (GMT +8)  \n",
    "(We can use a dictionary inside the function, to find the city-time pairs more easily.)\n",
    "\n",
    "Let's assume that we will only use whole hours. \n",
    "The function must have 2 parameters: \n",
    "- the Lima time that we want to convert (integer). \n",
    "- the city (string) to which we want to convert the time.\n",
    "\n",
    "The function must return the time (0 to 24 hours) as a number (can be a float ending in .0). Be careful that you have to handle the case when the sum is more than 24 hours (Hint: %). \n",
    "There are cases in which the time can be negative (Hint: See it as a subtraction)"
   ]
  },
  {
   "cell_type": "code",
   "execution_count": null,
   "id": "eebe5ea5",
   "metadata": {},
   "outputs": [],
   "source": []
  },
  {
   "cell_type": "markdown",
   "id": "b5cc1e1c",
   "metadata": {},
   "source": [
    "## Part 2. Classes"
   ]
  },
  {
   "cell_type": "markdown",
   "id": "6167894a",
   "metadata": {},
   "source": [
    "6. Person Class\n",
    "- Attributes: name, age, address.\n",
    "Methods:\n",
    "__init__(): Constructor to initialize attributes.\n",
    "- greet(): Print a custom greeting.\n",
    "- birthday_years(): Increases the age by one."
   ]
  },
  {
   "cell_type": "code",
   "execution_count": 21,
   "id": "26b8ec28",
   "metadata": {},
   "outputs": [],
   "source": [
    "class personal_information:\n",
    "    def __init__(self, name, age, address):\n",
    "        self.name = name\n",
    "        self.age = age\n",
    "        self.address = address\n",
    "\n",
    "    def print_greet( self ):  #method\n",
    "        print(f'Hi, I am {self.name}. I live in {self.address}.')\n",
    "        \n",
    "    def print_birthday_years( self ): #method\n",
    "        add_year = self.age + 1\n",
    "        print(f'The age now is {add_year} years old')"
   ]
  },
  {
   "cell_type": "code",
   "execution_count": 22,
   "id": "3d3dc756-08e9-41eb-b0af-221b21c10479",
   "metadata": {},
   "outputs": [],
   "source": [
    "student= personal_information(name=\"Jesus Alfaro\", age= 21, address= \"Av.La Paz 120\") #We create a class of the personal_information then we called it student and assign the values."
   ]
  },
  {
   "cell_type": "code",
   "execution_count": 23,
   "id": "f3e33014-e77c-46e5-8e60-b3c8f7501208",
   "metadata": {},
   "outputs": [
    {
     "name": "stdout",
     "output_type": "stream",
     "text": [
      "Hi, I am Jesus Alfaro. I live in Av.La Paz 120.\n"
     ]
    }
   ],
   "source": [
    "student.print_greet() #Call the method print_greet"
   ]
  },
  {
   "cell_type": "code",
   "execution_count": 24,
   "id": "1fd11b19-0031-4e2c-ae8c-856e91fc3c4e",
   "metadata": {},
   "outputs": [
    {
     "name": "stdout",
     "output_type": "stream",
     "text": [
      "The age now is 22 years old\n"
     ]
    }
   ],
   "source": [
    "student.print_birthday_years() #Call the method print_birthday_years"
   ]
  },
  {
   "cell_type": "markdown",
   "id": "322b2017",
   "metadata": {},
   "source": [
    "7.BankAccount Class\n",
    "- Attributes: owner, account_number, balance.\n",
    "Methods:\n",
    "- deposit(): Increase the balance.\n",
    "- withdraw(): Decreases balance (check for sufficient funds).\n",
    "- show_info(): Prints the account information."
   ]
  },
  {
   "cell_type": "code",
   "execution_count": 25,
   "id": "4dbddd3c",
   "metadata": {},
   "outputs": [],
   "source": [
    "class Bank_Account:\n",
    "    def __init__(self, owner, account_number, balance):\n",
    "        self.owner = owner\n",
    "        self.account_number = account_number\n",
    "        self.balance = balance\n",
    "\n",
    "    def deposit(self, x):  # Increase the balance\n",
    "        self.balance += x\n",
    "        print(f\"New balance after deposit: ${self.balance}\")\n",
    "\n",
    "    def withdraw(self, y):  # Decreases balance (check for sufficient funds)\n",
    "        if self.balance >= y:\n",
    "            self.balance -= y\n",
    "            print(f\"New balance after withdrawal: ${self.balance}\")\n",
    "        else:\n",
    "            pass\n",
    "\n",
    "    def show_info(self):  # Prints the account information\n",
    "        print(f\"Account Owner: {self.owner}\")\n",
    "        print(f\"Account Number: {self.account_number}\")\n",
    "        print(f\"Current Balance: ${self.balance}\")"
   ]
  },
  {
   "cell_type": "code",
   "execution_count": 26,
   "id": "c61d3e25-ae56-4c52-95e3-48bc892e2c9c",
   "metadata": {},
   "outputs": [],
   "source": [
    "person1= Bank_Account(\"Luis Torres\", 748356952,150 ) #We create a class of the Bank_Account then we called it person1 and assign the values."
   ]
  },
  {
   "cell_type": "code",
   "execution_count": 27,
   "id": "c3bc1433-13a6-47c9-a13f-83f180e2d557",
   "metadata": {},
   "outputs": [
    {
     "name": "stdout",
     "output_type": "stream",
     "text": [
      "New balance after deposit: $270\n"
     ]
    }
   ],
   "source": [
    "person1.deposit(120) #Call the method deposit and put a value to add"
   ]
  },
  {
   "cell_type": "code",
   "execution_count": 28,
   "id": "77f0a9d7-f301-43a1-be92-c9df8a1fb101",
   "metadata": {},
   "outputs": [
    {
     "name": "stdout",
     "output_type": "stream",
     "text": [
      "New balance after withdrawal: $180\n"
     ]
    }
   ],
   "source": [
    "person1.withdraw(90) #Call the method withdraw and set a value to decrement"
   ]
  },
  {
   "cell_type": "code",
   "execution_count": 29,
   "id": "2cac0319-6830-4265-adb7-c183271c34cf",
   "metadata": {},
   "outputs": [
    {
     "name": "stdout",
     "output_type": "stream",
     "text": [
      "Account Owner: Luis Torres\n",
      "Account Number: 748356952\n",
      "Current Balance: $180\n"
     ]
    }
   ],
   "source": [
    "person1.show_info() #Call the method show_info to show the new information"
   ]
  },
  {
   "cell_type": "markdown",
   "id": "e7e8666b",
   "metadata": {},
   "source": [
    "\n",
    "8.Create a class called Mascot that represents a mascot in a store. The class must have the following attributes and methods:\n",
    "\n",
    "Attributes:\n",
    "\n",
    "- name: The name of the pet.\n",
    "- species: The species of the pet (dog, cat, etc.).\n",
    "- breed: The breed of the pet.\n",
    "- age: The age of the pet.\n",
    "- price: The price of the pet.\n",
    "\n",
    "Methods:\n",
    "\n",
    "- __init__(self, name, species, race, age, price): Constructor that initializes the class with the given attributes.\n",
    "- show_information(self): Prints the pet information in a readable format.\n",
    "- discount(self, percentage): Applies a discount to the price of the pet."
   ]
  },
  {
   "cell_type": "code",
   "execution_count": 30,
   "id": "c1dcdb63",
   "metadata": {},
   "outputs": [],
   "source": [
    "class mascot:\n",
    "  def __init__(self,name,species, breed,age, price):\n",
    "      self.name = name\n",
    "      self.species = species\n",
    "      self.breed = breed\n",
    "      self.age = age\n",
    "      self.price = price\n",
    "\n",
    "  def show_information(self): #method\n",
    "      print(f\"Name: {self.name}\")\n",
    "      print(f\"Species: {self.species}\")\n",
    "      print(f\"Breed: {self.breed}\")\n",
    "      print(f\"Age: {self.age} years old\")\n",
    "      print(f\"Price: ${self.price}\")\n",
    "\n",
    "  def discount(self, percentage):  #method\n",
    "      new_price= ((percentage/100) * self.price)\n",
    "      print(f\"The new price is: ${new_price}\")"
   ]
  },
  {
   "cell_type": "code",
   "execution_count": 31,
   "id": "028a76a3-3f25-4424-93bc-7bb104aa207f",
   "metadata": {},
   "outputs": [],
   "source": [
    "pet1=mascot(\"Buddy\", \"Cat\", \"Siamese\", 4, 875) #We create a class of the mascot then we called it pet1 and assign the values."
   ]
  },
  {
   "cell_type": "code",
   "execution_count": 32,
   "id": "11030acf-3f6a-4afc-b254-2e8bebd70bf5",
   "metadata": {},
   "outputs": [
    {
     "name": "stdout",
     "output_type": "stream",
     "text": [
      "Name: Buddy\n",
      "Species: Cat\n",
      "Breed: Siamese\n",
      "Age: 4 years old\n",
      "Price: $875\n"
     ]
    }
   ],
   "source": [
    "pet1.show_information() #Call the method show_information"
   ]
  },
  {
   "cell_type": "code",
   "execution_count": 33,
   "id": "f0e7e1f6-2094-4c49-9981-6d3dd074ca4c",
   "metadata": {},
   "outputs": [
    {
     "name": "stdout",
     "output_type": "stream",
     "text": [
      "The new price is: $210.0\n"
     ]
    }
   ],
   "source": [
    "pet1.discount(24) #Call the method withdraw and set a value for the discount"
   ]
  }
 ],
 "metadata": {
  "kernelspec": {
   "display_name": "Python 3 (ipykernel)",
   "language": "python",
   "name": "python3"
  },
  "language_info": {
   "codemirror_mode": {
    "name": "ipython",
    "version": 3
   },
   "file_extension": ".py",
   "mimetype": "text/x-python",
   "name": "python",
   "nbconvert_exporter": "python",
   "pygments_lexer": "ipython3",
   "version": "3.12.7"
  }
 },
 "nbformat": 4,
 "nbformat_minor": 5
}
