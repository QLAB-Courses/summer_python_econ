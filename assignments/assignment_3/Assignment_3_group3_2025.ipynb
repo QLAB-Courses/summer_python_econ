{
 "cells": [
  {
   "cell_type": "markdown",
   "id": "7e746ee3",
   "metadata": {},
   "source": [
    " # Assignment_3"
   ]
  },
  {
   "cell_type": "markdown",
   "id": "088d0039",
   "metadata": {},
   "source": [
    "If you copy codes from previous answers, explain each step. No explanation is 0 points."
   ]
  },
  {
   "cell_type": "markdown",
   "id": "8a7283c3",
   "metadata": {},
   "source": [
    "## Part 1. Functions"
   ]
  },
  {
   "cell_type": "markdown",
   "id": "18bc971d",
   "metadata": {},
   "source": [
    "1.Write a function that takes two numeric parameters, `a` and `b`, and subtracts both numbers, such that `c = a - b`. Expresses `c` as the value to return.\n"
   ]
  },
  {
   "cell_type": "code",
   "execution_count": 1,
   "id": "102107b0",
   "metadata": {},
   "outputs": [],
   "source": [
    "# I define a function that takes two numbers as parameters\n",
    "def subtrac_numbers(a,b):\n",
    "    c= a-b\n",
    "    return c"
   ]
  },
  {
   "cell_type": "code",
   "execution_count": 2,
   "id": "9fef59b3",
   "metadata": {},
   "outputs": [
    {
     "data": {
      "text/plain": [
       "7"
      ]
     },
     "execution_count": 2,
     "metadata": {},
     "output_type": "execute_result"
    }
   ],
   "source": [
    "subtrac_numbers(10,3)"
   ]
  },
  {
   "cell_type": "code",
   "execution_count": 4,
   "id": "24f38b16",
   "metadata": {},
   "outputs": [
    {
     "name": "stdout",
     "output_type": "stream",
     "text": [
      "The result of the subtraction is:  7\n"
     ]
    }
   ],
   "source": [
    "result = subtrac_numbers(10,3)\n",
    "print (\"The result of the subtraction is: \", result)"
   ]
  },
  {
   "cell_type": "markdown",
   "id": "1000d0eb",
   "metadata": {},
   "source": [
    "2.Write a function that transforms the temperature from degrees Celsius to degrees Fahrenheit. The formula is:    \n",
    "$F = 1.8*C + 32$"
   ]
  },
  {
   "cell_type": "code",
   "execution_count": 6,
   "id": "b42821e6",
   "metadata": {},
   "outputs": [],
   "source": [
    "def celsius_a_fahrenheit(temp_c):\n",
    "    '''\n",
    "     transform temperature from celsius to fahrenheit\n",
    "    Input: \n",
    "        temp_c:float number\n",
    "    Output: \n",
    "        returns: float number\n",
    "    '''\n",
    "    \n",
    "    temp_f=(1.8* temp_c) + 32\n",
    "    \n",
    "    return temp_f "
   ]
  },
  {
   "cell_type": "code",
   "execution_count": 7,
   "id": "ebd3002b",
   "metadata": {},
   "outputs": [
    {
     "data": {
      "text/plain": [
       "77.612"
      ]
     },
     "execution_count": 7,
     "metadata": {},
     "output_type": "execute_result"
    }
   ],
   "source": [
    "# Now, I test my function with an example\n",
    "celsius_a_fahrenheit(25.34)"
   ]
  },
  {
   "cell_type": "code",
   "execution_count": 8,
   "id": "40630ae8",
   "metadata": {},
   "outputs": [],
   "source": [
    "result=  celsius_a_fahrenheit(25.34)"
   ]
  },
  {
   "cell_type": "code",
   "execution_count": 9,
   "id": "7088532b",
   "metadata": {},
   "outputs": [
    {
     "name": "stdout",
     "output_type": "stream",
     "text": [
      "The temperature in Fahrenheit is: 77.612\n"
     ]
    }
   ],
   "source": [
    "# I print the result to confirm that my function works correctly.\n",
    "print(\"The temperature in Fahrenheit is:\", result)"
   ]
  },
  {
   "cell_type": "markdown",
   "id": "a5fdb6e3",
   "metadata": {},
   "source": [
    "3.Write a function that gives the result of a division of two numbers, however, the result must be a mixed number. \n",
    "\n",
    "Mixed numbers are a representation that has an integer part and a part less than one. For example, $50 / 7$ is represented as follows:\n",
    "$\n",
    "  7\\frac{1}{7}\n",
    "$  \n",
    "\n",
    "Another example: $23 / 4$ would be \n",
    "$\n",
    "  5\\frac{3}{4}\n",
    "$  \n",
    "\n",
    "The function takes 2 arguments: first, the number to divide, and second, the divisor. \n",
    "\n",
    "The function returns a list with 3 elements: the integer, the numerator of the fraction and the denominator of the fraction. \n",
    "\n",
    "For example, ``` mixed_number(23,4)``` results in ```[5, 3, 4] ```. \n",
    "\n",
    "``` mixed_number(24,4)``` results in ```[6, 0, 4] ```. \n",
    "\n",
    "Hint: floor and module"
   ]
  },
  {
   "cell_type": "code",
   "execution_count": 10,
   "id": "38469b01",
   "metadata": {},
   "outputs": [
    {
     "name": "stdout",
     "output_type": "stream",
     "text": [
      "[5, 3, 4]\n"
     ]
    }
   ],
   "source": [
    "def mixed_numb(num, den):\n",
    "    '''\n",
    "\n",
    "    Convert division to mixed number\n",
    "    Input: \n",
    "        num: integer\n",
    "        den: integer\n",
    "    Output: \n",
    "        returns: list with 3 numbers\n",
    "    '''\n",
    "     # I calculate the integer part of the division\n",
    "    integer_part = num // den  \n",
    "    \n",
    "    # I calculate the remainder (numerator of the fraction)\n",
    "    numerator = num % den  \n",
    "    \n",
    "    # The denominator remains the same\n",
    "    denominator = den  \n",
    "\n",
    "    # I return the mixed number as a list\n",
    "    return [integer_part, numerator, denominator]\n",
    "\n",
    "# I test the function\n",
    "print(mixed_numb(23, 4)) "
   ]
  },
  {
   "cell_type": "code",
   "execution_count": 11,
   "id": "839f7934",
   "metadata": {},
   "outputs": [
    {
     "name": "stdout",
     "output_type": "stream",
     "text": [
      "[6, 0, 4]\n"
     ]
    }
   ],
   "source": [
    "print(mixed_numb(24, 4))  "
   ]
  },
  {
   "cell_type": "markdown",
   "id": "aee1d361",
   "metadata": {},
   "source": [
    "4.We have the next function"
   ]
  },
  {
   "cell_type": "code",
   "execution_count": 5,
   "id": "802c0a2e",
   "metadata": {},
   "outputs": [],
   "source": [
    "def school_grade(age):\n",
    "    '''\n",
    "    calculate the school grade you belong to according to your age\n",
    "    Input: \n",
    "    age: int\n",
    "    output: tuple, composed of \n",
    "    grade: string\n",
    "    esp: specific what degree\n",
    "    \n",
    "    '''\n",
    "    \n",
    "    if ((age < 6) | (age > 17)):\n",
    "        return \"Isn't in school grader\"\n",
    "    #assert age > 5 & age < 17\n",
    "    elif ((age >=6) & (age < 12)):\n",
    "        grade = \"Primary\"\n",
    "        if age == 6:\n",
    "            esp = \"1st grade\"\n",
    "        elif age == 7:\n",
    "            esp = \"2nd grade\"\n",
    "        elif age == 8:\n",
    "            esp = \"3rd grade\"\n",
    "        elif age == 9:\n",
    "            esp = \"4th grade\"\n",
    "        elif age == 10:\n",
    "            esp = \"5th grade\"\n",
    "        else:\n",
    "            esp= \"6th grade\"\n",
    "        \n",
    "    else:\n",
    "        grade = \"Highschool\"\n",
    "        if age == 12:\n",
    "            esp = \"1st grade\"\n",
    "        elif age == 13:\n",
    "            esp = \"2nd grade\"\n",
    "        elif age == 14:\n",
    "            esp = \"3rd grade\"\n",
    "        elif age == 15:\n",
    "            esp = \"4th grade\"\n",
    "        else:\n",
    "            esp = \"5th grade\"\n",
    "            \n",
    "    return grade, esp"
   ]
  },
  {
   "cell_type": "markdown",
   "id": "1214a8f3",
   "metadata": {},
   "source": [
    "Likewise, we have 7 children, who are of the following ages:   \n",
    "    `ages = [2, 4, 6, 7, 10, 15, 16]`  \n",
    "We want to know what grades/years these children go to. To do this, create an empty list. In this list you will store the result of said function for each of the ages in this list. Use a for loop . \n",
    "\n",
    "Hint: To get familiar with the feature, you can use it with ages within the school age range."
   ]
  },
  {
   "cell_type": "code",
   "execution_count": 6,
   "id": "4e1a5d9c",
   "metadata": {},
   "outputs": [
    {
     "name": "stdout",
     "output_type": "stream",
     "text": [
      "Age: 2 -> Grade: Isn't in school grader\n",
      "Age: 4 -> Grade: Isn't in school grader\n",
      "Age: 6 -> Grade: ('Primary', '1st grade')\n",
      "Age: 7 -> Grade: ('Primary', '2nd grade')\n",
      "Age: 10 -> Grade: ('Primary', '5th grade')\n",
      "Age: 15 -> Grade: ('Highschool', '4th grade')\n",
      "Age: 16 -> Grade: ('Highschool', '5th grade')\n"
     ]
    }
   ],
   "source": [
    "# First we have a basic list of ages\n",
    "ages = [2, 4, 6, 7, 10, 15, 16]\n",
    "\n",
    "# Make an empty list\n",
    "grades = []\n",
    "\n",
    "# We will iterate over each age and call the school_grade function\n",
    "for age in ages:\n",
    "    result = school_grade(age)\n",
    "    grades.append(result)\n",
    "\n",
    "# Finally, we print the results\n",
    "for age, grade in zip(ages, grades):\n",
    "    print(f\"Age: {age} -> Grade: {grade}\")"
   ]
  },
  {
   "cell_type": "markdown",
   "id": "e4d2b12e",
   "metadata": {},
   "source": [
    "5. Write a function that converts Lima time (GMT -5) into 4 possible hours: \n",
    "- Vanuatu Time (GMT +11)  \n",
    "- Dominica Time (GMT - 4)\n",
    "- Time Abuja, Nigeria (GMT +1)\n",
    "- Beijing, China Time (GMT +8)  \n",
    "(We can use a dictionary inside the function, to find the city-time pairs more easily.)\n",
    "\n",
    "Let's assume that we will only use whole hours. \n",
    "The function must have 2 parameters: \n",
    "- the Lima time that we want to convert (integer). \n",
    "- the city (string) to which we want to convert the time.\n",
    "\n",
    "The function must return the time (0 to 24 hours) as a number (can be a float ending in .0). Be careful that you have to handle the case when the sum is more than 24 hours (Hint: %). \n",
    "There are cases in which the time can be negative (Hint: See it as a subtraction)"
   ]
  },
  {
   "cell_type": "code",
   "execution_count": 7,
   "id": "eebe5ea5",
   "metadata": {},
   "outputs": [],
   "source": [
    "# First, define convert_lima_time\n",
    "\n",
    "def convert_lima_time(lima_time, city):\n",
    "    '''Convert Lima time (GMT -5) into different city times based on the given city.\n",
    "    \n",
    "    Parameters:\n",
    "    lima_time: int - The time in Lima (GMT -5).\n",
    "    city: str - The city to which the time should be converted. It can be one of: 'Vanuatu', 'Dominica', 'Abuja', 'Beijing'.\n",
    "    \n",
    "    Returns:\n",
    "    float - The converted time in the desired city, handling cases when it goes beyond 24 hours or is negative.\n",
    "    '''\n",
    "    \n",
    "    # Dictionary with the GMT offsets for each city\n",
    "    time_zones = {\n",
    "        'Vanuatu': 11,        # GMT +11\n",
    "        'Dominica': -4,       # GMT -4\n",
    "        'Abuja': 1,           # GMT +1\n",
    "        'Beijing': 8          # GMT +8\n",
    "    }\n",
    "    \n",
    "    # Whe check if the city is valid\n",
    "    if city not in time_zones:\n",
    "        return \"Invalid city\"\n",
    "    \n",
    "    # Calculate the time difference in hours\n",
    "    gmt_offset = time_zones[city]\n",
    "    \n",
    "    # Convert Lima time to the new city time\n",
    "    new_time = lima_time + gmt_offset\n",
    "    \n",
    "    # Handle cases where the time is more than 24 hours or less than 0\n",
    "    converted_time = new_time % 24\n",
    "    \n",
    "    # If the result is negative, add 24 hours to make it positive (+)\n",
    "    if converted_time < 0:\n",
    "        converted_time += 24\n",
    "    \n",
    "    return round(converted_time, 1)"
   ]
  },
  {
   "cell_type": "code",
   "execution_count": 8,
   "id": "99f92bdb-2d92-4feb-ad82-aa38fffbc617",
   "metadata": {},
   "outputs": [
    {
     "name": "stdout",
     "output_type": "stream",
     "text": [
      "Lima time 6:00 converted to Beijing time is 14 hours.\n"
     ]
    }
   ],
   "source": [
    "# Example\n",
    "lima_time = 6  # 6 AM in Lima\n",
    "city = 'Beijing'\n",
    "converted_time = convert_lima_time(lima_time, city)\n",
    "print(f\"Lima time {lima_time}:00 converted to {city} time is {converted_time} hours.\")"
   ]
  },
  {
   "cell_type": "markdown",
   "id": "b5cc1e1c",
   "metadata": {},
   "source": [
    "## Part 2. Classes"
   ]
  },
  {
   "cell_type": "markdown",
   "id": "6167894a",
   "metadata": {},
   "source": [
    "6. Person Class\n",
    "- Attributes: name, age, address.\n",
    "Methods:\n",
    "__init__(): Constructor to initialize attributes.\n",
    "- greet(): Print a custom greeting.\n",
    "- birthday_years(): Increases the age by one."
   ]
  },
  {
   "cell_type": "code",
   "execution_count": 1,
   "id": "26b8ec28",
   "metadata": {},
   "outputs": [],
   "source": [
    "class Person:\n",
    "\n",
    "    # Atributes\n",
    "    def __init__(self, name, age, address):\n",
    "        \"\"\"\n",
    "        Constructor to initialize the attributes of the Person class.\n",
    "\n",
    "        :param name: str - The name of the person\n",
    "        :param age: int - The age of the person\n",
    "        :param address: str - The address of the person\n",
    "        \"\"\"\n",
    "        self.name = name\n",
    "        self.age = age\n",
    "        self.address = address\n",
    "\n",
    "    # Methods\n",
    "    def greet(self):\n",
    "        \"\"\"\n",
    "        Prints a custom greeting message using the person's name.\n",
    "        \"\"\"\n",
    "        print(f\"Hello, {self.name}. It's an honor to meet you!\")\n",
    "\n",
    "    def birthday_years(self):\n",
    "        \"\"\"\n",
    "        Increases the person's age by one.\n",
    "        \"\"\"\n",
    "        self.age += 1\n",
    "        print(f\"Hello, {self.name}. You will be {self.age} on your birthday\")\n"
   ]
  },
  {
   "cell_type": "code",
   "execution_count": 3,
   "id": "3edb0c0c-a4c2-4035-b509-fdcb83e82488",
   "metadata": {},
   "outputs": [
    {
     "name": "stdout",
     "output_type": "stream",
     "text": [
      "Hello, Carlos. It's an honor to meet you!\n",
      "Hello, Carlos. You will be 21 on your birthday\n"
     ]
    }
   ],
   "source": [
    "# We make a example to check out the class\n",
    "\n",
    "person1 = Person(name=\"Carlos\", age=20, address=\"Av. Universitaria 1801\")\n",
    "person1.greet()  # Output: Hello, Carlos. It's an honor to meet you!\n",
    "person1.birthday_years()  # Output: Hello, Carlos. You will be 21 on your birthday.\n"
   ]
  },
  {
   "cell_type": "markdown",
   "id": "322b2017",
   "metadata": {},
   "source": [
    "7.BankAccount Class\n",
    "- Attributes: owner, account_number, balance.\n",
    "Methods:\n",
    "- deposit(): Increase the balance.\n",
    "- withdraw(): Decreases balance (check for sufficient funds).\n",
    "- show_info(): Prints the account information."
   ]
  },
  {
   "cell_type": "code",
   "execution_count": 7,
   "id": "4dbddd3c",
   "metadata": {},
   "outputs": [],
   "source": [
    "class BankAccount:\n",
    "\n",
    "    # Attributes\n",
    "    def __init__(self, owner, account_number, balance=0):\n",
    "        \"\"\"\n",
    "        Constructor to initialize the attributes of the BankAccount class.\n",
    "\n",
    "        :param owner: str - The name of the account owner\n",
    "        :param account_number: str - The account number\n",
    "        :param balance: float - The initial balance of the account (default is 0)\n",
    "        \"\"\"\n",
    "        self.owner = owner\n",
    "        self.account_number = account_number\n",
    "        self.balance = balance\n",
    "\n",
    "    # Methods\n",
    "    def deposit(self, amount_1):\n",
    "        \"\"\"\n",
    "        Increases the balance of the account by the specified amount.\n",
    "\n",
    "        :param amount_1: float - The amount to deposit\n",
    "        \"\"\"\n",
    "        self.balance += amount_1\n",
    "        print(f\"Deposit of ${amount_1} successful. New balance: ${self.balance:.2f}\")\n",
    "\n",
    "    def withdraw(self, amount_2):\n",
    "        \"\"\"\n",
    "        Decreases the balance of the account by the specified amount.\n",
    "\n",
    "        :param amount_2: float - The amount to withdraw\n",
    "        \"\"\"\n",
    "        if amount_2 > self.balance:\n",
    "            print(\"There are insufficient funds to make the withdrawal. Try again.\")\n",
    "        else:\n",
    "            self.balance -= amount_2\n",
    "            print(f\"Withdrawal of ${amount_2} successful. New balance: ${self.balance:.2f}\")\n",
    "\n",
    "    def show_info(self):\n",
    "        \"\"\"\n",
    "        Prints the account information.\n",
    "        \"\"\"\n",
    "        print(f\"Account owner: {self.owner}\")\n",
    "        print(f\"Account number: {self.account_number}\")\n",
    "        print(f\"Current balance: ${self.balance:.2f}\")"
   ]
  },
  {
   "cell_type": "code",
   "execution_count": 9,
   "id": "0d947319-0e6c-47aa-9f72-168cda8da9cb",
   "metadata": {},
   "outputs": [
    {
     "name": "stdout",
     "output_type": "stream",
     "text": [
      "Account owner: Pablo\n",
      "Account number: 20\n",
      "Current balance: $200.00\n",
      "Deposit of $200 successful. New balance: $400.00\n",
      "Withdrawal of $100 successful. New balance: $300.00\n",
      "There are insufficient funds to make the withdrawal. Try again.\n",
      "Account owner: Pablo\n",
      "Account number: 20\n",
      "Current balance: $300.00\n"
     ]
    }
   ],
   "source": [
    "# We make a example to check out the class\n",
    "\n",
    "person2 = BankAccount(owner=\"Pablo\", account_number=20, balance=200)\n",
    "person2.show_info() # Shows initial account details\n",
    "person2.deposit(200) # Deposit $200\n",
    "person2.withdraw(100) # Withdraw $100\n",
    "person2.withdraw(400) # Attempt to withdraw $400 (should fail)\n",
    "person2.show_info() # Show updated account details"
   ]
  },
  {
   "cell_type": "markdown",
   "id": "e7e8666b",
   "metadata": {},
   "source": [
    "\n",
    "8.Create a class called Mascot that represents a mascot in a store. The class must have the following attributes and methods:\n",
    "\n",
    "Attributes:\n",
    "\n",
    "- name: The name of the pet.\n",
    "- species: The species of the pet (dog, cat, etc.).\n",
    "- breed: The breed of the pet.\n",
    "- age: The age of the pet.\n",
    "- price: The price of the pet.\n",
    "\n",
    "Methods:\n",
    "\n",
    "- __init__(self, name, species, race, age, price): Constructor that initializes the class with the given attributes.\n",
    "- show_information(self): Prints the pet information in a readable format.\n",
    "- discount(self, percentage): Applies a discount to the price of the pet."
   ]
  },
  {
   "cell_type": "code",
   "execution_count": 11,
   "id": "c1dcdb63",
   "metadata": {},
   "outputs": [],
   "source": [
    "class Mascot:\n",
    "\n",
    "    # Attributes\n",
    "    def __init__(self, name, species, breed, age, price):\n",
    "        \"\"\"\n",
    "        Constructor to initialize the attributes of the Mascot class.\n",
    "\n",
    "        :param name: str - The name of the pet\n",
    "        :param species: str - The species of the pet (dog, cat, etc.)\n",
    "        :param breed: str - The breed of the pet.\n",
    "        :param age: int - The age of the pet.\n",
    "        :param price: float - The price of the pet.\n",
    "        \"\"\"\n",
    "\n",
    "        self.name = name\n",
    "        self.species = species\n",
    "        self.breed = breed\n",
    "        self.age = age\n",
    "        self.price = price\n",
    "\n",
    "    # Methods\n",
    "    def show_information(self):\n",
    "        \"\"\"\n",
    "        Prints the pet information in a readable format.\n",
    "        \"\"\"\n",
    "        print(f\"Name: {self.name}\")\n",
    "        print(f\"Species: {self.species}\")\n",
    "        print(f\"Breed: {self.breed}\")\n",
    "        print(f\"Age: {self.age}\")\n",
    "        print(f\"Price: ${self.price:.2f}\")\n",
    "\n",
    "    def discount(self, percentage):\n",
    "        \"\"\"\n",
    "        Applies a discount to the price of the pet.\n",
    "\n",
    "        :param percentage: float - The discount percentage (0 to 1)\n",
    "        \"\"\"\n",
    "        self.price *= (1 - percentage)\n",
    "        print(f\"Discount applied to {self.name}. New price: ${self.price:.2f}\")"
   ]
  },
  {
   "cell_type": "code",
   "execution_count": 13,
   "id": "7324478e-9a0e-4705-a5fd-c043eed8b6b4",
   "metadata": {},
   "outputs": [
    {
     "name": "stdout",
     "output_type": "stream",
     "text": [
      "Name: Bobby\n",
      "Species: Dog\n",
      "Breed: Shitzú\n",
      "Age: 5\n",
      "Price: $200.00\n",
      "Discount applied to Bobby. New price: $160.00\n"
     ]
    }
   ],
   "source": [
    "# We make a example to check out the class\n",
    "\n",
    "pet = Mascot(\"Bobby\", \"Dog\", \"Shitzú\", 5, 200)\n",
    "pet.show_information() # Show the information about the pet\n",
    "pet.discount(0.2) # Applies a discount and show the new price"
   ]
  }
 ],
 "metadata": {
  "kernelspec": {
   "display_name": "Python [conda env:base] *",
   "language": "python",
   "name": "conda-base-py"
  },
  "language_info": {
   "codemirror_mode": {
    "name": "ipython",
    "version": 3
   },
   "file_extension": ".py",
   "mimetype": "text/x-python",
   "name": "python",
   "nbconvert_exporter": "python",
   "pygments_lexer": "ipython3",
   "version": "3.11.5"
  }
 },
 "nbformat": 4,
 "nbformat_minor": 5
}
