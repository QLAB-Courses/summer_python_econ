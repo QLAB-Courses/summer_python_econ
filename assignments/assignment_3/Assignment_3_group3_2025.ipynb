{
 "cells": [
  {
   "cell_type": "markdown",
   "id": "7e746ee3",
   "metadata": {},
   "source": [
    " # Assignment_3"
   ]
  },
  {
   "cell_type": "markdown",
   "id": "088d0039",
   "metadata": {},
   "source": [
    "If you copy codes from previous answers, explain each step. No explanation is 0 points."
   ]
  },
  {
   "cell_type": "markdown",
   "id": "8a7283c3",
   "metadata": {},
   "source": [
    "## Part 1. Functions"
   ]
  },
  {
   "cell_type": "markdown",
   "id": "18bc971d",
   "metadata": {},
   "source": [
    "1.Write a function that takes two numeric parameters, `a` and `b`, and subtracts both numbers, such that `c = a - b`. Expresses `c` as the value to return.\n"
   ]
  },
  {
   "cell_type": "code",
   "execution_count": 1,
   "id": "102107b0",
   "metadata": {},
   "outputs": [],
   "source": [
    "# I define a function that takes two numbers as parameters\n",
    "def subtrac_numbers(a,b):\n",
    "    c= a-b\n",
    "    return c"
   ]
  },
  {
   "cell_type": "code",
   "execution_count": 2,
   "id": "9fef59b3",
   "metadata": {},
   "outputs": [
    {
     "data": {
      "text/plain": [
       "7"
      ]
     },
     "execution_count": 2,
     "metadata": {},
     "output_type": "execute_result"
    }
   ],
   "source": [
    "subtrac_numbers(10,3)"
   ]
  },
  {
   "cell_type": "code",
   "execution_count": 4,
   "id": "24f38b16",
   "metadata": {},
   "outputs": [
    {
     "name": "stdout",
     "output_type": "stream",
     "text": [
      "The result of the subtraction is:  7\n"
     ]
    }
   ],
   "source": [
    "result = subtrac_numbers(10,3)\n",
    "print (\"The result of the subtraction is: \", result)"
   ]
  },
  {
   "cell_type": "code",
   "execution_count": null,
   "id": "15c4c787",
   "metadata": {},
   "outputs": [],
   "source": []
  },
  {
   "cell_type": "code",
   "execution_count": null,
   "id": "cdf49fed",
   "metadata": {},
   "outputs": [],
   "source": []
  },
  {
   "cell_type": "markdown",
   "id": "1000d0eb",
   "metadata": {},
   "source": [
    "2.Write a function that transforms the temperature from degrees Celsius to degrees Fahrenheit. The formula is:    \n",
    "$F = 1.8*C + 32$"
   ]
  },
  {
   "cell_type": "code",
   "execution_count": 6,
   "id": "b42821e6",
   "metadata": {},
   "outputs": [],
   "source": [
    "def celsius_a_fahrenheit(temp_c):\n",
    "    '''\n",
    "     transform temperature from celsius to fahrenheit\n",
    "    Input: \n",
    "        temp_c:float number\n",
    "    Output: \n",
    "        returns: float number\n",
    "    '''\n",
    "    \n",
    "    temp_f=(1.8* temp_c) + 32\n",
    "    \n",
    "    return temp_f "
   ]
  },
  {
   "cell_type": "code",
   "execution_count": 7,
   "id": "ebd3002b",
   "metadata": {},
   "outputs": [
    {
     "data": {
      "text/plain": [
       "77.612"
      ]
     },
     "execution_count": 7,
     "metadata": {},
     "output_type": "execute_result"
    }
   ],
   "source": [
    "# Now, I test my function with an example\n",
    "celsius_a_fahrenheit(25.34)"
   ]
  },
  {
   "cell_type": "code",
   "execution_count": 8,
   "id": "40630ae8",
   "metadata": {},
   "outputs": [],
   "source": [
    "result=  celsius_a_fahrenheit(25.34)"
   ]
  },
  {
   "cell_type": "code",
   "execution_count": 9,
   "id": "7088532b",
   "metadata": {},
   "outputs": [
    {
     "name": "stdout",
     "output_type": "stream",
     "text": [
      "The temperature in Fahrenheit is: 77.612\n"
     ]
    }
   ],
   "source": [
    "# I print the result to confirm that my function works correctly.\n",
    "print(\"The temperature in Fahrenheit is:\", result)"
   ]
  },
  {
   "cell_type": "code",
   "execution_count": null,
   "id": "e7a2a3e7",
   "metadata": {},
   "outputs": [],
   "source": []
  },
  {
   "cell_type": "markdown",
   "id": "a5fdb6e3",
   "metadata": {},
   "source": [
    "3.Write a function that gives the result of a division of two numbers, however, the result must be a mixed number. \n",
    "\n",
    "Mixed numbers are a representation that has an integer part and a part less than one. For example, $50 / 7$ is represented as follows:\n",
    "$\n",
    "  7\\frac{1}{7}\n",
    "$  \n",
    "\n",
    "Another example: $23 / 4$ would be \n",
    "$\n",
    "  5\\frac{3}{4}\n",
    "$  \n",
    "\n",
    "The function takes 2 arguments: first, the number to divide, and second, the divisor. \n",
    "\n",
    "The function returns a list with 3 elements: the integer, the numerator of the fraction and the denominator of the fraction. \n",
    "\n",
    "For example, ``` mixed_number(23,4)``` results in ```[5, 3, 4] ```. \n",
    "\n",
    "``` mixed_number(24,4)``` results in ```[6, 0, 4] ```. \n",
    "\n",
    "Hint: floor and module"
   ]
  },
  {
   "cell_type": "code",
   "execution_count": 10,
   "id": "38469b01",
   "metadata": {},
   "outputs": [
    {
     "name": "stdout",
     "output_type": "stream",
     "text": [
      "[5, 3, 4]\n"
     ]
    }
   ],
   "source": [
    "def mixed_numb(num, den):\n",
    "    '''\n",
    "\n",
    "    Convert division to mixed number\n",
    "    Input: \n",
    "        num: integer\n",
    "        den: integer\n",
    "    Output: \n",
    "        returns: list with 3 numbers\n",
    "    '''\n",
    "     # I calculate the integer part of the division\n",
    "    integer_part = num // den  \n",
    "    \n",
    "    # I calculate the remainder (numerator of the fraction)\n",
    "    numerator = num % den  \n",
    "    \n",
    "    # The denominator remains the same\n",
    "    denominator = den  \n",
    "\n",
    "    # I return the mixed number as a list\n",
    "    return [integer_part, numerator, denominator]\n",
    "\n",
    "# I test the function\n",
    "print(mixed_numb(23, 4)) "
   ]
  },
  {
   "cell_type": "code",
   "execution_count": 11,
   "id": "839f7934",
   "metadata": {},
   "outputs": [
    {
     "name": "stdout",
     "output_type": "stream",
     "text": [
      "[6, 0, 4]\n"
     ]
    }
   ],
   "source": [
    "print(mixed_numb(24, 4))  "
   ]
  },
  {
   "cell_type": "code",
   "execution_count": null,
   "id": "919c2651",
   "metadata": {},
   "outputs": [],
   "source": []
  },
  {
   "cell_type": "markdown",
   "id": "aee1d361",
   "metadata": {},
   "source": [
    "4.We have the next function"
   ]
  },
  {
   "cell_type": "code",
   "execution_count": null,
   "id": "802c0a2e",
   "metadata": {},
   "outputs": [],
   "source": [
    "def school_grade(age):\n",
    "    \n",
    "''' calculate the school grade you belong to according to your age\n",
    "    Input: \n",
    "    age: int\n",
    "    output: tuple, composed of \n",
    "    grade: string\n",
    "    esp: specific what degree\n",
    "    \n",
    "    '''\n",
    "    \n",
    "    if ((age < 6) | (age > 17)):\n",
    "        return \"Isn't in school grader\"\n",
    "    #assert age > 5 & age < 17\n",
    "    elif ((age >=6) & (age < 12)):\n",
    "        grade = \"Primary\"\n",
    "        if age == 6:\n",
    "            esp = \"1st grade\"\n",
    "        elif age == 7:\n",
    "            esp = \"2nd grade\"\n",
    "        elif age == 8:\n",
    "            esp = \"3rd grade\"\n",
    "        elif age == 9:\n",
    "            esp = \"4th grade\"\n",
    "        elif age == 10:\n",
    "            esp = \"5th grade\"\n",
    "        else:\n",
    "            esp= \"6th grade\"\n",
    "        \n",
    "    else:\n",
    "        grade = \"Highschool\"\n",
    "        if age == 12:\n",
    "            esp = \"1st grade\"\n",
    "        elif age == 13:\n",
    "            esp = \"2nd grade\"\n",
    "        elif age == 14:\n",
    "            esp = \"3rd grade\"\n",
    "        elif age == 15:\n",
    "            esp = \"4th grade\"\n",
    "        else:\n",
    "            esp = \"5th grade\"\n",
    "            \n",
    "    return grade, esp"
   ]
  },
  {
   "cell_type": "markdown",
   "id": "1214a8f3",
   "metadata": {},
   "source": [
    "Likewise, we have 7 children, who are of the following ages:   \n",
    "    `ages = [2, 4, 6, 7, 10, 15, 16]`  \n",
    "We want to know what grades/years these children go to. To do this, create an empty list. In this list you will store the result of said function for each of the ages in this list. Use a for loop . \n",
    "\n",
    "Hint: To get familiar with the feature, you can use it with ages within the school age range."
   ]
  },
  {
   "cell_type": "code",
   "execution_count": null,
   "id": "4e1a5d9c",
   "metadata": {},
   "outputs": [],
   "source": []
  },
  {
   "cell_type": "markdown",
   "id": "e4d2b12e",
   "metadata": {},
   "source": [
    "5. Write a function that converts Lima time (GMT -5) into 4 possible hours: \n",
    "- Vanuatu Time (GMT +11)  \n",
    "- Dominica Time (GMT - 4)\n",
    "- Time Abuja, Nigeria (GMT +1)\n",
    "- Beijing, China Time (GMT +8)  \n",
    "(We can use a dictionary inside the function, to find the city-time pairs more easily.)\n",
    "\n",
    "Let's assume that we will only use whole hours. \n",
    "The function must have 2 parameters: \n",
    "- the Lima time that we want to convert (integer). \n",
    "- the city (string) to which we want to convert the time.\n",
    "\n",
    "The function must return the time (0 to 24 hours) as a number (can be a float ending in .0). Be careful that you have to handle the case when the sum is more than 24 hours (Hint: %). \n",
    "There are cases in which the time can be negative (Hint: See it as a subtraction)"
   ]
  },
  {
   "cell_type": "code",
   "execution_count": null,
   "id": "eebe5ea5",
   "metadata": {},
   "outputs": [],
   "source": []
  },
  {
   "cell_type": "markdown",
   "id": "b5cc1e1c",
   "metadata": {},
   "source": [
    "## Part 2. Classes"
   ]
  },
  {
   "cell_type": "markdown",
   "id": "6167894a",
   "metadata": {},
   "source": [
    "6. Person Class\n",
    "- Attributes: name, age, address.\n",
    "Methods:\n",
    "__init__(): Constructor to initialize attributes.\n",
    "- greet(): Print a custom greeting.\n",
    "- birthday_years(): Increases the age by one."
   ]
  },
  {
   "cell_type": "code",
   "execution_count": null,
   "id": "26b8ec28",
   "metadata": {},
   "outputs": [],
   "source": []
  },
  {
   "cell_type": "markdown",
   "id": "322b2017",
   "metadata": {},
   "source": [
    "7.BankAccount Class\n",
    "- Attributes: owner, account_number, balance.\n",
    "Methods:\n",
    "- deposit(): Increase the balance.\n",
    "- withdraw(): Decreases balance (check for sufficient funds).\n",
    "- show_info(): Prints the account information."
   ]
  },
  {
   "cell_type": "code",
   "execution_count": null,
   "id": "4dbddd3c",
   "metadata": {},
   "outputs": [],
   "source": []
  },
  {
   "cell_type": "markdown",
   "id": "e7e8666b",
   "metadata": {},
   "source": [
    "\n",
    "8.Create a class called Mascot that represents a mascot in a store. The class must have the following attributes and methods:\n",
    "\n",
    "Attributes:\n",
    "\n",
    "- name: The name of the pet.\n",
    "- species: The species of the pet (dog, cat, etc.).\n",
    "- breed: The breed of the pet.\n",
    "- age: The age of the pet.\n",
    "- price: The price of the pet.\n",
    "\n",
    "Methods:\n",
    "\n",
    "- __init__(self, name, species, race, age, price): Constructor that initializes the class with the given attributes.\n",
    "- show_information(self): Prints the pet information in a readable format.\n",
    "- discount(self, percentage): Applies a discount to the price of the pet."
   ]
  },
  {
   "cell_type": "code",
   "execution_count": null,
   "id": "c1dcdb63",
   "metadata": {},
   "outputs": [],
   "source": []
  }
 ],
 "metadata": {
  "kernelspec": {
   "display_name": "Python 3 (ipykernel)",
   "language": "python",
   "name": "python3"
  },
  "language_info": {
   "codemirror_mode": {
    "name": "ipython",
    "version": 3
   },
   "file_extension": ".py",
   "mimetype": "text/x-python",
   "name": "python",
   "nbconvert_exporter": "python",
   "pygments_lexer": "ipython3",
   "version": "3.11.5"
  }
 },
 "nbformat": 4,
 "nbformat_minor": 5
}
