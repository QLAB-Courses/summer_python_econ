{
 "cells": [
  {
   "cell_type": "markdown",
   "id": "7e746ee3",
   "metadata": {},
   "source": [
    " # Assignment_3"
   ]
  },
  {
   "cell_type": "markdown",
   "id": "088d0039",
   "metadata": {},
   "source": [
    "If you copy codes from previous answers, explain each step. No explanation is 0 points."
   ]
  },
  {
   "cell_type": "markdown",
   "id": "8a7283c3",
   "metadata": {},
   "source": [
    "## Part 1. Functions"
   ]
  },
  {
   "cell_type": "markdown",
   "id": "18bc971d",
   "metadata": {},
   "source": [
    "1.Write a function that takes two numeric parameters, `a` and `b`, and subtracts both numbers, such that `c = a - b`. Expresses `c` as the value to return.\n"
   ]
  },
  {
   "cell_type": "code",
   "execution_count": null,
   "id": "102107b0",
   "metadata": {},
   "outputs": [],
   "source": []
  },
  {
   "cell_type": "markdown",
   "id": "1000d0eb",
   "metadata": {},
   "source": [
    "2.Write a function that transforms the temperature from degrees Celsius to degrees Fahrenheit. The formula is:    \n",
    "$F = 1.8*C + 32$"
   ]
  },
  {
   "cell_type": "code",
   "execution_count": null,
   "id": "b42821e6",
   "metadata": {},
   "outputs": [],
   "source": [
    "def celsius_a_fahrenheit(temp_c):\n",
    "    '''\n",
    "     transform temperature from celsius to fahrenheit\n",
    "    Input: \n",
    "        temp_c:float number\n",
    "    Output: \n",
    "        returns: float number\n",
    "    '''\n",
    "    \n",
    "    #Write your function here\n",
    "    \n",
    "    return temp_f "
   ]
  },
  {
   "cell_type": "markdown",
   "id": "a5fdb6e3",
   "metadata": {},
   "source": [
    "3.Write a function that gives the result of a division of two numbers, however, the result must be a mixed number. \n",
    "\n",
    "Mixed numbers are a representation that has an integer part and a part less than one. For example, $50 / 7$ is represented as follows:\n",
    "$\n",
    "  7\\frac{1}{7}\n",
    "$  \n",
    "\n",
    "Another example: $23 / 4$ would be \n",
    "$\n",
    "  5\\frac{3}{4}\n",
    "$  \n",
    "\n",
    "The function takes 2 arguments: first, the number to divide, and second, the divisor. \n",
    "\n",
    "The function returns a list with 3 elements: the integer, the numerator of the fraction and the denominator of the fraction. \n",
    "\n",
    "For example, ``` mixed_number(23,4)``` results in ```[5, 3, 4] ```. \n",
    "\n",
    "``` mixed_number(24,4)``` results in ```[6, 0, 4] ```. \n",
    "\n",
    "Hint: floor and module"
   ]
  },
  {
   "cell_type": "code",
   "execution_count": null,
   "id": "38469b01",
   "metadata": {},
   "outputs": [],
   "source": [
    "def mixed_numb(num, den):\n",
    "    '''\n",
    "\n",
    "    Convert division to mixed number\n",
    "    Input: \n",
    "        num: integer\n",
    "        den: integer\n",
    "    Output: \n",
    "        returns: list with 3 numbers\n",
    "    '''"
   ]
  },
  {
   "cell_type": "markdown",
   "id": "aee1d361",
   "metadata": {},
   "source": [
    "4.We have the next function"
   ]
  },
  {
   "cell_type": "code",
   "execution_count": 12,
   "id": "802c0a2e",
   "metadata": {},
   "outputs": [],
   "source": [
    "def school_grade(age):\n",
    "    \n",
    "    ''' calculate the school grade you belong to according to your age\n",
    "    Input: \n",
    "    age: int\n",
    "    output: tuple, composed of \n",
    "    grade: string\n",
    "    esp: specific what degree\n",
    "    \n",
    "    '''\n",
    "    \n",
    "    if ((age < 6) | (age > 17)):\n",
    "        return \"Isn't in school grader\"\n",
    "    #assert age > 5 & age < 17\n",
    "    elif ((age >=6) & (age < 12)):\n",
    "        grade = \"Primary\"\n",
    "        if age == 6:\n",
    "            esp = \"1st grade\"\n",
    "        elif age == 7:\n",
    "            esp = \"2nd grade\"\n",
    "        elif age == 8:\n",
    "            esp = \"3rd grade\"\n",
    "        elif age == 9:\n",
    "            esp = \"4th grade\"\n",
    "        elif age == 10:\n",
    "            esp = \"5th grade\"\n",
    "        else:\n",
    "            esp= \"6th grade\"\n",
    "        \n",
    "    else:\n",
    "        grade = \"Highschool\"\n",
    "        if age == 12:\n",
    "            esp = \"1st grade\"\n",
    "        elif age == 13:\n",
    "            esp = \"2nd grade\"\n",
    "        elif age == 14:\n",
    "            esp = \"3rd grade\"\n",
    "        elif age == 15:\n",
    "            esp = \"4th grade\"\n",
    "        else:\n",
    "            esp = \"5th grade\"\n",
    "            \n",
    "    return grade, esp"
   ]
  },
  {
   "cell_type": "markdown",
   "id": "1214a8f3",
   "metadata": {},
   "source": [
    "Likewise, we have 7 children, who are of the following ages:   \n",
    "    `ages = [2, 4, 6, 7, 10, 15, 16]`  \n",
    "We want to know what grades/years these children go to. To do this, create an empty list. In this list you will store the result of said function for each of the ages in this list. Use a for loop . \n",
    "\n",
    "Hint: To get familiar with the feature, you can use it with ages within the school age range."
   ]
  },
  {
   "cell_type": "code",
   "execution_count": 17,
   "id": "4e1a5d9c",
   "metadata": {},
   "outputs": [
    {
     "name": "stdout",
     "output_type": "stream",
     "text": [
      "Age: 2, Grade: Isn't in school grader\n",
      "Age: 4, Grade: Isn't in school grader\n",
      "Age: 6, Grade: ('Primary', '1st grade')\n",
      "Age: 7, Grade: ('Primary', '2nd grade')\n",
      "Age: 10, Grade: ('Primary', '5th grade')\n",
      "Age: 15, Grade: ('Highschool', '4th grade')\n",
      "Age: 16, Grade: ('Highschool', '5th grade')\n"
     ]
    }
   ],
   "source": [
    "# we create a empty list call results\n",
    "results = []\n",
    "\n",
    "# define the age of 7 children\n",
    "ages = [2, 4, 6, 7, 10, 15, 16]\n",
    "\n",
    "# use loop through each age and apply the function\n",
    "for age in ages:\n",
    "    results.append(school_grade(age))\n",
    "\n",
    "# Print the results\n",
    "for age, result in zip(ages, results):\n",
    "    print(f\"Age: {age}, Grade: {result}\")"
   ]
  },
  {
   "cell_type": "markdown",
   "id": "e4d2b12e",
   "metadata": {},
   "source": [
    "5. Write a function that converts Lima time (GMT -5) into 4 possible hours: \n",
    "- Vanuatu Time (GMT +11)  \n",
    "- Dominica Time (GMT - 4)\n",
    "- Time Abuja, Nigeria (GMT +1)\n",
    "- Beijing, China Time (GMT +8)  \n",
    "(We can use a dictionary inside the function, to find the city-time pairs more easily.)\n",
    "\n",
    "Let's assume that we will only use whole hours. \n",
    "The function must have 2 parameters: \n",
    "- the Lima time that we want to convert (integer). \n",
    "- the city (string) to which we want to convert the time.\n",
    "\n",
    "The function must return the time (0 to 24 hours) as a number (can be a float ending in .0). Be careful that you have to handle the case when the sum is more than 24 hours (Hint: %). \n",
    "There are cases in which the time can be negative (Hint: See it as a subtraction)"
   ]
  },
  {
   "cell_type": "code",
   "execution_count": 8,
   "id": "eebe5ea5",
   "metadata": {},
   "outputs": [
    {
     "name": "stdout",
     "output_type": "stream",
     "text": [
      "2\n",
      "14\n"
     ]
    }
   ],
   "source": [
    "#We need calculate the difference between Lima and the cities to define the dictionary\n",
    "#Vanuatu Time - Lima Time: (GMT +11)-(GMT - 5) = +16\n",
    "#Dominica Time- Lima Time: (GMT - 4)-(GMT - 5) = +1\n",
    "#Abuja Time - Lima Time:(GMT +1)-(GMT - 5) = +6\n",
    "#Beijing Time - Lima Time: (GMT +8)-(GMT - 5) = +13\n",
    "\n",
    "#we define the dictionary with the difference the lima time\n",
    "def convert_time(lima_time, city):\n",
    "\n",
    "    diff_time = {\n",
    "        \"Vanuatu\": 16,   \n",
    "        \"Dominica\": 1,   \n",
    "        \"Abuja\": 6,      \n",
    "        \"Beijing\": 13    \n",
    "    }\n",
    "\n",
    "#If the sum of the hours is more than 24 hours\n",
    "    converted_time = (lima_time + diff_time[city]) % 24\n",
    "\n",
    "#If the time is negative, the time should be sum at 24 hours\n",
    "    if converted_time < 0:\n",
    "        converted_time += 24\n",
    "\n",
    "    return converted_time\n",
    "\n",
    "# To see the time in the cities\n",
    "print(convert_time(10, \"Vanuatu\"))  \n",
    "print(convert_time(1, \"Beijing\"))  \n"
   ]
  },
  {
   "cell_type": "markdown",
   "id": "b5cc1e1c",
   "metadata": {},
   "source": [
    "## Part 2. Classes"
   ]
  },
  {
   "cell_type": "markdown",
   "id": "6167894a",
   "metadata": {},
   "source": [
    "6. Person Class\n",
    "- Attributes: name, age, address.\n",
    "Methods:\n",
    "__init__(): Constructor to initialize attributes.\n",
    "- greet(): Print a custom greeting.\n",
    "- birthday_years(): Increases the age by one."
   ]
  },
  {
   "cell_type": "code",
   "execution_count": 13,
   "id": "26b8ec28",
   "metadata": {},
   "outputs": [],
   "source": [
    "class Person:\n",
    "    \n",
    "    # Attributes\n",
    "    def __init__(self, name, age, address): #initializes the Person class with three parameters: name, age, adress.\n",
    "        self.name = name\n",
    "        self.age = age\n",
    "        self.address = address\n",
    "    \n",
    "    # Methods\n",
    "    def greet(self):\n",
    "        print(f\"Hi everyone, I am {self.name}. I live at {self.address}.\") #prints a greeting that includes the person's name and address.\n",
    "\n",
    "    def birthday_years(self):\n",
    "        self.age += 1\n",
    "        print( f'Today is my birthday, I am now {self.age} years old!' )  #increments the person's age by one"
   ]
  },
  {
   "cell_type": "code",
   "execution_count": 15,
   "id": "936f3d73",
   "metadata": {},
   "outputs": [
    {
     "name": "stdout",
     "output_type": "stream",
     "text": [
      "Hi everyone, I am Lupe. I live at 742 Evergreen Terrace.\n",
      "Today is my birthday, I am now 24 years old!\n"
     ]
    }
   ],
   "source": [
    "lupe = Person(\"Lupe\", 23, \"742 Evergreen Terrace\") #example using the methods to display Lupe's attributes\n",
    "lupe.greet()\n",
    "lupe.birthday_years()"
   ]
  },
  {
   "cell_type": "markdown",
   "id": "322b2017",
   "metadata": {},
   "source": [
    "7.BankAccount Class\n",
    "- Attributes: owner, account_number, balance.\n",
    "Methods:\n",
    "- deposit(): Increase the balance.\n",
    "- withdraw(): Decreases balance (check for sufficient funds).\n",
    "- show_info(): Prints the account information."
   ]
  },
  {
   "cell_type": "code",
   "execution_count": 20,
   "id": "4dbddd3c",
   "metadata": {},
   "outputs": [],
   "source": [
    "class BankAccount:\n",
    "\n",
    "    # Attributes\n",
    "    def __init__(self, owner, account_number, balance): #define the class's parameters\n",
    "        self.owner = owner\n",
    "        self.account_number = account_number\n",
    "        self.balance = balance\n",
    "\n",
    "    def deposit(self, amount):\n",
    "        self.balance += amount #add the deposit amount to the balance\n",
    "        print(f\"Deposited ${amount}. New balance is ${self.balance}.\") #print the deposit amount and the new balance\n",
    "\n",
    "    def withdraw(self, amount):\n",
    "        if amount > self.balance:\n",
    "            raise ValueError(\"Insufficient funds for this withdrawal.\")\n",
    "        self.balance -= amount #subtract the withdrawal amount from the balance\n",
    "        print(f\"Withdrew ${amount}. New balance is ${self.balance}.\") #print the withdrawal and the new balance\n",
    "\n",
    "    def show_info(self): #define a method that prints the account information including the last arguments.\n",
    "        print(\"Bank Account Information\")\n",
    "        print(f\"Owner          : {self.owner}\")\n",
    "        print(f\"Account Number : {self.account_number}\")\n",
    "        print(f\"Current Balance: ${self.balance}\")"
   ]
  },
  {
   "cell_type": "code",
   "execution_count": 28,
   "id": "bb0e6eb2",
   "metadata": {},
   "outputs": [
    {
     "name": "stdout",
     "output_type": "stream",
     "text": [
      "Deposited $20. New balance is $800.\n",
      "Withdrew $800. New balance is $0.\n",
      "Bank Account Information\n",
      "Owner          : Luci\n",
      "Account Number : 2357293783\n",
      "Current Balance: $0\n"
     ]
    }
   ],
   "source": [
    "Luci= BankAccount(\"Luci\", 2357293783, 780) #example where the withdrawal does not exceed the available balance.\n",
    "Luci.deposit(20)\n",
    "Luci.withdraw(800)\n",
    "Luci.show_info()"
   ]
  },
  {
   "cell_type": "code",
   "execution_count": 30,
   "id": "74c4bb1b",
   "metadata": {},
   "outputs": [
    {
     "name": "stdout",
     "output_type": "stream",
     "text": [
      "Deposited $20. New balance is $800.\n"
     ]
    },
    {
     "ename": "ValueError",
     "evalue": "Insufficient funds for this withdrawal.",
     "output_type": "error",
     "traceback": [
      "\u001b[0;31m---------------------------------------------------------------------------\u001b[0m",
      "\u001b[0;31mValueError\u001b[0m                                Traceback (most recent call last)",
      "Cell \u001b[0;32mIn[30], line 3\u001b[0m\n\u001b[1;32m      1\u001b[0m Luci\u001b[38;5;241m=\u001b[39m BankAccount(\u001b[38;5;124m\"\u001b[39m\u001b[38;5;124mLuci\u001b[39m\u001b[38;5;124m\"\u001b[39m, \u001b[38;5;241m2357293783\u001b[39m, \u001b[38;5;241m780\u001b[39m)\n\u001b[1;32m      2\u001b[0m Luci\u001b[38;5;241m.\u001b[39mdeposit(\u001b[38;5;241m20\u001b[39m)\n\u001b[0;32m----> 3\u001b[0m Luci\u001b[38;5;241m.\u001b[39mwithdraw(\u001b[38;5;241m820\u001b[39m)\n\u001b[1;32m      4\u001b[0m Luci\u001b[38;5;241m.\u001b[39mshow_info()\n",
      "Cell \u001b[0;32mIn[20], line 15\u001b[0m, in \u001b[0;36mBankAccount.withdraw\u001b[0;34m(self, amount)\u001b[0m\n\u001b[1;32m     13\u001b[0m \u001b[38;5;28;01mdef\u001b[39;00m \u001b[38;5;21mwithdraw\u001b[39m(\u001b[38;5;28mself\u001b[39m, amount):\n\u001b[1;32m     14\u001b[0m     \u001b[38;5;28;01mif\u001b[39;00m amount \u001b[38;5;241m>\u001b[39m \u001b[38;5;28mself\u001b[39m\u001b[38;5;241m.\u001b[39mbalance:\n\u001b[0;32m---> 15\u001b[0m         \u001b[38;5;28;01mraise\u001b[39;00m \u001b[38;5;167;01mValueError\u001b[39;00m(\u001b[38;5;124m\"\u001b[39m\u001b[38;5;124mInsufficient funds for this withdrawal.\u001b[39m\u001b[38;5;124m\"\u001b[39m)\n\u001b[1;32m     16\u001b[0m     \u001b[38;5;28mself\u001b[39m\u001b[38;5;241m.\u001b[39mbalance \u001b[38;5;241m-\u001b[39m\u001b[38;5;241m=\u001b[39m amount\n\u001b[1;32m     17\u001b[0m     \u001b[38;5;28mprint\u001b[39m(\u001b[38;5;124mf\u001b[39m\u001b[38;5;124m\"\u001b[39m\u001b[38;5;124mWithdrew $\u001b[39m\u001b[38;5;132;01m{\u001b[39;00mamount\u001b[38;5;132;01m}\u001b[39;00m\u001b[38;5;124m. New balance is $\u001b[39m\u001b[38;5;132;01m{\u001b[39;00m\u001b[38;5;28mself\u001b[39m\u001b[38;5;241m.\u001b[39mbalance\u001b[38;5;132;01m}\u001b[39;00m\u001b[38;5;124m.\u001b[39m\u001b[38;5;124m\"\u001b[39m)\n",
      "\u001b[0;31mValueError\u001b[0m: Insufficient funds for this withdrawal."
     ]
    }
   ],
   "source": [
    "Luci= BankAccount(\"Luci\", 2357293783, 780) #example where the withdrawal exceeds the available balance and raises an error\n",
    "Luci.deposit(20)\n",
    "Luci.withdraw(820)\n",
    "Luci.show_info()"
   ]
  },
  {
   "cell_type": "markdown",
   "id": "e7e8666b",
   "metadata": {},
   "source": [
    "\n",
    "8.Create a class called Mascot that represents a mascot in a store. The class must have the following attributes and methods:\n",
    "\n",
    "Attributes:\n",
    "\n",
    "- name: The name of the pet.\n",
    "- species: The species of the pet (dog, cat, etc.).\n",
    "- breed: The breed of the pet.\n",
    "- age: The age of the pet.\n",
    "- price: The price of the pet.\n",
    "\n",
    "Methods:\n",
    "\n",
    "- __init__(self, name, species, race, age, price): Constructor that initializes the class with the given attributes.\n",
    "- show_information(self): Prints the pet information in a readable format.\n",
    "- discount(self, percentage): Applies a discount to the price of the pet."
   ]
  },
  {
   "cell_type": "code",
   "execution_count": 31,
   "id": "c1dcdb63",
   "metadata": {},
   "outputs": [],
   "source": [
    "class Mascot: #class to represent the characteristics of a pet\n",
    "    \n",
    "    # Attributes\n",
    "    def __init__(self, name, species, breed, age, price):\n",
    "        self.name = name\n",
    "        self.species = species\n",
    "        self.breed = breed\n",
    "        self.age = age\n",
    "        self.price = price\n",
    "\n",
    "    def show_information(self): #prints the mascot's information\n",
    "        print(\"Mascot Information:\")\n",
    "        print(f\"Name     : {self.name}\")\n",
    "        print(f\"Species  : {self.species}\")\n",
    "        print(f\"Breed    : {self.breed}\")\n",
    "        print(f\"Age      : {self.age} year{'s' if self.age >= 1 else ''}\")\n",
    "        print(f\"Price    : ${self.price}\")\n",
    "\n",
    "    def discount(self, percentage): #calculates the new price after applying a discount\n",
    "        discount_amount = self.price * (percentage / 100)\n",
    "        self.price -= discount_amount\n",
    "        print(f\"Applied a discount of {percentage}%.\")\n",
    "        print(f\"Discount Amount: ${discount_amount}\")\n",
    "        print(f\"New Price: ${self.price}\")"
   ]
  },
  {
   "cell_type": "code",
   "execution_count": 32,
   "id": "8808427c",
   "metadata": {},
   "outputs": [
    {
     "name": "stdout",
     "output_type": "stream",
     "text": [
      "Mascot Information:\n",
      "Name     : Lin\n",
      "Species  : Dog\n",
      "Breed    : Chihuahua\n",
      "Age      : 6 years\n",
      "Price    : $100\n"
     ]
    }
   ],
   "source": [
    "Lin = Mascot(\"Lin\", \"Dog\", \"Chihuahua\", 6, 100) #example showing the pet's information\n",
    "Lin.show_information()"
   ]
  },
  {
   "cell_type": "code",
   "execution_count": 33,
   "id": "a5f79cd5",
   "metadata": {},
   "outputs": [
    {
     "name": "stdout",
     "output_type": "stream",
     "text": [
      "Applied a discount of 5%.\n",
      "Discount Amount: $5.0\n",
      "New Price: $95.0\n"
     ]
    }
   ],
   "source": [
    "Lin.discount(5) #example of calculating the discount and new price"
   ]
  }
 ],
 "metadata": {
  "kernelspec": {
   "display_name": "base",
   "language": "python",
   "name": "python3"
  },
  "language_info": {
   "codemirror_mode": {
    "name": "ipython",
    "version": 3
   },
   "file_extension": ".py",
   "mimetype": "text/x-python",
   "name": "python",
   "nbconvert_exporter": "python",
   "pygments_lexer": "ipython3",
   "version": "3.11.5"
  }
 },
 "nbformat": 4,
 "nbformat_minor": 5
}
