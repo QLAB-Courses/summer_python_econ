{
 "cells": [
  {
   "cell_type": "markdown",
   "id": "5d198778",
   "metadata": {},
   "source": [
    "# Assignment_1\n",
    "If you copy codes from previous answers, explain each step. No explanation is `0 points`."
   ]
  },
  {
   "cell_type": "markdown",
   "id": "853562f8",
   "metadata": {},
   "source": [
    "##  Part 1.Data types\n"
   ]
  },
  {
   "cell_type": "markdown",
   "id": "521b5fe7",
   "metadata": {},
   "source": [
    "a.Declare one variable for each one these types: : int , float , string , boolean.\n",
    "- Print  the varible's type using  type () function\n",
    "\n",
    "\n"
   ]
  },
  {
   "cell_type": "code",
   "execution_count": 2,
   "id": "b8adc928",
   "metadata": {},
   "outputs": [
    {
     "data": {
      "text/plain": [
       "20"
      ]
     },
     "execution_count": 2,
     "metadata": {},
     "output_type": "execute_result"
    }
   ],
   "source": [
    "var_int = 20 \n",
    "var_int"
   ]
  },
  {
   "cell_type": "markdown",
   "id": "1a2d5445",
   "metadata": {},
   "source": [
    "type (var_int ) ## I use the \"type\" function to know what data type the previously defined variable is."
   ]
  },
  {
   "cell_type": "code",
   "execution_count": 5,
   "id": "53f9508e-7447-49e1-8427-6dc09e0158df",
   "metadata": {},
   "outputs": [
    {
     "data": {
      "text/plain": [
       "23.5"
      ]
     },
     "execution_count": 5,
     "metadata": {},
     "output_type": "execute_result"
    }
   ],
   "source": [
    "var_float = 23.5\n",
    "var_float"
   ]
  },
  {
   "cell_type": "code",
   "execution_count": 7,
   "id": "57222805-26f6-4de0-a99f-d36d106563b9",
   "metadata": {},
   "outputs": [
    {
     "data": {
      "text/plain": [
       "float"
      ]
     },
     "execution_count": 7,
     "metadata": {},
     "output_type": "execute_result"
    }
   ],
   "source": [
    "type(var_float) ## I use the \"type\" function to know what data type the previously defined variable is."
   ]
  },
  {
   "cell_type": "code",
   "execution_count": 9,
   "id": "ab2292b2-9d23-422e-aa07-11af0e8afb37",
   "metadata": {},
   "outputs": [
    {
     "data": {
      "text/plain": [
       "'This is a string'"
      ]
     },
     "execution_count": 9,
     "metadata": {},
     "output_type": "execute_result"
    }
   ],
   "source": [
    "string = \"This is a string\"\n",
    "string"
   ]
  },
  {
   "cell_type": "code",
   "execution_count": 11,
   "id": "3ed42489-157f-49a2-afe8-981a99480770",
   "metadata": {},
   "outputs": [
    {
     "data": {
      "text/plain": [
       "str"
      ]
     },
     "execution_count": 11,
     "metadata": {},
     "output_type": "execute_result"
    }
   ],
   "source": [
    "type(string) ## I use the \"type\" function to know what data type the previously defined variable is."
   ]
  },
  {
   "cell_type": "code",
   "execution_count": 13,
   "id": "98fa4bae-5382-4590-b267-b6135c8ce581",
   "metadata": {},
   "outputs": [
    {
     "data": {
      "text/plain": [
       "False"
      ]
     },
     "execution_count": 13,
     "metadata": {},
     "output_type": "execute_result"
    }
   ],
   "source": [
    "var_bool = False\n",
    "var_bool"
   ]
  },
  {
   "cell_type": "code",
   "execution_count": 15,
   "id": "63bcd788-6c83-4ae5-b864-342bdd770916",
   "metadata": {},
   "outputs": [
    {
     "data": {
      "text/plain": [
       "bool"
      ]
     },
     "execution_count": 15,
     "metadata": {},
     "output_type": "execute_result"
    }
   ],
   "source": [
    "type(var_bool) ## I use the \"type\" function to know what data type the previously defined variable is."
   ]
  },
  {
   "cell_type": "markdown",
   "id": "ce38f1d9",
   "metadata": {},
   "source": [
    " b. Using only the following inputs: ```5``` and ```2```  ,  work the  operators to get the output  : ```50```"
   ]
  },
  {
   "cell_type": "code",
   "execution_count": 18,
   "id": "46b08279",
   "metadata": {},
   "outputs": [
    {
     "data": {
      "text/plain": [
       "50"
      ]
     },
     "execution_count": 18,
     "metadata": {},
     "output_type": "execute_result"
    }
   ],
   "source": [
    "output = 2 * (5 **2)\n",
    "output"
   ]
  },
  {
   "cell_type": "markdown",
   "id": "42009dda",
   "metadata": {},
   "source": [
    "c. Evaluate if the output of the previous excercise is over 100. Create a variable that makes this evaluation. (Hint: It would be a boolean)."
   ]
  },
  {
   "cell_type": "code",
   "execution_count": 21,
   "id": "e1226c5e",
   "metadata": {},
   "outputs": [
    {
     "name": "stdout",
     "output_type": "stream",
     "text": [
      "False\n"
     ]
    }
   ],
   "source": [
    "print(output > 100)"
   ]
  },
  {
   "cell_type": "markdown",
   "id": "877a0395",
   "metadata": {},
   "source": [
    "d. Create a variable equal to a list that contains: \n",
    "- a string,\n",
    "- a boolean,\n",
    "- two numeric values ( of any kind)  and\n",
    "- a  list of two strings with the names of your favourite musical artists. "
   ]
  },
  {
   "cell_type": "code",
   "execution_count": 24,
   "id": "081b71d0",
   "metadata": {},
   "outputs": [
    {
     "data": {
      "text/plain": [
       "['My first list', True, 21, 48.7, ['Liam Gallagher', 'Steven Taylor']]"
      ]
     },
     "execution_count": 24,
     "metadata": {},
     "output_type": "execute_result"
    }
   ],
   "source": [
    "list_a = [\"My first list\", True, 21, 48.7,[\"Liam Gallagher\", \"Steven Taylor\"] ]\n",
    "list_a"
   ]
  },
  {
   "cell_type": "code",
   "execution_count": 26,
   "id": "efbabe46-c348-4920-8419-6cf1e9771115",
   "metadata": {},
   "outputs": [
    {
     "data": {
      "text/plain": [
       "['My first list', True, 21, 48.7]"
      ]
     },
     "execution_count": 26,
     "metadata": {},
     "output_type": "execute_result"
    }
   ],
   "source": [
    "list_1 = [\"My first list\", True, 21, 48.7] ## I created a list with the first values\n",
    "list_1"
   ]
  },
  {
   "cell_type": "code",
   "execution_count": 28,
   "id": "a6d14af7-4f00-4d21-b8bf-bf850c1ca147",
   "metadata": {},
   "outputs": [
    {
     "data": {
      "text/plain": [
       "['Liam Gallagher', 'Steven Taylor']"
      ]
     },
     "execution_count": 28,
     "metadata": {},
     "output_type": "execute_result"
    }
   ],
   "source": [
    "list_2= [\"Liam Gallagher\", \"Steven Taylor\"] ##I created a list of two strings with the names of your favourite musical artists. \n",
    "list_2"
   ]
  },
  {
   "cell_type": "code",
   "execution_count": 30,
   "id": "d8043001-cb0b-4c55-ada6-214730025f52",
   "metadata": {},
   "outputs": [
    {
     "data": {
      "text/plain": [
       "['My first list', True, 21, 48.7, 'Liam Gallagher', 'Steven Taylor']"
      ]
     },
     "execution_count": 30,
     "metadata": {},
     "output_type": "execute_result"
    }
   ],
   "source": [
    "list_1.extend(list_2) ## I use the \"extend\" function to merge the two lists\n",
    "list_1"
   ]
  },
  {
   "cell_type": "markdown",
   "id": "e2a5f459",
   "metadata": {},
   "source": [
    "## Part 2. Containers"
   ]
  },
  {
   "cell_type": "markdown",
   "id": "51681d3c",
   "metadata": {},
   "source": [
    "e. Create a tuple with 3 elements. Explain why you can't modify it. "
   ]
  },
  {
   "cell_type": "code",
   "execution_count": 34,
   "id": "dd8d0079",
   "metadata": {},
   "outputs": [
    {
     "data": {
      "text/plain": [
       "(19, 'Marzo', 3.1415)"
      ]
     },
     "execution_count": 34,
     "metadata": {},
     "output_type": "execute_result"
    }
   ],
   "source": [
    "tuple = (19, \"Marzo\", 3.1415) #using () to create a tuple, Tuples are immutable, their contents cannot be changed once they are created\n",
    "tuple"
   ]
  },
  {
   "cell_type": "markdown",
   "id": "25ecd132",
   "metadata": {},
   "source": [
    "f.Create a dictionary with at least 3 different  keys and values ."
   ]
  },
  {
   "cell_type": "code",
   "execution_count": 37,
   "id": "57ac77f1",
   "metadata": {},
   "outputs": [
    {
     "data": {
      "text/plain": [
       "{'name': 'Alice', 'age': 25, 'city': 'New York'}"
      ]
     },
     "execution_count": 37,
     "metadata": {},
     "output_type": "execute_result"
    }
   ],
   "source": [
    "dict = {\"name\": \"Alice\",\"age\": 25,\"city\": \"New York\"}  #using {} to create a dictionary\n",
    "dict"
   ]
  },
  {
   "cell_type": "markdown",
   "id": "88837e32",
   "metadata": {},
   "source": [
    "g.We got the next courses list: "
   ]
  },
  {
   "cell_type": "code",
   "execution_count": 40,
   "id": "b75be7fb",
   "metadata": {},
   "outputs": [],
   "source": [
    "courses = [\"History\", \"Economy\", \"Anthropology\", \"Sociology \", \"Literature\"]"
   ]
  },
  {
   "cell_type": "markdown",
   "id": "005d3d70",
   "metadata": {},
   "source": [
    "g.1.Add tree additional courses in 3 different ways( one for each way):\n",
    "   - Sum (+) a list that contains an additional course. \n",
    "   - Use append. \n",
    "   - Use extend. "
   ]
  },
  {
   "cell_type": "code",
   "execution_count": 43,
   "id": "6d6e70db",
   "metadata": {},
   "outputs": [
    {
     "data": {
      "text/plain": [
       "['History',\n",
       " 'Economy',\n",
       " 'Anthropology',\n",
       " 'Sociology ',\n",
       " 'Literature',\n",
       " 'Philosophy',\n",
       " 'Mathematics',\n",
       " 'Biology']"
      ]
     },
     "execution_count": 43,
     "metadata": {},
     "output_type": "execute_result"
    }
   ],
   "source": [
    "courses = courses + [\"Philosophy\"] #for sum\n",
    "courses.append(\"Mathematics\") #for append\n",
    "courses.extend([\"Biology\"]) #for extend\n",
    "courses"
   ]
  },
  {
   "cell_type": "markdown",
   "id": "6cf07d6a",
   "metadata": {},
   "source": [
    "g.2.Use the indexation to stress _Sociology_."
   ]
  },
  {
   "cell_type": "code",
   "execution_count": 46,
   "id": "0a03e468",
   "metadata": {},
   "outputs": [
    {
     "data": {
      "text/plain": [
       "['History',\n",
       " 'Economy',\n",
       " 'Anthropology',\n",
       " 'SOCIOLOGY ',\n",
       " 'Literature',\n",
       " 'Philosophy',\n",
       " 'Mathematics',\n",
       " 'Biology']"
      ]
     },
     "execution_count": 46,
     "metadata": {},
     "output_type": "execute_result"
    }
   ],
   "source": [
    "courses[3] = courses[3].upper() #stress Sociology\n",
    "courses"
   ]
  },
  {
   "cell_type": "markdown",
   "id": "bfb7ace5",
   "metadata": {},
   "source": [
    "g.3 Remove your least favourite course"
   ]
  },
  {
   "cell_type": "code",
   "execution_count": 49,
   "id": "63ea56cf",
   "metadata": {},
   "outputs": [
    {
     "data": {
      "text/plain": [
       "['History',\n",
       " 'Economy',\n",
       " 'SOCIOLOGY ',\n",
       " 'Literature',\n",
       " 'Philosophy',\n",
       " 'Mathematics',\n",
       " 'Biology']"
      ]
     },
     "execution_count": 49,
     "metadata": {},
     "output_type": "execute_result"
    }
   ],
   "source": [
    "leastfavcourse = \"Anthropology\" #remove 1 course\n",
    "courses.remove(leastfavcourse)\n",
    "courses"
   ]
  },
  {
   "cell_type": "markdown",
   "id": "d07e8d7c",
   "metadata": {},
   "source": [
    "g.4. Invert the list"
   ]
  },
  {
   "cell_type": "code",
   "execution_count": 52,
   "id": "c32c86be",
   "metadata": {},
   "outputs": [
    {
     "data": {
      "text/plain": [
       "['Biology',\n",
       " 'Mathematics',\n",
       " 'Philosophy',\n",
       " 'Literature',\n",
       " 'SOCIOLOGY ',\n",
       " 'Economy',\n",
       " 'History']"
      ]
     },
     "execution_count": 52,
     "metadata": {},
     "output_type": "execute_result"
    }
   ],
   "source": [
    "courses.reverse() #invert courses\n",
    "courses"
   ]
  },
  {
   "cell_type": "markdown",
   "id": "17a5576a",
   "metadata": {},
   "source": [
    "h.Create a dictionary that representst a fruits inventory:\n",
    " - Add at least 5 fruits to the inventory\n",
    "- Print the amount of apples in stock \n",
    "- Modify the amount of grapes\n"
   ]
  },
  {
   "cell_type": "code",
   "execution_count": 55,
   "id": "a7ec16e9",
   "metadata": {},
   "outputs": [
    {
     "data": {
      "text/plain": [
       "{'apples': 10, 'bananas': 15, 'oranges': 8, 'grapes': 20, 'pears': 12}"
      ]
     },
     "execution_count": 55,
     "metadata": {},
     "output_type": "execute_result"
    }
   ],
   "source": [
    "fruits_inventory = {\"apples\": 10,\"bananas\": 15,\"oranges\": 8,\"grapes\": 20,\"pears\": 12} #list of fruits\n",
    "fruits_inventory"
   ]
  },
  {
   "cell_type": "code",
   "execution_count": 57,
   "id": "e8cdb93a-be23-4557-ae06-b766c6b72368",
   "metadata": {},
   "outputs": [
    {
     "data": {
      "text/plain": [
       "{'apples': 10, 'bananas': 15, 'oranges': 8, 'grapes': 25, 'pears': 12}"
      ]
     },
     "execution_count": 57,
     "metadata": {},
     "output_type": "execute_result"
    }
   ],
   "source": [
    "fruits_inventory[\"grapes\"] = 25 #modify amount of grapes\n",
    "fruits_inventory"
   ]
  },
  {
   "cell_type": "markdown",
   "id": "0c74c187",
   "metadata": {},
   "source": [
    "i.  Write a dictionary with the local GMT of the nexts cities:\n",
    "- Antananarivo, Madagascar, \n",
    "- Beirut, Lebanon, \n",
    "- Jakarta, Indonesia, \n",
    "- Teherán, Iran, \n",
    "- Vientiane, Laos, \n",
    "\n",
    "\n",
    "\n",
    "Hint: Lima would be: `\"Lima\": -5`"
   ]
  },
  {
   "cell_type": "code",
   "execution_count": 60,
   "id": "95e4b82d",
   "metadata": {},
   "outputs": [
    {
     "data": {
      "text/plain": [
       "{'Antananarivo': 3, 'Beirut': 2, 'Jakarta': 7, 'Teherán': 3.5, 'Vientiane': 7}"
      ]
     },
     "execution_count": 60,
     "metadata": {},
     "output_type": "execute_result"
    }
   ],
   "source": [
    "gmt_cities = {\"Antananarivo\": 3,\"Beirut\": 2,\"Jakarta\": 7,\"Teherán\": 3.5,\"Vientiane\": 7}\n",
    "gmt_cities"
   ]
  },
  {
   "cell_type": "markdown",
   "id": "e0f93671",
   "metadata": {},
   "source": [
    " j.Add the nexts cities to the dictionary:\n",
    "- Astana, Kazakhstan,\n",
    "- Uagadugú, Burkina Faso,\n",
    "- Balmopan, Belize"
   ]
  },
  {
   "cell_type": "code",
   "execution_count": 63,
   "id": "8d003c7b-e2c3-496d-adcb-4a57964819bc",
   "metadata": {},
   "outputs": [
    {
     "data": {
      "text/plain": [
       "{'Antananarivo': 3,\n",
       " 'Beirut': 2,\n",
       " 'Jakarta': 7,\n",
       " 'Teherán': 3.5,\n",
       " 'Vientiane': 7,\n",
       " 'Astana': 6,\n",
       " 'Uagadugú': 0,\n",
       " 'Balmopan': -6}"
      ]
     },
     "execution_count": 63,
     "metadata": {},
     "output_type": "execute_result"
    }
   ],
   "source": [
    "gmt_cities[\"Astana\"] = 6\n",
    "gmt_cities[\"Uagadugú\"] = 0\n",
    "gmt_cities[\"Balmopan\"] = -6\n",
    "gmt_cities"
   ]
  },
  {
   "cell_type": "markdown",
   "id": "c6c4f120",
   "metadata": {},
   "source": [
    "# Part 3. Numpy\n"
   ]
  },
  {
   "cell_type": "code",
   "execution_count": 84,
   "id": "9337bea9-59b4-4834-8af1-3c18965edfb7",
   "metadata": {},
   "outputs": [],
   "source": [
    "import numpy as np"
   ]
  },
  {
   "cell_type": "markdown",
   "id": "ef5f5f96",
   "metadata": {},
   "source": [
    "k.Create an array with 10 aleatory values that go from 0 to 9"
   ]
  },
  {
   "cell_type": "code",
   "execution_count": 91,
   "id": "8005c972-7580-48a4-878d-d6a5fd65189f",
   "metadata": {},
   "outputs": [
    {
     "data": {
      "text/plain": [
       "array([7, 7, 4, 7, 1, 7, 0, 9, 2, 8])"
      ]
     },
     "execution_count": 91,
     "metadata": {},
     "output_type": "execute_result"
    }
   ],
   "source": [
    "# For this task we use np.random.randint in order to get integer random values\n",
    "array_ale = np.random.randint(0, 10, 10)\n",
    "array_ale"
   ]
  },
  {
   "cell_type": "markdown",
   "id": "f653f08e",
   "metadata": {},
   "source": [
    "l.Create a matrix 3x2 fill with zeros"
   ]
  },
  {
   "cell_type": "code",
   "execution_count": 94,
   "id": "6aea98a5",
   "metadata": {},
   "outputs": [
    {
     "data": {
      "text/plain": [
       "array([[0., 0.],\n",
       "       [0., 0.],\n",
       "       [0., 0.]])"
      ]
     },
     "execution_count": 94,
     "metadata": {},
     "output_type": "execute_result"
    }
   ],
   "source": [
    "matrix_zero = np.zeros((3,2))\n",
    "matrix_zero"
   ]
  },
  {
   "cell_type": "markdown",
   "id": "b0cca53d",
   "metadata": {},
   "source": [
    "m.Sum two arrays and then multiply the output by an scalar"
   ]
  },
  {
   "cell_type": "code",
   "execution_count": 97,
   "id": "e1dac4c0-648d-4f63-a46f-7c80f21f7080",
   "metadata": {},
   "outputs": [
    {
     "name": "stdout",
     "output_type": "stream",
     "text": [
      "[4 2 2 4 0]\n",
      "[4 4 0 0 4]\n"
     ]
    }
   ],
   "source": [
    "# Create two random arrays with 5 values from 0 to 5 \n",
    "X = np.random.randint(0, 6, 5)\n",
    "Y = np.random.randint(0, 6, 5)\n",
    "# We see our arrays created\n",
    "print(X)\n",
    "print(Y)"
   ]
  },
  {
   "cell_type": "code",
   "execution_count": 99,
   "id": "7dca938e",
   "metadata": {},
   "outputs": [
    {
     "data": {
      "text/plain": [
       "array([8, 6, 2, 4, 4])"
      ]
     },
     "execution_count": 99,
     "metadata": {},
     "output_type": "execute_result"
    }
   ],
   "source": [
    "# Sum the two arrays and see the result\n",
    "sum_arrays = X + Y\n",
    "sum_arrays "
   ]
  },
  {
   "cell_type": "markdown",
   "id": "a9e3e08f",
   "metadata": {},
   "source": [
    "n.Create 2 arrays with the values that you wish :\n",
    "- Concatenate vertically \n",
    "- Concatenate horizontally "
   ]
  },
  {
   "cell_type": "code",
   "execution_count": 102,
   "id": "6469da02",
   "metadata": {},
   "outputs": [
    {
     "name": "stdout",
     "output_type": "stream",
     "text": [
      "[2 5 9 0 3]\n",
      "[5 1 4 8 6]\n"
     ]
    }
   ],
   "source": [
    "# Create two arrays\n",
    "A = np.array([2, 5, 9, 0, 3])\n",
    "B = np.array([5, 1, 4, 8, 6])\n",
    "print(A)\n",
    "print(B)"
   ]
  },
  {
   "cell_type": "code",
   "execution_count": 104,
   "id": "b7f7dcd5-5986-49f8-9c8a-7ae2c570588b",
   "metadata": {},
   "outputs": [
    {
     "data": {
      "text/plain": [
       "array([[2, 5, 9, 0, 3],\n",
       "       [5, 1, 4, 8, 6]])"
      ]
     },
     "execution_count": 104,
     "metadata": {},
     "output_type": "execute_result"
    }
   ],
   "source": [
    "# Vertical concatenation using method vstack\n",
    "vertical = np.vstack((A, B))\n",
    "vertical"
   ]
  },
  {
   "cell_type": "code",
   "execution_count": 106,
   "id": "454be1d3-af87-45e8-9441-fe2a9ab0ace3",
   "metadata": {},
   "outputs": [
    {
     "data": {
      "text/plain": [
       "array([2, 5, 9, 0, 3, 5, 1, 4, 8, 6])"
      ]
     },
     "execution_count": 106,
     "metadata": {},
     "output_type": "execute_result"
    }
   ],
   "source": [
    "# Horizontal concatenation using method hstack\n",
    "horizontal = np.hstack((A, B)) \n",
    "horizontal"
   ]
  }
 ],
 "metadata": {
  "kernelspec": {
   "display_name": "Python [conda env:base] *",
   "language": "python",
   "name": "conda-base-py"
  },
  "language_info": {
   "codemirror_mode": {
    "name": "ipython",
    "version": 3
   },
   "file_extension": ".py",
   "mimetype": "text/x-python",
   "name": "python",
   "nbconvert_exporter": "python",
   "pygments_lexer": "ipython3",
   "version": "3.12.7"
  }
 },
 "nbformat": 4,
 "nbformat_minor": 5
}
