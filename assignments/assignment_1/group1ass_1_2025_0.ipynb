{
 "cells": [
  {
   "cell_type": "markdown",
   "id": "5d198778",
   "metadata": {},
   "source": [
    "# Assignment_1\n",
    "If you copy codes from previous answers, explain each step. No explanation is `0 points`."
   ]
  },
  {
   "cell_type": "markdown",
   "id": "853562f8",
   "metadata": {},
   "source": [
    "##  Part 1.Data types\n"
   ]
  },
  {
   "cell_type": "markdown",
   "id": "521b5fe7",
   "metadata": {},
   "source": [
    "a.Declare one variable for each one these types: : int , float , string , boolean.\n",
    "- Print  the varible's type using  type () function\n",
    "\n",
    "\n"
   ]
  },
  {
   "cell_type": "code",
   "execution_count": 1,
   "id": "b8adc928",
   "metadata": {},
   "outputs": [
    {
     "data": {
      "text/plain": [
       "20"
      ]
     },
     "execution_count": 1,
     "metadata": {},
     "output_type": "execute_result"
    }
   ],
   "source": [
    "var_int = 20 \n",
    "var_int"
   ]
  },
  {
   "cell_type": "code",
   "execution_count": 2,
   "id": "e60956ae",
   "metadata": {},
   "outputs": [
    {
     "data": {
      "text/plain": [
       "int"
      ]
     },
     "execution_count": 2,
     "metadata": {},
     "output_type": "execute_result"
    }
   ],
   "source": [
    "type (var_int ) ## I use the \"type\" function to know what data type the previously defined variable is."
   ]
  },
  {
   "cell_type": "code",
   "execution_count": 3,
   "id": "0a2eeb17",
   "metadata": {},
   "outputs": [
    {
     "data": {
      "text/plain": [
       "23.5"
      ]
     },
     "execution_count": 3,
     "metadata": {},
     "output_type": "execute_result"
    }
   ],
   "source": [
    "var_float = 23.5\n",
    "var_float"
   ]
  },
  {
   "cell_type": "code",
   "execution_count": 4,
   "id": "9fc5335f",
   "metadata": {},
   "outputs": [
    {
     "data": {
      "text/plain": [
       "float"
      ]
     },
     "execution_count": 4,
     "metadata": {},
     "output_type": "execute_result"
    }
   ],
   "source": [
    "type(var_float) ## I use the \"type\" function to know what data type the previously defined variable is."
   ]
  },
  {
   "cell_type": "code",
   "execution_count": 5,
   "id": "66400766",
   "metadata": {},
   "outputs": [
    {
     "data": {
      "text/plain": [
       "'This is a string'"
      ]
     },
     "execution_count": 5,
     "metadata": {},
     "output_type": "execute_result"
    }
   ],
   "source": [
    "string = \"This is a string\"\n",
    "string"
   ]
  },
  {
   "cell_type": "code",
   "execution_count": 6,
   "id": "aac24bdc",
   "metadata": {},
   "outputs": [
    {
     "data": {
      "text/plain": [
       "str"
      ]
     },
     "execution_count": 6,
     "metadata": {},
     "output_type": "execute_result"
    }
   ],
   "source": [
    "type(string) ## I use the \"type\" function to know what data type the previously defined variable is."
   ]
  },
  {
   "cell_type": "code",
   "execution_count": 7,
   "id": "1bd1f6d3",
   "metadata": {},
   "outputs": [
    {
     "data": {
      "text/plain": [
       "False"
      ]
     },
     "execution_count": 7,
     "metadata": {},
     "output_type": "execute_result"
    }
   ],
   "source": [
    "var_bool = False\n",
    "var_bool"
   ]
  },
  {
   "cell_type": "code",
   "execution_count": 8,
   "id": "90719919",
   "metadata": {},
   "outputs": [
    {
     "data": {
      "text/plain": [
       "bool"
      ]
     },
     "execution_count": 8,
     "metadata": {},
     "output_type": "execute_result"
    }
   ],
   "source": [
    "type(var_bool) ## I use the \"type\" function to know what data type the previously defined variable is."
   ]
  },
  {
   "cell_type": "markdown",
   "id": "ce38f1d9",
   "metadata": {},
   "source": [
    " b. Using only the following inputs: ```5``` and ```2```  ,  work the  operators to get the output  : ```50```"
   ]
  },
  {
   "cell_type": "code",
   "execution_count": 9,
   "id": "46b08279",
   "metadata": {},
   "outputs": [
    {
     "data": {
      "text/plain": [
       "50"
      ]
     },
     "execution_count": 9,
     "metadata": {},
     "output_type": "execute_result"
    }
   ],
   "source": [
    "output = 2 * (5 **2)\n",
    "output"
   ]
  },
  {
   "cell_type": "markdown",
   "id": "42009dda",
   "metadata": {},
   "source": [
    "c. Evaluate if the output of the previous excercise is over 100. Create a variable that makes this evaluation. (Hint: It would be a boolean)."
   ]
  },
  {
   "cell_type": "code",
   "execution_count": 10,
   "id": "e1226c5e",
   "metadata": {},
   "outputs": [
    {
     "name": "stdout",
     "output_type": "stream",
     "text": [
      "False\n"
     ]
    }
   ],
   "source": [
    "print(output > 100)"
   ]
  },
  {
   "cell_type": "markdown",
   "id": "877a0395",
   "metadata": {},
   "source": [
    "d. Create a variable equal to a list that contains: \n",
    "- a string,\n",
    "- a boolean,\n",
    "- two numeric values ( of any kind)  and\n",
    "- a  list of two strings with the names of your favourite musical artists. "
   ]
  },
  {
   "cell_type": "code",
   "execution_count": 11,
   "id": "081b71d0",
   "metadata": {},
   "outputs": [
    {
     "data": {
      "text/plain": [
       "['My first list', True, 21, 48.7, ['Liam Gallagher', 'Steven Taylor']]"
      ]
     },
     "execution_count": 11,
     "metadata": {},
     "output_type": "execute_result"
    }
   ],
   "source": [
    "list_a = [\"My first list\", True, 21, 48.7,[\"Liam Gallagher\", \"Steven Taylor\"] ]\n",
    "list_a"
   ]
  },
  {
   "cell_type": "markdown",
   "id": "89c1cf5a",
   "metadata": {},
   "source": [
    "Other form"
   ]
  },
  {
   "cell_type": "code",
   "execution_count": 12,
   "id": "1fcb8f6b",
   "metadata": {},
   "outputs": [
    {
     "data": {
      "text/plain": [
       "['My first list', True, 21, 48.7]"
      ]
     },
     "execution_count": 12,
     "metadata": {},
     "output_type": "execute_result"
    }
   ],
   "source": [
    "list_1 = [\"My first list\", True, 21, 48.7] ## I created a list with the first values\n",
    "list_1"
   ]
  },
  {
   "cell_type": "code",
   "execution_count": 13,
   "id": "f052f90a",
   "metadata": {},
   "outputs": [
    {
     "data": {
      "text/plain": [
       "['Liam Gallagher', 'Steven Taylor']"
      ]
     },
     "execution_count": 13,
     "metadata": {},
     "output_type": "execute_result"
    }
   ],
   "source": [
    "list_2= [\"Liam Gallagher\", \"Steven Taylor\"] ##I created a list of two strings with the names of your favourite musical artists. \n",
    "list_2"
   ]
  },
  {
   "cell_type": "code",
   "execution_count": 14,
   "id": "c5b9ff62",
   "metadata": {},
   "outputs": [
    {
     "data": {
      "text/plain": [
       "['My first list', True, 21, 48.7, 'Liam Gallagher', 'Steven Taylor']"
      ]
     },
     "execution_count": 14,
     "metadata": {},
     "output_type": "execute_result"
    }
   ],
   "source": [
    "list_1.extend(list_2) ## I use the \"extend\" function to merge the two lists\n",
    "list_1"
   ]
  },
  {
   "cell_type": "markdown",
   "id": "e2a5f459",
   "metadata": {},
   "source": [
    "## Part 2. Containers"
   ]
  },
  {
   "cell_type": "markdown",
   "id": "51681d3c",
   "metadata": {},
   "source": [
    "e. Create a tuple with 3 elements. Explain why you can't modify it. "
   ]
  },
  {
   "cell_type": "code",
   "execution_count": 73,
   "id": "dd8d0079",
   "metadata": {},
   "outputs": [
    {
     "data": {
      "text/plain": [
       "(19, 'Marzo', 3.1415)"
      ]
     },
     "execution_count": 73,
     "metadata": {},
     "output_type": "execute_result"
    }
   ],
   "source": [
    "tuple = (19, \"Marzo\", 3.1415) #using () to create a tuple\n",
    "tuple"
   ]
  },
  {
   "cell_type": "markdown",
   "id": "252480df-72bc-4a57-bc03-7b421ebd5cf6",
   "metadata": {},
   "source": [
    "Tuples are immutable, their contents cannot be changed once they are created"
   ]
  },
  {
   "cell_type": "markdown",
   "id": "25ecd132",
   "metadata": {},
   "source": [
    "f.Create a dictionary with at least 3 different  keys and values ."
   ]
  },
  {
   "cell_type": "code",
   "execution_count": 77,
   "id": "57ac77f1",
   "metadata": {},
   "outputs": [
    {
     "data": {
      "text/plain": [
       "{'name': 'Alice', 'age': 25, 'city': 'New York'}"
      ]
     },
     "execution_count": 77,
     "metadata": {},
     "output_type": "execute_result"
    }
   ],
   "source": [
    "dict = {\"name\": \"Alice\",\"age\": 25,\"city\": \"New York\"}  #using {} to create a dictionary\n",
    "dict"
   ]
  },
  {
   "cell_type": "markdown",
   "id": "88837e32",
   "metadata": {},
   "source": [
    "g.We got the next courses list: "
   ]
  },
  {
   "cell_type": "code",
   "execution_count": 80,
   "id": "b75be7fb",
   "metadata": {},
   "outputs": [],
   "source": [
    "courses = [\"History\", \"Economy\", \"Anthropology\", \"Sociology \", \"Literature\"]"
   ]
  },
  {
   "cell_type": "markdown",
   "id": "005d3d70",
   "metadata": {},
   "source": [
    "g.1.Add tree additional courses in 3 different ways( one for each way):\n",
    "   - Sum (+) a list that contains an additional course. \n",
    "   - Use append. \n",
    "   - Use extend. "
   ]
  },
  {
   "cell_type": "code",
   "execution_count": 83,
   "id": "6d6e70db",
   "metadata": {},
   "outputs": [
    {
     "data": {
      "text/plain": [
       "['History',\n",
       " 'Economy',\n",
       " 'Anthropology',\n",
       " 'Sociology ',\n",
       " 'Literature',\n",
       " 'Philosophy',\n",
       " 'Mathematics',\n",
       " 'Biology']"
      ]
     },
     "execution_count": 83,
     "metadata": {},
     "output_type": "execute_result"
    }
   ],
   "source": [
    "courses = courses + [\"Philosophy\"] #for sum\n",
    "courses.append(\"Mathematics\") #for append\n",
    "courses.extend([\"Biology\"]) #for extend\n",
    "courses"
   ]
  },
  {
   "cell_type": "markdown",
   "id": "6cf07d6a",
   "metadata": {},
   "source": [
    "g.2.Use the indexation to stress _Sociology_."
   ]
  },
  {
   "cell_type": "code",
   "execution_count": 86,
   "id": "0a03e468",
   "metadata": {},
   "outputs": [
    {
     "data": {
      "text/plain": [
       "['History',\n",
       " 'Economy',\n",
       " 'Anthropology',\n",
       " 'SOCIOLOGY ',\n",
       " 'Literature',\n",
       " 'Philosophy',\n",
       " 'Mathematics',\n",
       " 'Biology']"
      ]
     },
     "execution_count": 86,
     "metadata": {},
     "output_type": "execute_result"
    }
   ],
   "source": [
    "courses[3] = courses[3].upper() #stress Sociology\n",
    "courses"
   ]
  },
  {
   "cell_type": "markdown",
   "id": "bfb7ace5",
   "metadata": {},
   "source": [
    "g.3 Remove your least favourite course"
   ]
  },
  {
   "cell_type": "code",
   "execution_count": 89,
   "id": "63ea56cf",
   "metadata": {},
   "outputs": [
    {
     "data": {
      "text/plain": [
       "['History',\n",
       " 'Economy',\n",
       " 'SOCIOLOGY ',\n",
       " 'Literature',\n",
       " 'Philosophy',\n",
       " 'Mathematics',\n",
       " 'Biology']"
      ]
     },
     "execution_count": 89,
     "metadata": {},
     "output_type": "execute_result"
    }
   ],
   "source": [
    "leastfavcourse = \"Anthropology\" #remove 1 course\n",
    "courses.remove(leastfavcourse)\n",
    "courses"
   ]
  },
  {
   "cell_type": "markdown",
   "id": "d07e8d7c",
   "metadata": {},
   "source": [
    "g.4. Invert the list"
   ]
  },
  {
   "cell_type": "code",
   "execution_count": 92,
   "id": "c32c86be",
   "metadata": {},
   "outputs": [
    {
     "data": {
      "text/plain": [
       "['Biology',\n",
       " 'Mathematics',\n",
       " 'Philosophy',\n",
       " 'Literature',\n",
       " 'SOCIOLOGY ',\n",
       " 'Economy',\n",
       " 'History']"
      ]
     },
     "execution_count": 92,
     "metadata": {},
     "output_type": "execute_result"
    }
   ],
   "source": [
    "courses.reverse() #invert courses\n",
    "courses"
   ]
  },
  {
   "cell_type": "markdown",
   "id": "17a5576a",
   "metadata": {},
   "source": [
    "h.Create a dictionary that representst a fruits inventory:\n",
    " - Add at least 5 fruits to the inventory\n",
    "- Print the amount of apples in stock \n",
    "- Modify the amount of grapes\n"
   ]
  },
  {
   "cell_type": "code",
   "execution_count": 95,
   "id": "a7ec16e9",
   "metadata": {},
   "outputs": [
    {
     "data": {
      "text/plain": [
       "{'apples': 10, 'bananas': 15, 'oranges': 8, 'grapes': 20, 'pears': 12}"
      ]
     },
     "execution_count": 95,
     "metadata": {},
     "output_type": "execute_result"
    }
   ],
   "source": [
    "fruits_inventory = {\"apples\": 10,\"bananas\": 15,\"oranges\": 8,\"grapes\": 20,\"pears\": 12} #list of fruits\n",
    "fruits_inventory"
   ]
  },
  {
   "cell_type": "code",
   "execution_count": 97,
   "id": "321737d8-c640-40c0-9523-42c6bcf4d182",
   "metadata": {},
   "outputs": [
    {
     "data": {
      "text/plain": [
       "{'apples': 10, 'bananas': 15, 'oranges': 8, 'grapes': 25, 'pears': 12}"
      ]
     },
     "execution_count": 97,
     "metadata": {},
     "output_type": "execute_result"
    }
   ],
   "source": [
    "fruits_inventory[\"grapes\"] = 25 #modify amount of grapes\n",
    "fruits_inventory"
   ]
  },
  {
   "cell_type": "markdown",
   "id": "0c74c187",
   "metadata": {},
   "source": [
    "i.  Write a dictionary with the local GMT of the nexts cities:\n",
    "- Antananarivo, Madagascar, \n",
    "- Beirut, Lebanon, \n",
    "- Jakarta, Indonesia, \n",
    "- Teherán, Iran, \n",
    "- Vientiane, Laos, \n",
    "\n",
    "\n",
    "\n",
    "Hint: Lima would be: `\"Lima\": -5`"
   ]
  },
  {
   "cell_type": "code",
   "execution_count": 100,
   "id": "95e4b82d",
   "metadata": {
    "scrolled": true
   },
   "outputs": [
    {
     "data": {
      "text/plain": [
       "{'Antananarivo': 3, 'Beirut': 2, 'Jakarta': 7, 'Teherán': 3.5, 'Vientiane': 7}"
      ]
     },
     "execution_count": 100,
     "metadata": {},
     "output_type": "execute_result"
    }
   ],
   "source": [
    "gmt_cities = {\"Antananarivo\": 3,\"Beirut\": 2,\"Jakarta\": 7,\"Teherán\": 3.5,\"Vientiane\": 7}\n",
    "gmt_cities"
   ]
  },
  {
   "cell_type": "markdown",
   "id": "e0f93671",
   "metadata": {},
   "source": [
    " j.Add the nexts cities to the dictionary:\n",
    "- Astana, Kazakhstan,\n",
    "- Uagadugú, Burkina Faso,\n",
    "- Balmopan, Belize"
   ]
  },
  {
   "cell_type": "code",
   "execution_count": 103,
   "id": "cbe5fe36-8eff-47e8-b908-21a606025b8d",
   "metadata": {},
   "outputs": [
    {
     "data": {
      "text/plain": [
       "{'Antananarivo': 3,\n",
       " 'Beirut': 2,\n",
       " 'Jakarta': 7,\n",
       " 'Teherán': 3.5,\n",
       " 'Vientiane': 7,\n",
       " 'Astana': 6,\n",
       " 'Uagadugú': 0,\n",
       " 'Balmopan': -6}"
      ]
     },
     "execution_count": 103,
     "metadata": {},
     "output_type": "execute_result"
    }
   ],
   "source": [
    "gmt_cities[\"Astana\"] = 6\n",
    "gmt_cities[\"Uagadugú\"] = 0\n",
    "gmt_cities[\"Balmopan\"] = -6\n",
    "gmt_cities"
   ]
  },
  {
   "cell_type": "markdown",
   "id": "c6c4f120",
   "metadata": {},
   "source": [
    "# Part 3. Numpy\n"
   ]
  },
  {
   "cell_type": "code",
   "execution_count": 106,
   "id": "f7b69414-71e4-45af-b60c-e16ddf9dbada",
   "metadata": {},
   "outputs": [],
   "source": [
    "import numpy as np"
   ]
  },
  {
   "cell_type": "markdown",
   "id": "ef5f5f96",
   "metadata": {},
   "source": [
    "k.Create an array with 10 aleatory values that go from 0 to 9"
   ]
  },
  {
   "cell_type": "code",
   "execution_count": 109,
   "id": "4d91ba38-fce8-4524-87f5-ffec0426a090",
   "metadata": {},
   "outputs": [
    {
     "data": {
      "text/plain": [
       "array([9, 7, 8, 8, 7, 3, 5, 6, 9, 4])"
      ]
     },
     "execution_count": 109,
     "metadata": {},
     "output_type": "execute_result"
    }
   ],
   "source": [
    "# For this task we use np.random.randint in order to get integer random values\n",
    "array_ale = np.random.randint(0, 10, 10)\n",
    "array_ale"
   ]
  },
  {
   "cell_type": "markdown",
   "id": "f653f08e",
   "metadata": {},
   "source": [
    "l.Create a matrix 3x2 fill with zeros"
   ]
  },
  {
   "cell_type": "code",
   "execution_count": 112,
   "id": "6aea98a5",
   "metadata": {},
   "outputs": [
    {
     "data": {
      "text/plain": [
       "array([[0., 0.],\n",
       "       [0., 0.],\n",
       "       [0., 0.]])"
      ]
     },
     "execution_count": 112,
     "metadata": {},
     "output_type": "execute_result"
    }
   ],
   "source": [
    "matrix_zero = np.zeros((3,2))\n",
    "matrix_zero"
   ]
  },
  {
   "cell_type": "markdown",
   "id": "b0cca53d",
   "metadata": {},
   "source": [
    "m.Sum two arrays and then multiply the output by an scalar"
   ]
  },
  {
   "cell_type": "code",
   "execution_count": 115,
   "id": "3246dffa-88e5-4b29-83b7-04e6de8e6cce",
   "metadata": {},
   "outputs": [
    {
     "name": "stdout",
     "output_type": "stream",
     "text": [
      "[5 5 3 0 5]\n",
      "[4 5 2 1 3]\n"
     ]
    }
   ],
   "source": [
    "# Create two random arrays with 5 values from 0 to 5 \n",
    "X = np.random.randint(0, 6, 5)\n",
    "Y = np.random.randint(0, 6, 5)\n",
    "# We see our arrays created\n",
    "print(X)\n",
    "print(Y)"
   ]
  },
  {
   "cell_type": "code",
   "execution_count": 117,
   "id": "8b1736c5-e01a-4e37-96f5-8f9b48125825",
   "metadata": {},
   "outputs": [
    {
     "data": {
      "text/plain": [
       "array([ 9, 10,  5,  1,  8])"
      ]
     },
     "execution_count": 117,
     "metadata": {},
     "output_type": "execute_result"
    }
   ],
   "source": [
    "# Sum the two arrays and see the result\n",
    "sum_arrays = X + Y\n",
    "sum_arrays "
   ]
  },
  {
   "cell_type": "code",
   "execution_count": 119,
   "id": "b4a4e9e1-81b2-43f9-ac05-ce62e5f524fe",
   "metadata": {},
   "outputs": [
    {
     "data": {
      "text/plain": [
       "array([45, 50, 25,  5, 40])"
      ]
     },
     "execution_count": 119,
     "metadata": {},
     "output_type": "execute_result"
    }
   ],
   "source": [
    "# Create an scalar, in this case 5, and then we multiply it by the sum\n",
    "scalar = 5 \n",
    "result = sum_arrays*scalar \n",
    "result"
   ]
  },
  {
   "cell_type": "markdown",
   "id": "a9e3e08f",
   "metadata": {},
   "source": [
    "n.Create 2 arrays with the values that you wish :\n",
    "- Concatenate vertically \n",
    "- Concatenate horizontally "
   ]
  },
  {
   "cell_type": "code",
   "execution_count": 122,
   "id": "b91b22cd-034c-4c02-8498-45e3f5326d20",
   "metadata": {},
   "outputs": [
    {
     "name": "stdout",
     "output_type": "stream",
     "text": [
      "[2 5 9 0 3]\n",
      "[5 1 4 8 6]\n"
     ]
    }
   ],
   "source": [
    "# Create two arrays\n",
    "A = np.array([2, 5, 9, 0, 3])\n",
    "B = np.array([5, 1, 4, 8, 6])\n",
    "print(A)\n",
    "print(B)"
   ]
  },
  {
   "cell_type": "code",
   "execution_count": 124,
   "id": "6469da02",
   "metadata": {},
   "outputs": [
    {
     "data": {
      "text/plain": [
       "array([[2, 5, 9, 0, 3],\n",
       "       [5, 1, 4, 8, 6]])"
      ]
     },
     "execution_count": 124,
     "metadata": {},
     "output_type": "execute_result"
    }
   ],
   "source": [
    "# Vertical concatenation using method vstack\n",
    "vertical = np.vstack((A, B))\n",
    "vertical"
   ]
  },
  {
   "cell_type": "code",
   "execution_count": 126,
   "id": "796d2de7-0376-4732-868e-2c2b2f98cf33",
   "metadata": {},
   "outputs": [
    {
     "data": {
      "text/plain": [
       "array([2, 5, 9, 0, 3, 5, 1, 4, 8, 6])"
      ]
     },
     "execution_count": 126,
     "metadata": {},
     "output_type": "execute_result"
    }
   ],
   "source": [
    "# Horizontal concatenation using method hstack\n",
    "horizontal = np.hstack((A, B)) \n",
    "horizontal"
   ]
  }
 ],
 "metadata": {
  "kernelspec": {
   "display_name": "Python [conda env:base] *",
   "language": "python",
   "name": "conda-base-py"
  },
  "language_info": {
   "codemirror_mode": {
    "name": "ipython",
    "version": 3
   },
   "file_extension": ".py",
   "mimetype": "text/x-python",
   "name": "python",
   "nbconvert_exporter": "python",
   "pygments_lexer": "ipython3",
   "version": "3.12.7"
  }
 },
 "nbformat": 4,
 "nbformat_minor": 5
}
