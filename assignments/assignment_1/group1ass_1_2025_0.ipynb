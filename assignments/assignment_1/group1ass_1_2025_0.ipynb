{
 "cells": [
  {
   "cell_type": "markdown",
   "id": "5d198778",
   "metadata": {},
   "source": [
    "# Assignment_1\n",
    "If you copy codes from previous answers, explain each step. No explanation is `0 points`."
   ]
  },
  {
   "cell_type": "markdown",
   "id": "853562f8",
   "metadata": {},
   "source": [
    "##  Part 1.Data types\n"
   ]
  },
  {
   "cell_type": "markdown",
   "id": "521b5fe7",
   "metadata": {},
   "source": [
    "a.Declare one variable for each one these types: : int , float , string , boolean.\n",
    "- Print  the varible's type using  type () function\n",
    "\n",
    "\n"
   ]
  },
  {
   "cell_type": "code",
   "execution_count": 6,
   "id": "b8adc928",
   "metadata": {},
   "outputs": [
    {
     "name": "stdout",
     "output_type": "stream",
     "text": [
      "38\n"
     ]
    }
   ],
   "source": [
    "#int\n",
    "i = 38\n",
    "print(i)  "
   ]
  },
  {
   "cell_type": "code",
   "execution_count": 13,
   "id": "857f8465-2165-4af8-8ab7-6ae545d72abd",
   "metadata": {},
   "outputs": [
    {
     "name": "stdout",
     "output_type": "stream",
     "text": [
      "sheferino\n"
     ]
    }
   ],
   "source": [
    "#string \n",
    "ar = \"sheferino\"\n",
    "print(ar)"
   ]
  },
  {
   "cell_type": "code",
   "execution_count": 11,
   "id": "3dd44a54-e317-46c2-8d33-41fa936a2ff2",
   "metadata": {},
   "outputs": [
    {
     "name": "stdout",
     "output_type": "stream",
     "text": [
      "False\n"
     ]
    }
   ],
   "source": [
    "#boolean \n",
    "xyz = False\n",
    "print(xyz)"
   ]
  },
  {
   "cell_type": "code",
   "execution_count": 9,
   "id": "a0a8ec8a-689a-42b9-adcd-fb9212500e64",
   "metadata": {},
   "outputs": [
    {
     "name": "stdout",
     "output_type": "stream",
     "text": [
      "34.6\n"
     ]
    }
   ],
   "source": [
    "#float\n",
    "o = 34.6\n",
    "print(o)"
   ]
  },
  {
   "cell_type": "markdown",
   "id": "ce38f1d9",
   "metadata": {},
   "source": [
    " b. Using only the following inputs: ```5``` and ```2```  ,  work the  operators to get the output  : ```50```"
   ]
  },
  {
   "cell_type": "code",
   "execution_count": 15,
   "id": "46b08279",
   "metadata": {},
   "outputs": [
    {
     "name": "stdout",
     "output_type": "stream",
     "text": [
      "50\n"
     ]
    }
   ],
   "source": [
    "a = 5\n",
    "b = 2 \n",
    "output = 5*2 + 40\n",
    "print(output)"
   ]
  },
  {
   "cell_type": "markdown",
   "id": "42009dda",
   "metadata": {},
   "source": [
    "c. Evaluate if the output of the previous excercise is over 100. Create a variable that makes this evaluation. (Hint: It would be a boolean)."
   ]
  },
  {
   "cell_type": "code",
   "execution_count": 17,
   "id": "e1226c5e",
   "metadata": {},
   "outputs": [
    {
     "name": "stdout",
     "output_type": "stream",
     "text": [
      "False\n"
     ]
    }
   ],
   "source": [
    "proposition = print(50 > 100)\n",
    "proposition "
   ]
  },
  {
   "cell_type": "markdown",
   "id": "877a0395",
   "metadata": {},
   "source": [
    "d. Create a variable equal to a list that contains: \n",
    "- a string,\n",
    "- a boolean,\n",
    "- two numeric values ( of any kind)  and\n",
    "- a  list of two strings with the names of your favourite musical artists. "
   ]
  },
  {
   "cell_type": "code",
   "execution_count": 19,
   "id": "081b71d0",
   "metadata": {},
   "outputs": [
    {
     "data": {
      "text/plain": [
       "['Shefe', False, 27, 29, ['Mozart', 'Cerati']]"
      ]
     },
     "execution_count": 19,
     "metadata": {},
     "output_type": "execute_result"
    }
   ],
   "source": [
    "my_list = [\"Shefe\", False, 27, 29, [ \"Mozart\", \"Cerati\"] ]\n",
    "my_list "
   ]
  },
  {
   "cell_type": "markdown",
   "id": "e2a5f459",
   "metadata": {},
   "source": [
    "## Part 2. Containers"
   ]
  },
  {
   "cell_type": "markdown",
   "id": "51681d3c",
   "metadata": {},
   "source": [
    "e. Create a tuple with 3 elements. Explain why you can't modify it. "
   ]
  },
  {
   "cell_type": "code",
   "execution_count": 21,
   "id": "dd8d0079",
   "metadata": {},
   "outputs": [
    {
     "data": {
      "text/plain": [
       "(8, 9, 'True')"
      ]
     },
     "execution_count": 21,
     "metadata": {},
     "output_type": "execute_result"
    }
   ],
   "source": [
    "#we create the following tuple, \n",
    "tuple_1 = ( 8, 9, \"True\")\n",
    "tuple_1"
   ]
  },
  {
   "cell_type": "code",
   "execution_count": 23,
   "id": "7f2632ed-2843-47a0-af8b-790532df4959",
   "metadata": {},
   "outputs": [
    {
     "ename": "TypeError",
     "evalue": "'tuple' object does not support item assignment",
     "output_type": "error",
     "traceback": [
      "\u001b[1;31m---------------------------------------------------------------------------\u001b[0m",
      "\u001b[1;31mTypeError\u001b[0m                                 Traceback (most recent call last)",
      "Cell \u001b[1;32mIn[23], line 2\u001b[0m\n\u001b[0;32m      1\u001b[0m \u001b[38;5;66;03m#if we want to change the second element \u001b[39;00m\n\u001b[1;32m----> 2\u001b[0m tuple_1[\u001b[38;5;241m1\u001b[39m] \u001b[38;5;241m=\u001b[39m \u001b[38;5;241m90.7\u001b[39m\n",
      "\u001b[1;31mTypeError\u001b[0m: 'tuple' object does not support item assignment"
     ]
    }
   ],
   "source": [
    "#if we want to change the second element \n",
    "tuple_1[1] = 90.7\n",
    "#since tuples are inmutable by definition, it makes impossible our effort to redfinite its components."
   ]
  },
  {
   "cell_type": "markdown",
   "id": "25ecd132",
   "metadata": {},
   "source": [
    "f.Create a dictionary with at least 3 different  keys and values ."
   ]
  },
  {
   "cell_type": "code",
   "execution_count": 25,
   "id": "57ac77f1",
   "metadata": {},
   "outputs": [
    {
     "data": {
      "text/plain": [
       "{'Nombre': 'Amador', 'age': 77, 'retired': True, 'Workhours': 7.5}"
      ]
     },
     "execution_count": 25,
     "metadata": {},
     "output_type": "execute_result"
    }
   ],
   "source": [
    "sheferino_1 = { \"Nombre\": \"Amador\", \"age\": 77, \"retired\": True, \"Workhours\": 7.5}\n",
    "sheferino_1"
   ]
  },
  {
   "cell_type": "markdown",
   "id": "88837e32",
   "metadata": {},
   "source": [
    "g.We got the next courses list: "
   ]
  },
  {
   "cell_type": "code",
   "execution_count": 5,
   "id": "b75be7fb",
   "metadata": {},
   "outputs": [],
   "source": [
    "courses = [\"History\", \"Economy\", \"Anthropology\", \"Sociology \", \"Literature\"]"
   ]
  },
  {
   "cell_type": "markdown",
   "id": "005d3d70",
   "metadata": {},
   "source": [
    "g.1.Add tree additional courses in 3 different ways( one for each way):\n",
    "   - Sum (+) a list that contains an additional course. \n",
    "   - Use append. \n",
    "   - Use extend. "
   ]
  },
  {
   "cell_type": "code",
   "execution_count": 27,
   "id": "6d6e70db",
   "metadata": {},
   "outputs": [],
   "source": [
    "#Here we add the additional courses\n",
    "favourite_courses = [ \"Math\", \"Chemistry\", \"Physics\"]\n",
    "courses = [\"History\", \"Economy\", \"Anthropology\", \"Sociology \", \"Literature\"]"
   ]
  },
  {
   "cell_type": "code",
   "execution_count": 29,
   "id": "738f3fdf-c8e7-4cd3-8415-f07cdae63cdb",
   "metadata": {},
   "outputs": [
    {
     "data": {
      "text/plain": [
       "[]"
      ]
     },
     "execution_count": 29,
     "metadata": {},
     "output_type": "execute_result"
    }
   ],
   "source": [
    "#now I create a final list \n",
    "my_courses = []\n",
    "my_courses"
   ]
  },
  {
   "cell_type": "code",
   "execution_count": 31,
   "id": "cccd1750-e243-4e50-a5d5-b62e0d7e7987",
   "metadata": {},
   "outputs": [
    {
     "data": {
      "text/plain": [
       "[['History', 'Economy', 'Anthropology', 'Sociology ', 'Literature']]"
      ]
     },
     "execution_count": 31,
     "metadata": {},
     "output_type": "execute_result"
    }
   ],
   "source": [
    "#first, with append:\n",
    "my_courses.append(courses)\n",
    "my_courses "
   ]
  },
  {
   "cell_type": "code",
   "execution_count": 33,
   "id": "5f383c1b-8b00-48bc-84a4-e29c9da6a7a8",
   "metadata": {},
   "outputs": [
    {
     "data": {
      "text/plain": [
       "[['History', 'Economy', 'Anthropology', 'Sociology ', 'Literature'],\n",
       " ['Math', 'Chemistry', 'Physics']]"
      ]
     },
     "execution_count": 33,
     "metadata": {},
     "output_type": "execute_result"
    }
   ],
   "source": [
    "my_courses.append(favourite_courses)\n",
    "my_courses "
   ]
  },
  {
   "cell_type": "code",
   "execution_count": 35,
   "id": "36f0ca11-289b-418b-85cf-fe0b48db4f6d",
   "metadata": {},
   "outputs": [
    {
     "data": {
      "text/plain": [
       "[['History', 'Economy', 'Anthropology', 'Sociology ', 'Literature'],\n",
       " ['Math', 'Chemistry', 'Physics'],\n",
       " 'History',\n",
       " 'Economy',\n",
       " 'Anthropology',\n",
       " 'Sociology ',\n",
       " 'Literature',\n",
       " 'Math',\n",
       " 'Chemistry',\n",
       " 'Physics']"
      ]
     },
     "execution_count": 35,
     "metadata": {},
     "output_type": "execute_result"
    }
   ],
   "source": [
    "#given that append function used previously records our changes, we obtain \n",
    "my_courses.extend(courses + favourite_courses)\n",
    "my_courses "
   ]
  },
  {
   "cell_type": "markdown",
   "id": "6cf07d6a",
   "metadata": {},
   "source": [
    "g.2.Use the indexation to stress _Sociology_."
   ]
  },
  {
   "cell_type": "code",
   "execution_count": 37,
   "id": "0a03e468",
   "metadata": {},
   "outputs": [
    {
     "data": {
      "text/plain": [
       "['Sociology', 'Economy', 'Anthropology', 'Sociology ', 'Literature']"
      ]
     },
     "execution_count": 37,
     "metadata": {},
     "output_type": "execute_result"
    }
   ],
   "source": [
    "#I choose to put it at the fist \n",
    "courses[-5] = \"Sociology\"\n",
    "courses "
   ]
  },
  {
   "cell_type": "markdown",
   "id": "bfb7ace5",
   "metadata": {},
   "source": [
    "g.3 Remove your least favourite course"
   ]
  },
  {
   "cell_type": "code",
   "execution_count": 39,
   "id": "63ea56cf",
   "metadata": {},
   "outputs": [
    {
     "data": {
      "text/plain": [
       "['Sociology', 'Economy', 'Sociology ', 'Literature']"
      ]
     },
     "execution_count": 39,
     "metadata": {},
     "output_type": "execute_result"
    }
   ],
   "source": [
    "courses.remove( \"Anthropology\")\n",
    "courses \n"
   ]
  },
  {
   "cell_type": "markdown",
   "id": "d07e8d7c",
   "metadata": {},
   "source": [
    "g.4. Invert the list"
   ]
  },
  {
   "cell_type": "code",
   "execution_count": 41,
   "id": "c32c86be",
   "metadata": {},
   "outputs": [
    {
     "data": {
      "text/plain": [
       "['Literature', 'Sociology ', 'Economy', 'Sociology']"
      ]
     },
     "execution_count": 41,
     "metadata": {},
     "output_type": "execute_result"
    }
   ],
   "source": [
    "courses.reverse()\n",
    "courses "
   ]
  },
  {
   "cell_type": "markdown",
   "id": "17a5576a",
   "metadata": {},
   "source": [
    "h.Create a dictionary that representst a fruits inventory:\n",
    " - Add at least 5 fruits to the inventory\n",
    "- Print the amount of apples in stock \n",
    "- Modify the amount of grapes\n"
   ]
  },
  {
   "cell_type": "code",
   "execution_count": 43,
   "id": "a7ec16e9",
   "metadata": {},
   "outputs": [],
   "source": [
    "frutas_del_mercado = { \"Apples\" : 50, \"Grapes\" : 80, \"Orange\" : 70, \"Bananas\" : 12 }"
   ]
  },
  {
   "cell_type": "code",
   "execution_count": 45,
   "id": "55cbabba-ed7c-41ae-815a-fb13e78ac85f",
   "metadata": {},
   "outputs": [
    {
     "data": {
      "text/plain": [
       "50"
      ]
     },
     "execution_count": 45,
     "metadata": {},
     "output_type": "execute_result"
    }
   ],
   "source": [
    "#now I show the quantity of apples available \n",
    "frutas_del_mercado[\"Apples\"]"
   ]
  },
  {
   "cell_type": "code",
   "execution_count": 47,
   "id": "50978c95-be53-4ad6-899b-9522d0e38e3c",
   "metadata": {},
   "outputs": [
    {
     "data": {
      "text/plain": [
       "{'Apples': 50, 'Grapes': 13, 'Orange': 70, 'Bananas': 12}"
      ]
     },
     "execution_count": 47,
     "metadata": {},
     "output_type": "execute_result"
    }
   ],
   "source": [
    "#I proceed to change the stock of grapes as follows\n",
    "frutas_del_mercado[\"Grapes\"] = 13\n",
    "frutas_del_mercado"
   ]
  },
  {
   "cell_type": "markdown",
   "id": "0c74c187",
   "metadata": {},
   "source": [
    "i.  Write a dictionary with the local GMT of the nexts cities:\n",
    "- Antananarivo, Madagascar, \n",
    "- Beirut, Lebanon, \n",
    "- Jakarta, Indonesia, \n",
    "- Teherán, Iran, \n",
    "- Vientiane, Laos, \n",
    "\n",
    "\n",
    "\n",
    "Hint: Lima would be: `\"Lima\": -5`"
   ]
  },
  {
   "cell_type": "code",
   "execution_count": 1,
   "id": "95e4b82d",
   "metadata": {},
   "outputs": [
    {
     "name": "stdout",
     "output_type": "stream",
     "text": [
      "{'Antananarivo': 3, 'Beirut': 2, 'Jakarta': 7, 'Teherán': 3.5, 'Vientiane': 7}\n"
     ]
    }
   ],
   "source": [
    "# Diccionario con las ciudades y sus GMT\n",
    "ciudad_gmt = {\"Antananarivo\": 3, \"Beirut\": 2, \"Jakarta\": 7, \"Teherán\": 3.5, \"Vientiane\": 7}\n",
    "print(ciudad_gmt)"
   ]
  },
  {
   "cell_type": "markdown",
   "id": "e0f93671",
   "metadata": {},
   "source": [
    " j.Add the nexts cities to the dictionary:\n",
    "- Astana, Kazakhstan,\n",
    "- Uagadugú, Burkina Faso,\n",
    "- Balmopan, Belize"
   ]
  },
  {
   "cell_type": "code",
   "execution_count": 3,
   "id": "e4bb2cbf",
   "metadata": {},
   "outputs": [
    {
     "name": "stdout",
     "output_type": "stream",
     "text": [
      "{'Antananarivo': 3, 'Beirut': 2, 'Jakarta': 7, 'Teherán': 3.5, 'Vientiane': 7, 'Astana': 6, 'Uagadugú': 0, 'Balmopan': -6}\n"
     ]
    }
   ],
   "source": [
    "ciudad_gmt[\"Astana\"] = 5    \n",
    "ciudad_gmt[\"Uagadugú\"] = 0   \n",
    "ciudad_gmt[\"Balmopan\"] = -6  \n",
    "print(ciudad_gmt)"
   ]
  },
  {
   "cell_type": "markdown",
   "id": "c6c4f120",
   "metadata": {},
   "source": [
    "# Part 3. Numpy\n"
   ]
  },
  {
   "cell_type": "markdown",
   "id": "ef5f5f96",
   "metadata": {},
   "source": [
    "k.Create an array with 10 aleatory values that go from 0 to 9"
   ]
  },
  {
   "cell_type": "code",
   "execution_count": null,
   "id": "914e1007",
   "metadata": {},
   "outputs": [],
   "source": [
    "import numpy as np\n",
    "\n",
    "\n",
    "matriz_random = np.random.randint(0, 10, size=10)\n",
    "print(matriz_random)"
   ]
  },
  {
   "cell_type": "markdown",
   "id": "f653f08e",
   "metadata": {},
   "source": [
    "l.Create a matrix 3x2 fill with zeros"
   ]
  },
  {
   "cell_type": "code",
   "execution_count": null,
   "id": "6aea98a5",
   "metadata": {},
   "outputs": [],
   "source": [
    "#Creamos una matriz de ceros\n",
    "matrix_zeros = np.zeros((3, 2))\n",
    "print(matrix_zeros)"
   ]
  },
  {
   "cell_type": "markdown",
   "id": "b0cca53d",
   "metadata": {},
   "source": [
    "m.Sum two arrays and then multiply the output by an scalar"
   ]
  },
  {
   "cell_type": "markdown",
   "id": "9d7b9466",
   "metadata": {},
   "source": []
  },
  {
   "cell_type": "code",
   "execution_count": null,
   "id": "7dca938e",
   "metadata": {},
   "outputs": [],
   "source": [
    "#Creamos las matrices\n",
    "matriz1 = np.array([1, 2, 3])\n",
    "matriz2 = np.array([4, 5, 6])\n",
    "#sumamos las matrices\n",
    "sum_matriz = matriz1 + matriz2\n",
    "print(sum_matriz)"
   ]
  },
  {
   "cell_type": "code",
   "execution_count": null,
   "id": "9ee0cc8a",
   "metadata": {},
   "outputs": [],
   "source": [
    "#Multiplicamos por un escalar\n",
    "resultado = sum_matriz * 2\n",
    "print(resultado)\n"
   ]
  },
  {
   "cell_type": "markdown",
   "id": "a9e3e08f",
   "metadata": {},
   "source": [
    "n.Create 2 arrays with the values that you wish :\n",
    "- Concatenate vertically \n",
    "- Concatenate horizontally "
   ]
  },
  {
   "cell_type": "code",
   "execution_count": null,
   "id": "6469da02",
   "metadata": {},
   "outputs": [],
   "source": [
    "#Creamos las matrices\n",
    "matriz3 = np.array( [ [1, 22, 33, 44], [47, 58, 68, 7] ] )\n",
    "matriz4 = np.array( [ [1, 2, 3, 4], [22, 60, 68, 7] ] )\n",
    "\n",
    "print(matriz3)\n",
    "print(matriz4)"
   ]
  },
  {
   "cell_type": "code",
   "execution_count": null,
   "id": "a18f435c",
   "metadata": {},
   "outputs": [],
   "source": [
    "#Concatenamos verticalmente \n",
    "vertical_concat = np.vstack((matriz3, matriz4))\n",
    "print(vertical_concat)"
   ]
  },
  {
   "cell_type": "code",
   "execution_count": null,
   "id": "f73c3f17",
   "metadata": {},
   "outputs": [],
   "source": [
    "#Concatenamos horizontalmente \n",
    "horizontal_concat = np.hstack((matriz3, matriz4))\n",
    "print(horizontal_concat)\n"
   ]
  },
  {
   "cell_type": "markdown",
   "id": "c2a634a1",
   "metadata": {},
   "source": []
  }
 ],
 "metadata": {
  "kernelspec": {
   "display_name": "Python 3 (ipykernel)",
   "language": "python",
   "name": "python3"
  },
  "language_info": {
   "codemirror_mode": {
    "name": "ipython",
    "version": 3
   },
   "file_extension": ".py",
   "mimetype": "text/x-python",
   "name": "python",
   "nbconvert_exporter": "python",
   "pygments_lexer": "ipython3",

   "version": "3.9.13"
=======
   "version": "3.12.4"

  }
 },
 "nbformat": 4,
 "nbformat_minor": 5
}
