{
 "cells": [
  {
   "cell_type": "markdown",
   "id": "5d198778",
   "metadata": {},
   "source": [
    "# Assignment_1\n",
    "If you copy codes from previous answers, explain each step. No explanation is `0 points`."
   ]
  },
  {
   "cell_type": "markdown",
   "id": "853562f8",
   "metadata": {},
   "source": [
    "##  Part 1.Data types\n"
   ]
  },
  {
   "cell_type": "markdown",
   "id": "521b5fe7",
   "metadata": {},
   "source": [
    "a.Declare one variable for each one these types: : int , float , string , boolean.\n",
    "- Print  the varible's type using  type () function\n",
    "\n",
    "\n"
   ]
  },
  {
   "cell_type": "code",
   "execution_count": 1,
   "id": "b8adc928",
   "metadata": {},
   "outputs": [
    {
     "name": "stdout",
     "output_type": "stream",
     "text": [
      "Type of variable: <class 'int'> \n",
      "Value: 10\n",
      "Type of variable: <class 'float'> \n",
      "Value: 1.73\n",
      "Type of variable: <class 'str'> \n",
      "Value: gatitos\n",
      "Type of variable: <class 'bool'> \n",
      "Value: True\n"
     ]
    }
   ],
   "source": [
    "#declaring variables\n",
    "int_var = 10\n",
    "float_var = 1.73\n",
    "string_var = \"gatitos\"\n",
    "boolean_var = True\n",
    "\n",
    "#printing variables\n",
    "print(\"Type of variable:\", type(int_var), \"\\nValue:\", int_var)\n",
    "print(\"Type of variable:\", type(float_var), \"\\nValue:\", float_var)\n",
    "print(\"Type of variable:\", type(string_var), \"\\nValue:\", string_var)\n",
    "print(\"Type of variable:\", type(boolean_var), \"\\nValue:\", boolean_var)"
   ]
  },
  {
   "cell_type": "markdown",
   "id": "1a2d5445",
   "metadata": {},
   "source": []
  },
  {
   "cell_type": "markdown",
   "id": "ce38f1d9",
   "metadata": {},
   "source": [
    " b. Using only the following inputs: ```5``` and ```2```  ,  work the  operators to get the output  : ```50```"
   ]
  },
  {
   "cell_type": "code",
   "execution_count": 4,
   "id": "46b08279",
   "metadata": {},
   "outputs": [
    {
     "name": "stdout",
     "output_type": "stream",
     "text": [
      "50\n"
     ]
    }
   ],
   "source": [
    "answear = 5*5*2\n",
    "print(answear)"
   ]
  },
  {
   "cell_type": "markdown",
   "id": "42009dda",
   "metadata": {},
   "source": [
    "c. Evaluate if the output of the previous excercise is over 100. Create a variable that makes this evaluation. (Hint: It would be a boolean)."
   ]
  },
  {
   "cell_type": "code",
   "execution_count": 8,
   "id": "e1226c5e",
   "metadata": {},
   "outputs": [
    {
     "name": "stdout",
     "output_type": "stream",
     "text": [
      "False\n"
     ]
    }
   ],
   "source": [
    "if answear < 100: #returning false if answear is less than 100\n",
    "\n",
    "    var = False\n",
    "    \n",
    "    print(var)\n",
    "    \n",
    "else:\n",
    "    \n",
    "    var = True\n",
    "    \n",
    "    print(var)"
   ]
  },
  {
   "cell_type": "markdown",
   "id": "877a0395",
   "metadata": {},
   "source": [
    "d. Create a variable equal to a list that contains: \n",
    "- a string,\n",
    "- a boolean,\n",
    "- two numeric values ( of any kind)  and\n",
    "- a  list of two strings with the names of your favourite musical artists. "
   ]
  },
  {
   "cell_type": "code",
   "execution_count": 9,
   "id": "081b71d0",
   "metadata": {},
   "outputs": [
    {
     "name": "stdout",
     "output_type": "stream",
     "text": [
      "['gatitos', False, 73, 1.73, ['tyler', 'josh']]\n"
     ]
    }
   ],
   "source": [
    "list = [\"gatitos\", False, 73, 1.73, [\"tyler\", \"josh\"]]\n",
    "print(list)"
   ]
  },
  {
   "cell_type": "markdown",
   "id": "e2a5f459",
   "metadata": {},
   "source": [
    "## Part 2. Containers"
   ]
  },
  {
   "cell_type": "markdown",
   "id": "51681d3c",
   "metadata": {},
   "source": [
    "e. Create a tuple with 3 elements. Explain why you can't modify it. "
   ]
  },
  {
   "cell_type": "code",
   "execution_count": 10,
   "id": "dd8d0079",
   "metadata": {},
   "outputs": [
    {
     "data": {
      "text/plain": [
       "(1, 2, 3)"
      ]
     },
     "execution_count": 10,
     "metadata": {},
     "output_type": "execute_result"
    }
   ],
   "source": [
    "my_tuple = (1, 2, 3)\n",
    "my_tuple\n",
    "#Las tuplas en Python son inmutables por razones de seguridad e integridad de datos, asegurando que no se modifiquen accidentalmente, y por eficiencia, ya que consumen menos memoria y son más rápidas que las listas."
   ]
  },
  {
   "cell_type": "markdown",
   "id": "25ecd132",
   "metadata": {},
   "source": [
    "f.Create a dictionary with at least 3 different  keys and values ."
   ]
  },
  {
   "cell_type": "code",
   "execution_count": 11,
   "id": "57ac77f1",
   "metadata": {},
   "outputs": [
    {
     "data": {
      "text/plain": [
       "{'name': 'Alice', 'age': 30, 'movie': 'Oppenheimer'}"
      ]
     },
     "execution_count": 11,
     "metadata": {},
     "output_type": "execute_result"
    }
   ],
   "source": [
    "my_dict = {\n",
    "    \"name\": \"Alice\",\n",
    "    \"age\": 30,\n",
    "    \"movie\": \"Oppenheimer\"\n",
    "}\n",
    "my_dict\n",
    "# Un diccionario en Python es una colección de pares de clave-valor. En el ejemplo, creamos un diccionario my_dict con tres claves: \"name\", \"age\", y \"movie\", y les asignamos valores correspondientes: \"Alice\", 30, y \"oppenheimer\". Los valores se acceden usando las claves, como en my_dict[\"age\"]."
   ]
  },
  {
   "cell_type": "markdown",
   "id": "88837e32",
   "metadata": {},
   "source": [
    "g.We got the next courses list: "
   ]
  },
  {
   "cell_type": "code",   "id": "b75be7fb",
   "metadata": {},
   "outputs": [],
   "source": [
    "courses = [\"History\", \"Economy\", \"Anthropology\", \"Sociology \", \"Literature\"]"
   ]
  },
  {
   "cell_type": "markdown",
   "id": "005d3d70",
   "metadata": {},
   "source": [
    "g.1.Add tree additional courses in 3 different ways( one for each way):\n",
    "   - Sum (+) a list that contains an additional course. \n",
    "   - Use append. \n",
    "   - Use extend. "
   ]
  },
  {
   "cell_type": "code",
   "id": "6d6e70db",
   "metadata": {},
   "outputs": [
    {
     "name": "stdout",
     "output_type": "stream",
     "text": [
      "['History', 'Economy', 'Anthropology', 'Sociology ', 'Literature', 'Physics']\n",
      "['History', 'Economy', 'Anthropology', 'Sociology ', 'Literature', 'Physics', 'Mathematics']\n"
     ]
    }
   ],
   "source": [
    "course = [\"Physics\"]\n",
    "courses = courses + course\n",
    "print(courses)\n",
    "courses.append(\"Mathematics\")\n",
    "print(courses)\n",
    "courses.extend([\"Biology\"])"
   ]
  },
  {
   "cell_type": "markdown",
   "id": "6cf07d6a",
   "metadata": {},
   "source": [
    "g.2.Use the indexation to stress _Sociology_."
   ]
  },
  {
   "cell_type": "code",
   "id": "0a03e468",
   "metadata": {},
   "outputs": [
    {
     "name": "stdout",
     "output_type": "stream",
     "text": [
      "['History', 'Economy', 'Anthropology', 'Sociology!', 'Literature', 'Physics', 'Mathematics', 'Biology']\n"
     ]
    }
   ],
   "source": [
    "courses[3] = \"Sociology!\"\n",
    "print(courses)\n",
    "#Aquí, usamos la indexación de listas para modificar el curso \"Sociology\" y destacarlo. Asignamos un nuevo valor \"Sociology!\" en el índice correspondiente de la lista, haciendo que el nombre del curso cambie."
   ]
  },
  {
   "cell_type": "markdown",
   "id": "bfb7ace5",
   "metadata": {},
   "source": [
    "g.3 Remove your least favourite course"
   ]
  },
  {
   "cell_type": "code",
   "execution_count": 40,
   "id": "63ea56cf",
   "metadata": {},
   "outputs": [
    {
     "name": "stdout",
     "output_type": "stream",
     "text": [
      "['History', 'Economy', 'Anthropology', 'Sociology!', 'Literature', 'Mathematics', 'Biology']\n"
     ]
    }
   ],
   "source": [
    "courses.remove(\"Physics\") #removing my last favourite course\n",
    "print(courses)"
   ]
  },
  {
   "cell_type": "markdown",
   "id": "d07e8d7c",
   "metadata": {},
   "source": [
    "g.4. Invert the list"
   ]
  },
  {
   "cell_type": "code",
   "execution_count": 41,
   "id": "c32c86be",
   "metadata": {},
   "outputs": [
    {
     "data": {
      "text/plain": [
       "['Biology',\n",
       " 'Mathematics',\n",
       " 'Literature',\n",
       " 'Sociology!',\n",
       " 'Anthropology',\n",
       " 'Economy',\n",
       " 'History']"
      ]
     },
     "execution_count": 41,
     "metadata": {},
     "output_type": "execute_result"
    }
   ],
   "source": [
    "courses.reverse() #reversing courses \n",
    "courses"
   ]
  },
  {
   "cell_type": "markdown",
   "id": "17a5576a",
   "metadata": {},
   "source": [
    "h.Create a dictionary that representst a fruits inventory:\n",
    " - Add at least 5 fruits to the inventory\n",
    "- Print the amount of apples in stock \n",
    "- Modify the amount of grapes\n"
   ]
  },
  {
   "cell_type": "code",
   "execution_count": 42,
   "id": "a7ec16e9",
   "metadata": {},
   "outputs": [
    {
     "name": "stdout",
     "output_type": "stream",
     "text": [
      "50\n"
     ]
    },
    {
     "data": {
      "text/plain": [
       "{'apples': 50, 'bananas': 30, 'grapes': 25, 'oranges': 40, 'mangoes': 10}"
      ]
     },
     "execution_count": 42,
     "metadata": {},
     "output_type": "execute_result"
    }
   ],
   "source": [
    "fruits_inventory = {\n",
    "    \"apples\": 50,\n",
    "    \"bananas\": 30,\n",
    "    \"grapes\": 20,\n",
    "    \"oranges\": 40,\n",
    "    \"mangoes\": 10\n",
    "}\n",
    "\n",
    "# Print the amount of apples in stock\n",
    "print(fruits_inventory[\"apples\"])\n",
    "\n",
    "# Modify the amount of grapes\n",
    "fruits_inventory[\"grapes\"] = 25\n",
    "fruits_inventory\n",
    "\n",
    "# En el ejercicio h, creamos un diccionario que representa un inventario de frutas, donde cada clave es el nombre de una fruta y su valor es la cantidad en stock. Luego, imprimimos la cantidad de manzanas, modificamos la cantidad de uvas y realizamos operaciones sobre los valores del diccionario para simular la gestión de inventarios."
   ]
  },
  {
   "cell_type": "markdown",
   "id": "0c74c187",
   "metadata": {},
   "source": [
    "i.  Write a dictionary with the local GMT of the nexts cities:\n",
    "- Antananarivo, Madagascar, \n",
    "- Beirut, Lebanon, \n",
    "- Jakarta, Indonesia, \n",
    "- Teherán, Iran, \n",
    "- Vientiane, Laos, \n",
    "\n",
    "\n",
    "\n",
    "Hint: Lima would be: `\"Lima\": -5`"
   ]
  },
  {
   "cell_type": "code",
   "execution_count": 43,
   "id": "95e4b82d",
   "metadata": {},
   "outputs": [
    {
     "data": {
      "text/plain": [
       "{'Antananarivo': 3,\n",
       " 'Beirut': 3,\n",
       " 'Jakarta': 7,\n",
       " 'Teherán': 3.5,\n",
       " 'Vientiane': 7,\n",
       " 'Lima': -5}"
      ]
     },
     "execution_count": 43,
     "metadata": {},
     "output_type": "execute_result"
    }
   ],
   "source": [
    "gmt_times = {\n",
    "    \"Antananarivo\": 3,\n",
    "    \"Beirut\": 3,\n",
    "    \"Jakarta\": 7,\n",
    "    \"Teherán\": 3.5,\n",
    "    \"Vientiane\": 7,\n",
    "    \"Lima\": -5\n",
    "}\n",
    "gmt_times\n",
    "# En este ejercicio, hemos creado un diccionario llamado gmt_times que contiene las ciudades y sus respectivas horas de diferencia con respecto al GMT (Greenwich Mean Time). Cada ciudad es una clave, y su valor correspondiente es la diferencia horaria con GMT."
   ]
  },
  {
   "cell_type": "markdown",
   "id": "e0f93671",
   "metadata": {},
   "source": [
    " j.Add the nexts cities to the dictionary:\n",
    "- Astana, Kazakhstan,\n",
    "- Uagadugú, Burkina Faso,\n",
    "- Balmopan, Belize"
   ]
  },
  {
   "cell_type": "code",
   "execution_count": 44,
   "id": "f6e7c9d8",
   "metadata": {},
   "outputs": [
    {
     "data": {
      "text/plain": [
       "{'Antananarivo': 3,\n",
       " 'Beirut': 3,\n",
       " 'Jakarta': 7,\n",
       " 'Teherán': 3.5,\n",
       " 'Vientiane': 7,\n",
       " 'Lima': -5,\n",
       " 'Astana': 6,\n",
       " 'Uagadugú': 0,\n",
       " 'Balmopan': -6}"
      ]
     },
     "execution_count": 44,
     "metadata": {},
     "output_type": "execute_result"
    }
   ],
   "source": [
    "gmt_times.update({\n",
    "    \"Astana\": 6,\n",
    "    \"Uagadugú\": 0,\n",
    "    \"Balmopan\": -6\n",
    "})\n",
    "gmt_times\n",
    "#El método update() permite agregar múltiples elementos a un diccionario en un solo paso. En este caso, estamos pasando un diccionario con las nuevas ciudades y sus respectivas diferencias horarias a gmt_times. Esto añadirá las ciudades Astana, Uagadugú, y Balmopan al diccionario con sus valores correspondientes sin tener que asignarlos individualmente."
   ]
  },
  {
   "cell_type": "markdown",
   "id": "c6c4f120",
   "metadata": {},
   "source": [
    "# Part 3. Numpy\n"
   ]
  },
  {
   "cell_type": "markdown",
   "id": "ef5f5f96",
   "metadata": {},
   "source": [
    "k.Create an array with 10 aleatory values that go from 0 to 9"
   ]
  },
  {
   "cell_type": "code",
   "execution_count": 54,
   "id": "b0c2e7ff",
   "metadata": {},
   "outputs": [
    {
     "data": {
      "text/plain": [
       "array([4, 1, 9, 4, 8, 9, 2, 2, 6, 7])"
      ]
     },
     "execution_count": 54,
     "metadata": {},
     "output_type": "execute_result"
    }
   ],
   "source": [
    "import numpy as np\n",
    "valores_k=np.random.randint(0,10,10)\n",
    "valores_k"
   ]
  },
  {
   "cell_type": "markdown",
   "id": "914e1007",
   "metadata": {},
   "source": []
  },
  {
   "cell_type": "markdown",
   "id": "f653f08e",
   "metadata": {},
   "source": [
    "l.Create a matrix 3x2 fill with zeros"
   ]
  },
  {
   "cell_type": "code",
   "execution_count": 55,
   "id": "6aea98a5",
   "metadata": {},
   "outputs": [
    {
     "data": {
      "text/plain": [
       "array([[0., 0.],\n",
       "       [0., 0.],\n",
       "       [0., 0.]])"
      ]
     },
     "execution_count": 55,
     "metadata": {},
     "output_type": "execute_result"
    }
   ],
   "source": [
    "matrix_i = np.zeros((3, 2))\n",
    "matrix_i"
   ]
  },
  {
   "cell_type": "markdown",
   "id": "b0cca53d",
   "metadata": {},
   "source": [
    "m.Sum two arrays and then multiply the output by an scalar"
   ]
  },
  {
   "cell_type": "markdown",
   "id": "9d7b9466",
   "metadata": {},
   "source": []
  },
  {
   "cell_type": "code",
   "execution_count": 57,
   "id": "7dca938e",
   "metadata": {},
   "outputs": [
    {
     "name": "stdout",
     "output_type": "stream",
     "text": [
      "Suma de los arreglos: [ 8 15  9]\n",
      "Resultado después de multiplicar por el escalar: [40 75 45]\n"
     ]
    }
   ],
   "source": [
    "array_1 = np.array([5, 7, 3])\n",
    "array_2 = np.array([3, 8, 6])\n",
    "sum_arrays = array_1 + array_2\n",
    "scalar = 5\n",
    "result = sum_arrays * scalar\n",
    "\n",
    "print(f\"Suma de los arreglos: {sum_arrays}\")\n",
    "print(f\"Resultado después de multiplicar por el escalar: {result}\")"
   ]
  },
  {
   "cell_type": "markdown",
   "id": "a9e3e08f",
   "metadata": {},
   "source": [
    "n.Create 2 arrays with the values that you wish :\n",
    "- Concatenate vertically \n",
    "- Concatenate horizontally "
   ]
  },
  {
   "cell_type": "code",
   "execution_count": 59,
   "id": "6469da02",
   "metadata": {},
   "outputs": [
    {
     "name": "stdout",
     "output_type": "stream",
     "text": [
      "Concatenación vertical:\n",
      " [[1 2 3]\n",
      " [7 8 9]]\n",
      "Concatenación horizontal: [1 2 3 7 8 9]\n"
     ]
    }
   ],
   "source": [
    "array_3 = np.array([1, 2, 3])\n",
    "array_4 = np.array([7, 8, 9])\n",
    "vertical_concat = np.vstack((array_3, array_4))\n",
    "horizontal_concat = np.hstack((array_3, array_4))\n",
    "\n",
    "print(f\"Concatenación vertical:\\n {vertical_concat}\")\n",
    "print(f\"Concatenación horizontal: {horizontal_concat}\")"
   ]
  },
  {
   "cell_type": "markdown",
   "id": "c2a634a1",
   "metadata": {},
   "source": []
  }
 ],
 "metadata": {
  "kernelspec": {
   "language": "python",
   "name": "python3"
  },
  "language_info": {
   "codemirror_mode": {
    "name": "ipython",
    "version": 3
   },
   "file_extension": ".py",
   "mimetype": "text/x-python",
   "name": "python",
   "nbconvert_exporter": "python",
   "pygments_lexer": "ipython3",
  }
 },
 "nbformat": 4,
 "nbformat_minor": 5
}
