{
 "cells": [
  {
   "cell_type": "markdown",
   "id": "5d198778",
   "metadata": {},
   "source": [
    "# Assignment_1\n",
    "If you copy codes from previous answers, explain each step. No explanation is `0 points`."
   ]
  },
  {
   "cell_type": "markdown",
   "id": "853562f8",
   "metadata": {},
   "source": [
    "##  Part 1.Data types\n"
   ]
  },
  {
   "cell_type": "markdown",
   "id": "521b5fe7",
   "metadata": {},
   "source": [
    "a.Declare one variable for each one these types: : int , float , string , boolean.\n",
    "- Print  the varible's type using  type () function\n",
    "\n",
    "\n"
   ]
  },
  {
   "cell_type": "code",
   "execution_count": 6,
   "id": "b8adc928",
   "metadata": {},

   "outputs": [],
   "source": []


   "outputs": [
    {
     "name": "stdout",
     "output_type": "stream",
     "text": [

      "<class 'int'>\n"

      "38\n"
     ]
    }
   ],
   "source": [

    "#int\n",
    "i = 38\n",
    "print(i)  "

    "# Int\n",
    "a = 5 # we define a=5 as a int\n",
    "print(type(a))\n"

   ]
  },
  {
   "cell_type": "code",

   "execution_count": 4,
   "id": "4b6ae28f",
   "metadata": {},
   "outputs": [
    {
     "name": "stdout",
     "output_type": "stream",
     "text": [
      "<class 'float'>\n"
     ]
    }
   ],
   "source": [
    "# Float\n",
    "b = 5.0 # we define b=5.0, this is a float\n",
    "print(type(b))"
   ]
  },
  {
   "cell_type": "code",
   "execution_count": 5,
   "id": "ad0e6a71",
   "metadata": {},
   "outputs": [
    {
     "name": "stdout",
     "output_type": "stream",
     "text": [
      "<class 'str'>\n"
     ]
    }
   ],
   "source": [
    "# String\n",
    "c = \"bienvenido al curso\" # we define c as a string\n",
    "print(type(c))"
   ]
  },
  {
   "cell_type": "code",
   "execution_count": 6,
   "id": "13edc12a",
   "metadata": {},
   "outputs": [
    {
     "name": "stdout",
     "output_type": "stream",
     "text": [
      "<class 'bool'>\n"
     ]
    }
   ],
   "source": [
    "# Booleano\n",
    "d = True # we define d as a bool\n",
    "print(type(d))"
   ]

    "#int\n",
    "i = 38\n",
    "print(i)  "
   ]
  },
  {
   "cell_type": "code",

   "execution_count": 13,
   "id": "857f8465-2165-4af8-8ab7-6ae545d72abd",
   "metadata": {},
   "outputs": [
    {
     "name": "stdout",
     "output_type": "stream",
     "text": [
      "sheferino\n"
     ]
    }
   ],
   "source": [
    "#string \n",
    "ar = \"sheferino\"\n",
    "print(ar)"
   ]
  },
  {
   "cell_type": "code",
   "execution_count": 11,
   "id": "3dd44a54-e317-46c2-8d33-41fa936a2ff2",
   "metadata": {},
   "outputs": [
    {
     "name": "stdout",
     "output_type": "stream",
     "text": [
      "False\n"
     ]
    }
   ],
   "source": [
    "#boolean \n",
    "xyz = False\n",
    "print(xyz)"
   ]
  },
  {
   "cell_type": "code",
   "execution_count": 9,
   "id": "a0a8ec8a-689a-42b9-adcd-fb9212500e64",
   "metadata": {},
   "outputs": [
    {
     "name": "stdout",
     "output_type": "stream",
     "text": [
      "34.6\n"
     ]
    }
   ],
   "source": [
    "#float\n",
    "o = 34.6\n",
    "print(o)"
   ]
  },
  {
   "cell_type": "markdown",
   "id": "ce38f1d9",
   "metadata": {},
   "source": [
    " b. Using only the following inputs: ```5``` and ```2```  ,  work the  operators to get the output  : ```50```"
   ]
  },
  {
   "cell_type": "code",
   "execution_count": 15,
   "id": "46b08279",
   "metadata": {},

   "outputs": [],
   "source": []
   "outputs": [
    {
     "name": "stdout",
     "output_type": "stream",
     "text": [
      "50\n"
     ]
    }
   ],
   "source": [

    "e = (5**2)*2  # e is defined as the calculation of 5 squared multiplied by 2\n",
    "print(e)"
   ]

    "a = 5\n",
    "b = 2 \n",
    "output = 5*2 + 40\n",
    "print(output)"
   ]
  },
  {
   "cell_type": "markdown",
   "id": "42009dda",
   "metadata": {},
   "source": [
    "c. Evaluate if the output of the previous excercise is over 100. Create a variable that makes this evaluation. (Hint: It would be a boolean)."
   ]
  },
  {
   "cell_type": "code",
   "execution_count": 17,
   "id": "e1226c5e",
   "metadata": {},

   "outputs": [],
   "source": []

   "outputs": [
    {
     "name": "stdout",
     "output_type": "stream",
     "text": [
      "False\n"
     ]
    }
   ],
   "source": [

    "e = (5**2)*2 # we define e in the previous question, this is 50\n",
    "f = e>100   # we evaluate if e is major of 100, this is false\n",
    "print(f)"
   ]
    "proposition = print(50 > 100)\n",
    "proposition "
   ]
  },
  {
   "cell_type": "markdown",
   "id": "877a0395",
   "metadata": {},
   "source": [
    "d. Create a variable equal to a list that contains: \n",
    "- a string,\n",
    "- a boolean,\n",
    "- two numeric values ( of any kind)  and\n",
    "- a  list of two strings with the names of your favourite musical artists. "
   ]
  },
  {
   "cell_type": "code",
   "execution_count": 19,
   "id": "081b71d0",
   "metadata": {},

   "outputs": [],
   "source": []

   "outputs": [
    {
     "name": "stdout",
     "output_type": "stream",
     "text": [
      "<class 'list'>\n"
     ]
    }
   ],
   "source": [
    "y=[\"hello\", True, 2, 5.3, [\"Adele\",\"Taylor\"]] # we create y, this variable contains a string, a boolean, two numeric values (a int and a float) and a list\n",
    "print(type(y))"
   ]

   "outputs": [
    {
     "data": {
      "text/plain": [
       "['Shefe', False, 27, 29, ['Mozart', 'Cerati']]"
      ]
     },
     "execution_count": 19,
     "metadata": {},
     "output_type": "execute_result"
    }
   ],
   "source": [
    "my_list = [\"Shefe\", False, 27, 29, [ \"Mozart\", \"Cerati\"] ]\n",
    "my_list "
   ]

  },
  {
   "cell_type": "markdown",
   "id": "e2a5f459",
   "metadata": {},
   "source": [
    "## Part 2. Containers"
   ]
  },
  {
   "cell_type": "markdown",
   "id": "51681d3c",
   "metadata": {},
   "source": [
    "e. Create a tuple with 3 elements. Explain why you can't modify it. "
   ]
  },
  {
   "cell_type": "code",

   "execution_count": 21,

   "execution_count": 14,

   "execution_count": 21,

   "id": "dd8d0079",
   "metadata": {},
   "outputs": [
    {
     "data": {
      "text/plain": [

       "tuple"
      ]
     },
     "execution_count": 14,


       "(8, 9, 'True')"
      ]
     },
     "execution_count": 21,

     "metadata": {},
     "output_type": "execute_result"
    }
   ],
   "source": [

    "# We create a tuple using parentheses and adding elements inside, separated by commas.\n",
    "\n",
    "tuple_0 = (45, \"precio\", True)\n",
    "type(tuple_0)\n",
    "\n",
    "# We can't modify any element because we are creating a tuple. The elements of a tuple cannot be modified."

    "#we create the following tuple, \n",
    "tuple_1 = ( 8, 9, \"True\")\n",
    "tuple_1"
   ]
  },
  {
   "cell_type": "code",
   "execution_count": 23,
   "id": "7f2632ed-2843-47a0-af8b-790532df4959",
   "metadata": {},
   "outputs": [
    {
     "ename": "TypeError",
     "evalue": "'tuple' object does not support item assignment",
     "output_type": "error",
     "traceback": [
      "\u001b[1;31m---------------------------------------------------------------------------\u001b[0m",
      "\u001b[1;31mTypeError\u001b[0m                                 Traceback (most recent call last)",
      "Cell \u001b[1;32mIn[23], line 2\u001b[0m\n\u001b[0;32m      1\u001b[0m \u001b[38;5;66;03m#if we want to change the second element \u001b[39;00m\n\u001b[1;32m----> 2\u001b[0m tuple_1[\u001b[38;5;241m1\u001b[39m] \u001b[38;5;241m=\u001b[39m \u001b[38;5;241m90.7\u001b[39m\n",
      "\u001b[1;31mTypeError\u001b[0m: 'tuple' object does not support item assignment"
     ]
    }
   ],
   "source": [
    "#if we want to change the second element \n",
    "tuple_1[1] = 90.7\n",
    "#since tuples are inmutable by definition, it makes impossible our effort to redfinite its components."

   ]
  },
  {
   "cell_type": "markdown",
   "id": "25ecd132",
   "metadata": {},
   "source": [
    "f.Create a dictionary with at least 3 different  keys and values ."
   ]
  },
  {
   "cell_type": "code",

   "execution_count": 15,

   "execution_count": 25,
   "id": "57ac77f1",
   "metadata": {},
   "outputs": [
    {
     "data": {
      "text/plain": [

       "dict"
      ]
     },
     "execution_count": 15,

       "{'Nombre': 'Amador', 'age': 77, 'retired': True, 'Workhours': 7.5}"
      ]
     },
     "execution_count": 25,
     "metadata": {},
     "output_type": "execute_result"
    }
   ],
   "source": [

    "hector = { \"age\" : 19, \"Height\" : \"1.65 meters\", \"Weight\" : \"60 kg\" }\n",
    "type(hector)\n",
    "\n",
    "# we create \"keys\" for each category within the dictionary."


    "sheferino_1 = { \"Nombre\": \"Amador\", \"age\": 77, \"retired\": True, \"Workhours\": 7.5}\n",
    "sheferino_1"
   ]
  },
  {
   "cell_type": "markdown",
   "id": "88837e32",
   "metadata": {},
   "source": [
    "g.We got the next courses list: "
   ]
  },
  {
   "cell_type": "code",
   "execution_count": 24,
   "id": "b75be7fb",
   "metadata": {},
   "outputs": [],
   "source": [
    "courses = [\"History\", \"Economy\", \"Anthropology\", \"Sociology \", \"Literature\"]"
   ]
  },
  {
   "cell_type": "markdown",
   "id": "005d3d70",
   "metadata": {},
   "source": [
    "g.1.Add tree additional courses in 3 different ways( one for each way):\n",
    "   - Sum (+) a list that contains an additional course. \n",
    "   - Use append. \n",
    "   - Use extend. "
   ]
  },
  {
   "cell_type": "code",

   "execution_count": 3,
   "id": "6d6e70db",
   "metadata": {},

   "execution_count": 27,
   "id": "6d6e70db",
   "metadata": {},
   "outputs": [],
   "source": [
    "#Here we add the additional courses\n",
    "favourite_courses = [ \"Math\", \"Chemistry\", \"Physics\"]\n",
    "courses = [\"History\", \"Economy\", \"Anthropology\", \"Sociology \", \"Literature\"]"
   ]
  },
  {
   "cell_type": "code",
   "execution_count": 29,
   "id": "738f3fdf-c8e7-4cd3-8415-f07cdae63cdb",
   "metadata": {},
   "outputs": [
    {
     "data": {
      "text/plain": [
       "[]"
      ]
     },
     "execution_count": 29,
     "metadata": {},
     "output_type": "execute_result"
    }
   ],
   "source": [
    "#now I create a final list \n",
    "my_courses = []\n",
    "my_courses"
   ]
  },
  {
   "cell_type": "code",
   "execution_count": 31,
   "id": "cccd1750-e243-4e50-a5d5-b62e0d7e7987",
   "metadata": {},
   "outputs": [
    {
     "data": {
      "text/plain": [

       "['History', 'Economy', 'Anthropology', 'Sociology ', 'Literature', 'Algebra']"
      ]
     },
     "execution_count": 3,

       "[['History', 'Economy', 'Anthropology', 'Sociology ', 'Literature']]"
      ]
     },
     "execution_count": 31,
     "metadata": {},
     "output_type": "execute_result"
    }
   ],
   "source": [

    "#1 Sum (+) a list that contains an additional course\n",
    "\n",
    "extra_course = [\"Algebra\"]\n",
    "courses = [\"History\", \"Economy\", \"Anthropology\", \"Sociology \", \"Literature\"]\n",
    "courses + extra_course\n",
    "\n",
    "# we add the list \"extra_course\" that contains the course \"Algebra\" with \"+\"."

    "#first, with append:\n",
    "my_courses.append(courses)\n",
    "my_courses "
   ]
  },
  {
   "cell_type": "code",

   "execution_count": 4,
   "id": "5c61df09",


   "execution_count": 33,
   "id": "5f383c1b-8b00-48bc-84a4-e29c9da6a7a8",
   "metadata": {},
   "outputs": [
    {
     "data": {
      "text/plain": [

       "['History', 'Economy', 'Anthropology', 'Sociology ', 'Literature', 'Geography']"
      ]
     },
     "execution_count": 4,


       "[['History', 'Economy', 'Anthropology', 'Sociology ', 'Literature'],\n",
       " ['Math', 'Chemistry', 'Physics']]"
      ]
     },
     "execution_count": 33,
     "metadata": {},
     "output_type": "execute_result"
    }
   ],
   "source": [

    "#2 Use append\n",
    "\n",
    "courses = [\"History\", \"Economy\", \"Anthropology\", \"Sociology \", \"Literature\"]\n",
    "courses.append(\"Geography\")\n",
    "courses\n",
    "\n",
    "# with the \"append\" method we can add the course \"Geography\" to the list."

    "my_courses.append(favourite_courses)\n",
    "my_courses "
   ]
  },
  {
   "cell_type": "code",

   "execution_count": 5,
   "id": "8162fe38",


   "execution_count": 35,
   "id": "36f0ca11-289b-418b-85cf-fe0b48db4f6d",
   "metadata": {},
   "outputs": [
    {
     "data": {
      "text/plain": [

       "['History', 'Economy', 'Anthropology', 'Sociology ', 'Literature', 'Physics']"
      ]
     },
     "execution_count": 5,

       "[['History', 'Economy', 'Anthropology', 'Sociology ', 'Literature'],\n",
       " ['Math', 'Chemistry', 'Physics'],\n",
       " 'History',\n",
       " 'Economy',\n",
       " 'Anthropology',\n",
       " 'Sociology ',\n",
       " 'Literature',\n",
       " 'Math',\n",
       " 'Chemistry',\n",
       " 'Physics']"
      ]
     },
     "execution_count": 35,
     "metadata": {},
     "output_type": "execute_result"
    }
   ],
   "source": [

    "#3 Use extend\n",
    "\n",
    "courses = [\"History\", \"Economy\", \"Anthropology\", \"Sociology \", \"Literature\"]\n",
    "another_extra_course = [\"Physics\"]\n",
    "courses.extend(another_extra_course)\n",
    "courses\n",
    "\n",
    "# We create the list \"another_extra_course\" in which we add the course \"Physics\". Once done, we use the \"extend\" method to join the item to the list \"courses\"."

    "#given that append function used previously records our changes, we obtain \n",
    "my_courses.extend(courses + favourite_courses)\n",
    "my_courses "
   ]
  },
  {
   "cell_type": "markdown",
   "id": "6cf07d6a",
   "metadata": {},
   "source": [
    "g.2.Use the indexation to stress _Sociology_."
   ]
  },
  {
   "cell_type": "code",

   "execution_count": 6,

   "execution_count": 37,
   "id": "0a03e468",
   "metadata": {},
   "outputs": [
    {
     "data": {
      "text/plain": [

       "'Sociology '"
      ]
     },
     "execution_count": 6,

       "['Sociology', 'Economy', 'Anthropology', 'Sociology ', 'Literature']"
      ]
     },
     "execution_count": 37,
     "metadata": {},
     "output_type": "execute_result"
    }
   ],
   "source": [

    "courses[3]\n",
    "\n",
    "# We stress the course \"sociology\" using python indexing. This starts with \"0\", so the position of said item is \"3\". "

    "#I choose to put it at the fist \n",
    "courses[-5] = \"Sociology\"\n",
    "courses "
   ]
  },
  {
   "cell_type": "markdown",
   "id": "bfb7ace5",
   "metadata": {},
   "source": [
    "g.3 Remove your least favourite course"
   ]
  },
  {
   "cell_type": "code",

   "execution_count": 7,

   "execution_count": 39,
   "id": "63ea56cf",
   "metadata": {},
   "outputs": [
    {
     "data": {
      "text/plain": [

       "['History', 'Economy', 'Anthropology', 'Sociology ']"
      ]
     },
     "execution_count": 7,


       "['Sociology', 'Economy', 'Sociology ', 'Literature']"
      ]
     },
     "execution_count": 39,
     "metadata": {},
     "output_type": "execute_result"
    }
   ],
   "source": [

    "courses = [\"History\", \"Economy\", \"Anthropology\", \"Sociology \", \"Literature\"]\n",
    "courses.remove(\"Literature\")\n",
    "courses\n",
    "\n",
    "# Using the \"remove\" method, we remove the course \"literature\" from the list."

    "courses.remove( \"Anthropology\")\n",
    "courses \n"
   ]
  },
  {
   "cell_type": "markdown",
   "id": "d07e8d7c",
   "metadata": {},
   "source": [
    "g.4. Invert the list"
   ]
  },
  {
   "cell_type": "code",

   "execution_count": 8,


   "execution_count": 41,
   "id": "c32c86be",
   "metadata": {},
   "outputs": [
    {
     "data": {
      "text/plain": [

       "['Literature', 'Sociology ', 'Anthropology', 'Economy', 'History']"
      ]
     },
     "execution_count": 8,

       "['Literature', 'Sociology ', 'Economy', 'Sociology']"
      ]
     },
     "execution_count": 41,
     "metadata": {},
     "output_type": "execute_result"
    }
   ],
   "source": [

    "courses = [\"History\", \"Economy\", \"Anthropology\", \"Sociology \", \"Literature\"]\n",
    "courses.reverse()\n",
    "courses\n",
    "\n",
    "# We invert the list using the \"reverse\" method."


    "courses.reverse()\n",
    "courses "
   ]
  },
  {
   "cell_type": "markdown",
   "id": "17a5576a",
   "metadata": {},
   "source": [
    "h.Create a dictionary that representst a fruits inventory:\n",
    " - Add at least 5 fruits to the inventory\n",
    "- Print the amount of apples in stock \n",
    "- Modify the amount of grapes\n"
   ]
  },
  {
   "cell_type": "code",

   "execution_count": 16,
   "id": "a7ec16e9",
   "metadata": {},
   "outputs": [
    {
     "data": {
      "text/plain": [
       "dict"
      ]
     },
     "execution_count": 16,
     "metadata": {},
     "output_type": "execute_result"
    }
   ],
   "source": [
    "#1 Add at least 5 fruits to the inventory\n",
    "\n",
    "fruits_inventory = { \"apples\" : 15, \"grapes\" : 30, \"pears\" : 20, \"pineapples\" : 13, \"oranges\" : 25}\n",
    "type(fruits_inventory)\n",
    "\n",
    "# we create a dictionary with the items \"apples\", \"grapes\", \"pears\", \"pineapples\" and \"oranges\"."

   "execution_count": 43,
   "id": "a7ec16e9",
   "metadata": {},
   "outputs": [],
   "source": [
    "frutas_del_mercado = { \"Apples\" : 50, \"Grapes\" : 80, \"Orange\" : 70, \"Bananas\" : 12 }"
   ]
  },
  {
   "cell_type": "code",

   "execution_count": 10,
   "id": "f3d073db",


   "execution_count": 45,
   "id": "55cbabba-ed7c-41ae-815a-fb13e78ac85f",
   "metadata": {},
   "outputs": [
    {
     "data": {
      "text/plain": [

       "15"
      ]
     },
     "execution_count": 10,

       "50"
      ]
     },
     "execution_count": 45,
     "metadata": {},
     "output_type": "execute_result"
    }
   ],
   "source": [

    "#2 Print the amount of apples in stock\n",
    "\n",
    "fruits_inventory = { \"apples\" : 15, \"grapes\" : 30, \"pears\" : 20, \"pineapples\" : 13, \"oranges\" : 25}\n",
    "fruits_inventory[\"apples\"]\n",
    "\n",
    "# We indicate the number of apples by writing the dictionary and placing the key \"apples\" in brackets."

    "#now I show the quantity of apples available \n",
    "frutas_del_mercado[\"Apples\"]"
   ]
  },
  {
   "cell_type": "code",

   "execution_count": 11,
   "id": "c284cfbc",


   "execution_count": 47,
   "id": "50978c95-be53-4ad6-899b-9522d0e38e3c",
   "metadata": {},
   "outputs": [
    {
     "data": {
      "text/plain": [


       "{'apples': 15, 'grapes': 22, 'pears': 20, 'pineapples': 13, 'oranges': 25}"
      ]
     },
     "execution_count": 11,


       "{'Apples': 50, 'Grapes': 13, 'Orange': 70, 'Bananas': 12}"
      ]
     },
     "execution_count": 47,

     "metadata": {},
     "output_type": "execute_result"
    }
   ],
   "source": [

    "#I proceed to change the stock of grapes as follows\n",
    "frutas_del_mercado[\"Grapes\"] = 13\n",
    "frutas_del_mercado"


    "#3 Modify the amount of grapes\n",
    "\n",
    "fruits_inventory = { \"apples\" : 15, \"grapes\" : 30, \"pears\" : 20, \"pineapples\" : 13, \"oranges\" : 25}\n",
    "fruits_inventory[\"grapes\"] = 22\n",
    "fruits_inventory\n",
    "\n",
    "# We modify the number of grapes by writing the name of the dictionary, we place the \"key\" in brackets, we use the \"=\" sign and we put the new amount"

    "#I proceed to change the stock of grapes as follows\n",
    "frutas_del_mercado[\"Grapes\"] = 13\n",
    "frutas_del_mercado"


   ]
  },
  {
   "cell_type": "markdown",
   "id": "0c74c187",
   "metadata": {},
   "source": [
    "i.  Write a dictionary with the local GMT of the nexts cities:\n",
    "- Antananarivo, Madagascar, \n",
    "- Beirut, Lebanon, \n",
    "- Jakarta, Indonesia, \n",
    "- Teherán, Iran, \n",
    "- Vientiane, Laos, \n",
    "\n",
    "\n",
    "\n",
    "Hint: Lima would be: `\"Lima\": -5`"
   ]
  },
  {
   "cell_type": "code",

   "execution_count": 1,

   "execution_count": 17,

   "execution_count": 1,


   "id": "95e4b82d",
   "metadata": {},
   "outputs": [
    {

     "data": {
      "text/plain": [
       "dict"
      ]
     },
     "execution_count": 17,
     "metadata": {},
     "output_type": "execute_result"
    }
   ],
   "source": [
    "GMT_cities = { \"Antananarivo\" : -3, \"Beirut\" : +2, \"Jakarta\" : +7, \"Teherán\" : -3.5, \"Vientiane\" : +7 }\n",
    "type(GMT_cities)\n",
    "\n",
    "# We generate a dictionary associating each city (key) with its respective local GMT."


     "name": "stdout",
     "output_type": "stream",
     "text": [
      "{'Antananarivo': 3, 'Beirut': 2, 'Jakarta': 7, 'Teherán': 3.5, 'Vientiane': 7}\n"
     ]
    }
   ],
   "source": [
    "# Diccionario con las ciudades y sus GMT\n",
    "ciudad_gmt = {\"Antananarivo\": 3, \"Beirut\": 2, \"Jakarta\": 7, \"Teherán\": 3.5, \"Vientiane\": 7}\n",
    "print(ciudad_gmt)"
   ]
  },
  {
   "cell_type": "markdown",
   "id": "e0f93671",
   "metadata": {},
   "source": [
    " j.Add the nexts cities to the dictionary:\n",
    "- Astana, Kazakhstan,\n",
    "- Uagadugú, Burkina Faso,\n",
    "- Balmopan, Belize"
   ]
  },
  {
   "cell_type": "code",

   "execution_count": 13,
   "id": "14c58f20",
   "metadata": {},
   "outputs": [
    {
     "data": {
      "text/plain": [
       "{'Antananarivo': -3,\n",
       " 'Beirut': 2,\n",
       " 'Jakarta': 7,\n",
       " 'Teherán': -3.5,\n",
       " 'Vientiane': 7,\n",
       " 'Astana': 5,\n",
       " 'Uagadugú': 0,\n",
       " 'Balmopan': 6}"
      ]
     },
     "execution_count": 13,
     "metadata": {},
     "output_type": "execute_result"
    }
   ],
   "source": [
    "GMT_extra_cities = { \"Astana\" : +5, \"Uagadugú\" : +0, \"Balmopan\" : +6}\n",
    "GMT_cities = { \"Antananarivo\" : -3, \"Beirut\" : +2, \"Jakarta\" : +7, \"Teherán\" : -3.5, \"Vientiane\" : +7 }\n",
    "GMT_cities.update(GMT_extra_cities)\n",
    "GMT_cities\n",
    "\n",
    "# we generate a new dictionary with the new cities (keys) to add and their respective local GMT. After that, we use the \"update\" method to join the elements of the new dictionary to \"GMT_cities\""


   "execution_count": 3,
   "id": "e4bb2cbf",
   "metadata": {},
   "outputs": [
    {
     "name": "stdout",
     "output_type": "stream",
     "text": [
      "{'Antananarivo': 3, 'Beirut': 2, 'Jakarta': 7, 'Teherán': 3.5, 'Vientiane': 7, 'Astana': 6, 'Uagadugú': 0, 'Balmopan': -6}\n"
     ]
    }
   ],
   "source": [
    "ciudad_gmt[\"Astana\"] = 5    \n",
    "ciudad_gmt[\"Uagadugú\"] = 0   \n",
    "ciudad_gmt[\"Balmopan\"] = -6  \n",
    "print(ciudad_gmt)"

   ]
  },
  {
   "cell_type": "markdown",
   "id": "c6c4f120",
   "metadata": {},
   "source": [
    "# Part 3. Numpy\n"
   ]
  },
  {
   "cell_type": "markdown",
   "id": "ef5f5f96",
   "metadata": {},
   "source": [
    "k.Create an array with 10 aleatory values that go from 0 to 9"
   ]
  },
  {
   "cell_type": "code",

   "execution_count": 25,
   "id": "cd35f0fa",
   "metadata": {},
   "outputs": [],
   "source": [
    "import numpy as np #imports the library and and aliases it as np"
   ]
  },
  {
   "cell_type": "code",
   "execution_count": 26,
   "id": "6b298cd0",
   "metadata": {},
   "outputs": [
    {
     "name": "stdout",
     "output_type": "stream",
     "text": [
      "[10  9  2  4  2  9 10  1  2  6]\n"
     ]
    }
   ],
   "source": [
    "random = np.random.randint(1, 11, 10) # This code creates a list of 10 random integers, where the lowest value is 1 and the highest value is 10. The last component of the code refers to the size or number of elements in the list, which is 10.\n",
    "print(random) #display the list created above"

   "execution_count": null,
   "id": "914e1007",
   "metadata": {},
   "outputs": [],
   "source": [
    "import numpy as np\n",
    "\n",
    "\n",
    "matriz_random = np.random.randint(0, 10, size=10)\n",
    "print(matriz_random)"

   ]
  },
  {
   "cell_type": "markdown",
   "id": "f653f08e",
   "metadata": {},
   "source": [
    "l.Create a matrix 3x2 fill with zeros"
   ]
  },
  {
   "cell_type": "code",
   "execution_count": 27,
   "id": "6aea98a5",
   "metadata": {},

   "outputs": [
    {
     "name": "stdout",
     "output_type": "stream",
     "text": [
      "[[0. 0.]\n",
      " [0. 0.]\n",
      " [0. 0.]]\n"
     ]
    }
   ],
   "source": [
    "Matrix = np.zeros((3, 2)) # This code creates a 3-row by 2-column matrix filled with zeros.\n",
    "print(Matrix)"

   "outputs": [],
   "source": [
    "#Creamos una matriz de ceros\n",
    "matrix_zeros = np.zeros((3, 2))\n",
    "print(matrix_zeros)"

   ]
  },
  {
   "cell_type": "markdown",
   "id": "b0cca53d",
   "metadata": {},
   "source": [
    "m.Sum two arrays and then multiply the output by an scalar"
   ]
  },
  {
   "cell_type": "code",
   "execution_count": 28,
   "id": "7dca938e",
   "metadata": {},
   "outputs": [
    {
     "name": "stdout",
     "output_type": "stream",
     "text": [
      "[[1 7 4]\n",
      " [3 5 7]]\n"
     ]
    }
   ],
   "source": [
    "a = np.array([[1,7,4], [3,5,7]]) #create array 'a' with 2 rows and 3 columns\n",
    "print(a)"
   ]
  },
  {
   "cell_type": "code",

   "execution_count": 29,
   "id": "46e0ddc1",
   "metadata": {},
   "outputs": [
    {
     "name": "stdout",
     "output_type": "stream",
     "text": [
      "[[3 5 9]\n",
      " [0 7 8]]\n"
     ]
    }
   ],
   "source": [
    "b = np.array([[3,5,9], [0,7,8]]) #create array 'b' \n",
    "print(b)"
   ]
  },
  {
   "cell_type": "code",
   "execution_count": 30,
   "id": "b6cfb206",
   "metadata": {},
   "outputs": [
    {
     "name": "stdout",
     "output_type": "stream",
     "text": [
      "Sum of array: [[ 4 12 13]\n",
      " [ 3 12 15]]\n",
      "Result with scalar: [[ 28  84  91]\n",
      " [ 21  84 105]]\n"
     ]
    }
   ],
   "source": [
    "sum = a + b #sum a-array and b-array\n",
    "result = sum * 7 #multiply by a scalar, in this case, 7. \n",
    "print(\"Sum of array:\", sum) \n",
    "print(\"Result with scalar:\", result)"

   "execution_count": null,
   "id": "9ee0cc8a",
   "metadata": {},
   "outputs": [],
   "source": [

    "#Creamos las matrices\n",
    "matriz1 = np.array([1, 2, 3])\n",
    "matriz2 = np.array([4, 5, 6])\n",
    "#sumamos las matrices\n",
    "sum_matriz = matriz1 + matriz2\n",
    "print(sum_matriz)"
   ]
  },
  {
   "cell_type": "code",
   "execution_count": null,
   "id": "9ee0cc8a",
   "metadata": {},
   "outputs": [],
   "source": [

    "#Multiplicamos por un escalar\n",
    "resultado = sum_matriz * 2\n",
    "print(resultado)\n"
   ]
  },
  {
   "cell_type": "markdown",
   "id": "a9e3e08f",
   "metadata": {},
   "source": [
    "n.Create 2 arrays with the values that you wish :\n",
    "- Concatenate vertically \n",
    "- Concatenate horizontally "
   ]
  },
  {
   "cell_type": "code",
   "execution_count": 31,
   "id": "6469da02",
   "metadata": {},

   "outputs": [],
   "source": [
    "#Creamos las matrices\n",
    "matriz3 = np.array( [ [1, 22, 33, 44], [47, 58, 68, 7] ] )\n",
    "matriz4 = np.array( [ [1, 2, 3, 4], [22, 60, 68, 7] ] )\n",
    "\n",
    "print(matriz3)\n",
    "print(matriz4)"
   ]
  },
  {
   "cell_type": "code",
   "execution_count": null,
   "id": "a18f435c",
   "metadata": {},
   "outputs": [],
   "source": [
    "#Concatenamos verticalmente \n",
    "vertical_concat = np.vstack((matriz3, matriz4))\n",
    "print(vertical_concat)"
   ]
  },
  {
   "cell_type": "code",
   "execution_count": null,
   "id": "f73c3f17",
   "metadata": {},
   "outputs": [],
   "source": [
    "#Concatenamos horizontalmente \n",
    "horizontal_concat = np.hstack((matriz3, matriz4))\n",
    "print(horizontal_concat)\n"

   ]
  },
  {
   "cell_type": "code",
   "execution_count": 32,
   "id": "582fd6ad",
   "metadata": {},
   "outputs": [
    {
     "data": {
      "text/plain": [
       "array([[4, 1],\n",
       "       [9, 7],\n",
       "       [4, 8]])"
      ]
     },
     "execution_count": 32,
     "metadata": {},
     "output_type": "execute_result"
    }
   ],
   "source": [
    "y= np.array([[4,1],[9,7],[4,8]]) #create a 2x2 array called \"y\"\n",
    "y"
   ]
  },
  {
   "cell_type": "code",
   "execution_count": 33,
   "id": "f0439dfc",
   "metadata": {},
   "outputs": [
    {
     "data": {
      "text/plain": [
       "array([[2, 8],\n",
       "       [5, 0],\n",
       "       [4, 1],\n",
       "       [9, 7],\n",
       "       [4, 8]])"
      ]
     },
     "execution_count": 33,
     "metadata": {},
     "output_type": "execute_result"
    }
   ],
   "source": [
    "np.concatenate( (x, y) , axis = 0) #concatenate arrays 'x' and 'y' along rows"
   ]
  },
  {
   "cell_type": "code",
   "execution_count": 34,
   "id": "d5cad0dd",
   "metadata": {},
   "outputs": [
    {
     "data": {
      "text/plain": [
       "array([[4, 1, 9],\n",
       "       [7, 4, 8]])"
      ]
     },
     "execution_count": 34,
     "metadata": {},
     "output_type": "execute_result"
    }
   ],
   "source": [
    "y_2= y.reshape(2,3) #reshape array 'y' from 3x2 to 2x3\n",
    "y_2"
   ]
  },
  {
   "cell_type": "code",
   "execution_count": 35,
   "id": "416a15b9",
   "metadata": {},
   "outputs": [
    {
     "data": {
      "text/plain": [
       "array([[2, 8, 4, 1, 9],\n",
       "       [5, 0, 7, 4, 8]])"
      ]
     },
     "execution_count": 35,
     "metadata": {},
     "output_type": "execute_result"
    }
   ],
   "source": [
    "np.concatenate( (x, y_2) , axis = 1) #concatenate array 'x' and array 'y_2' along colums"
   ]
  }
 ],
 "metadata": {
  "kernelspec": {
   "display_name": "Python 3 (ipykernel)",
   "language": "python",
   "name": "python3"
  },
  "language_info": {
   "codemirror_mode": {
    "name": "ipython",
    "version": 3
   },
   "file_extension": ".py",
   "mimetype": "text/x-python",
   "name": "python",
   "nbconvert_exporter": "python",
   "pygments_lexer": "ipython3",


   "version": "3.9.13"

   "version": "3.12.4"


  }
 },
 "nbformat": 4,
 "nbformat_minor": 5
}
