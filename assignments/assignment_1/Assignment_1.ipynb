{
 "cells": [
  {
   "cell_type": "markdown",
   "id": "5d198778",
   "metadata": {},
   "source": [
    "# Assignment_1\n",
    "If you copy codes from previous answers, explain each step. No explanation is `0 points`."
   ]
  },
  {
   "cell_type": "markdown",
   "id": "853562f8",
   "metadata": {},
   "source": [
    "##  Part 1.Data types\n"
   ]
  },
  {
   "cell_type": "markdown",
   "id": "521b5fe7",
   "metadata": {},
   "source": [
    "a.Declare one variable for each one these types: : int , float , string , boolean.\n",
    "- Print  the varible's type using  type () function\n",
    "\n",
    "\n"
   ]
  },
  {
   "cell_type": "code",
<<<<<<< Updated upstream
   "execution_count": 32,
=======
   "execution_count": 1,
>>>>>>> Stashed changes
   "id": "b8adc928",
   "metadata": {},
   "outputs": [
    {
     "name": "stdout",
     "output_type": "stream",
     "text": [
<<<<<<< Updated upstream
      "Type of variable: <class 'int'> \n",
      "Value: 10\n",
      "Type of variable: <class 'float'> \n",
      "Value: 3.14\n",
      "Type of variable: <class 'str'> \n",
      "Value: Hola\n",
      "Type of variable: <class 'bool'> \n",
      "Value: True\n"
=======
      "type of variable: <class 'int'> \n",
      "Value: 10\n",
      "type of variable: <class 'float'> \n",
      "Value: 1.73\n",
      "type of variable: <class 'str'> \n",
      "Value: gatitos\n",
      "type of variable: <class 'bool'> \n",
      "Value: False\n"
>>>>>>> Stashed changes
     ]
    }
   ],
   "source": [
<<<<<<< Updated upstream
    "# Declaración de variables\n",
    "int_var = 10              # int\n",
    "float_var = 3.14          # float\n",
    "string_var = \"Hola\"       # string\n",
    "boolean_var = True        # boolean\n",
    "\n",
    "# Imprimir el tipo y valor de cada variable\n",
    "print(\"Type of variable:\", type(int_var), \"\\nValue:\", int_var)\n",
    "print(\"Type of variable:\", type(float_var), \"\\nValue:\", float_var)\n",
    "print(\"Type of variable:\", type(string_var), \"\\nValue:\", string_var)\n",
    "print(\"Type of variable:\", type(boolean_var), \"\\nValue:\", boolean_var)"
=======
    "int_var = 10\n",
    "float_var = 1.73\n",
    "string_var = \"gatitos\"\n",
    "boolean_var = False\n",
    "\n",
    "#printing variables\n",
    "\n",
    "print(\"type of variable:\", type(int_var), \"\\nValue:\", int_var)\n",
    "print(\"type of variable:\", type(float_var), \"\\nValue:\", float_var)\n",
    "print(\"type of variable:\", type(string_var), \"\\nValue:\", string_var)\n",
    "print(\"type of variable:\", type(boolean_var), \"\\nValue:\", boolean_var)"
>>>>>>> Stashed changes
   ]
  },
  {
   "cell_type": "markdown",
   "id": "1a2d5445",
   "metadata": {},
   "source": []
  },
  {
   "cell_type": "markdown",
   "id": "ce38f1d9",
   "metadata": {},
   "source": [
    " b. Using only the following inputs: ```5``` and ```2```  ,  work the  operators to get the output  : ```50```"
   ]
  },
  {
   "cell_type": "code",
   "execution_count": 17,
   "id": "46b08279",
   "metadata": {},
   "outputs": [
    {
     "name": "stdout",
     "output_type": "stream",
     "text": [
      "50\n"
     ]
    }
   ],
   "source": [
    "result = 5 * (2 * 5)\n",
    "print(result)"
   ]
  },
  {
   "cell_type": "markdown",
   "id": "42009dda",
   "metadata": {},
   "source": [
    "c. Evaluate if the output of the previous excercise is over 100. Create a variable that makes this evaluation. (Hint: It would be a boolean)."
   ]
  },
  {
   "cell_type": "code",
   "execution_count": 18,
   "id": "e1226c5e",
   "metadata": {},
   "outputs": [
    {
     "name": "stdout",
     "output_type": "stream",
     "text": [
      "False\n"
     ]
    }
   ],
   "source": [
    "# Resultado del ejercicio anterior\n",
    "result = 50\n",
    "\n",
    "# Evaluar si el resultado es mayor que 100\n",
    "is_over_100 = result > 100\n",
    "\n",
    "# Imprimir el resultado de la evaluación\n",
    "print(is_over_100)\n"
   ]
  },
  {
   "cell_type": "markdown",
   "id": "877a0395",
   "metadata": {},
   "source": [
    "d. Create a variable equal to a list that contains: \n",
    "- a string,\n",
    "- a boolean,\n",
    "- two numeric values ( of any kind)  and\n",
    "- a  list of two strings with the names of your favourite musical artists. "
   ]
  },
  {
   "cell_type": "code",
   "execution_count": 19,
   "id": "081b71d0",
   "metadata": {},
   "outputs": [
    {
     "name": "stdout",
     "output_type": "stream",
     "text": [
      "['Hello, world!', True, 42, 1.73, ['Artist 1', 'Artist 2']]\n"
     ]
    }
   ],
   "source": [
    "# Crear una lista que contiene los elementos solicitados\n",
    "my_list = [\n",
    "    \"Hello, world!\",\n",
    "    True,\n",
    "    42,\n",
    "    1.73,\n",
    "    [\"Artist 1\", \"Artist 2\"]\n",
    "]\n",
    "\n",
    "# Imprimir la lista\n",
    "print(my_list)\n"
   ]
  },
  {
   "cell_type": "markdown",
   "id": "e2a5f459",
   "metadata": {},
   "source": [
    "## Part 2. Containers"
   ]
  },
  {
   "cell_type": "markdown",
   "id": "51681d3c",
   "metadata": {},
   "source": [
    "e. Create a tuple with 3 elements. Explain why you can't modify it. "
   ]
  },
  {
   "cell_type": "code",
   "execution_count": 20,
   "id": "dd8d0079",
   "metadata": {},
   "outputs": [
    {
     "data": {
      "text/plain": [
       "(1, 2, 3)"
      ]
     },
     "execution_count": 20,
     "metadata": {},
     "output_type": "execute_result"
    }
   ],
   "source": [
    "my_tuple = (1, 2, 3)\n",
    "my_tuple\n",
    "#Las tuplas en Python son inmutables por razones de seguridad e integridad de datos, asegurando que no se modifiquen accidentalmente, y por eficiencia, ya que consumen menos memoria y son más rápidas que las listas."
   ]
  },
  {
   "cell_type": "markdown",
   "id": "25ecd132",
   "metadata": {},
   "source": [
    "f.Create a dictionary with at least 3 different  keys and values ."
   ]
  },
  {
   "cell_type": "code",
   "execution_count": 21,
   "id": "57ac77f1",
   "metadata": {},
   "outputs": [
    {
     "data": {
      "text/plain": [
       "{'name': 'Alice', 'age': 30, 'movie': 'Oppenheimer'}"
      ]
     },
     "execution_count": 21,
     "metadata": {},
     "output_type": "execute_result"
    }
   ],
   "source": [
    "my_dict = {\n",
    "    \"name\": \"Alice\",\n",
    "    \"age\": 30,\n",
    "    \"movie\": \"Oppenheimer\"\n",
    "}\n",
    "my_dict\n",
    "# Un diccionario en Python es una colección de pares de clave-valor. En el ejemplo, creamos un diccionario my_dict con tres claves: \"name\", \"age\", y \"movie\", y les asignamos valores correspondientes: \"Alice\", 30, y \"oppenheimer\". Los valores se acceden usando las claves, como en my_dict[\"age\"]."
   ]
  },
  {
   "cell_type": "markdown",
   "id": "88837e32",
   "metadata": {},
   "source": [
    "g.We got the next courses list: "
   ]
  },
  {
   "cell_type": "code",
   "execution_count": 22,
   "id": "b75be7fb",
   "metadata": {},
   "outputs": [],
   "source": [
    "courses = [\"History\", \"Economy\", \"Anthropology\", \"Sociology \", \"Literature\"]"
   ]
  },
  {
   "cell_type": "markdown",
   "id": "005d3d70",
   "metadata": {},
   "source": [
    "g.1.Add tree additional courses in 3 different ways( one for each way):\n",
    "   - Sum (+) a list that contains an additional course. \n",
    "   - Use append. \n",
    "   - Use extend. "
   ]
  },
  {
   "cell_type": "code",
   "execution_count": 23,
   "id": "6d6e70db",
   "metadata": {},
   "outputs": [
    {
     "data": {
      "text/plain": [
       "['History',\n",
       " 'Economy',\n",
       " 'Anthropology',\n",
       " 'Sociology ',\n",
       " 'Literature',\n",
       " 'Physics',\n",
       " 'Mathematics',\n",
       " 'Biology']"
      ]
     },
     "execution_count": 23,
     "metadata": {},
     "output_type": "execute_result"
    }
   ],
   "source": [
    "courses = courses + [\"Physics\"]\n",
    "courses\n",
    "courses.append(\"Mathematics\")\n",
    "courses\n",
    "courses.extend([\"Biology\"])\n",
    "courses"
   ]
  },
  {
   "cell_type": "markdown",
   "id": "6cf07d6a",
   "metadata": {},
   "source": [
    "g.2.Use the indexation to stress _Sociology_."
   ]
  },
  {
   "cell_type": "code",
   "execution_count": 24,
   "id": "0a03e468",
   "metadata": {},
   "outputs": [
    {
     "data": {
      "text/plain": [
       "['History',\n",
       " 'Economy',\n",
       " 'Anthropology',\n",
       " 'Sociology!',\n",
       " 'Literature',\n",
       " 'Physics',\n",
       " 'Mathematics',\n",
       " 'Biology']"
      ]
     },
     "execution_count": 24,
     "metadata": {},
     "output_type": "execute_result"
    }
   ],
   "source": [
    "courses[3] = \"Sociology!\"\n",
    "courses\n",
    "#Aquí, usamos la indexación de listas para modificar el curso \"Sociology\" y destacarlo. Asignamos un nuevo valor \"Sociology!\" en el índice correspondiente de la lista, haciendo que el nombre del curso cambie."
   ]
  },
  {
   "cell_type": "markdown",
   "id": "bfb7ace5",
   "metadata": {},
   "source": [
    "g.3 Remove your least favourite course"
   ]
  },
  {
   "cell_type": "code",
   "execution_count": 26,
   "id": "63ea56cf",
   "metadata": {},
   "outputs": [],
   "source": [
    "if \"Economy\" in courses:\n",
    "    courses.remove(\"Economy\")\n",
    "    courses"
   ]
  },
  {
   "cell_type": "markdown",
   "id": "d07e8d7c",
   "metadata": {},
   "source": [
    "g.4. Invert the list"
   ]
  },
  {
   "cell_type": "code",
   "execution_count": null,
   "id": "c32c86be",
   "metadata": {},
   "outputs": [],
   "source": [
    "courses.reverse()\n",
    "courses"
   ]
  },
  {
   "cell_type": "markdown",
   "id": "17a5576a",
   "metadata": {},
   "source": [
    "h.Create a dictionary that representst a fruits inventory:\n",
    " - Add at least 5 fruits to the inventory\n",
    "- Print the amount of apples in stock \n",
    "- Modify the amount of grapes\n"
   ]
  },
  {
   "cell_type": "code",
   "execution_count": 27,
   "id": "a7ec16e9",
   "metadata": {},
   "outputs": [
    {
     "name": "stdout",
     "output_type": "stream",
     "text": [
      "50\n"
     ]
    },
    {
     "data": {
      "text/plain": [
       "{'apples': 50, 'bananas': 30, 'grapes': 25, 'oranges': 40, 'mangoes': 10}"
      ]
     },
     "execution_count": 27,
     "metadata": {},
     "output_type": "execute_result"
    }
   ],
   "source": [
    "fruits_inventory = {\n",
    "    \"apples\": 50,\n",
    "    \"bananas\": 30,\n",
    "    \"grapes\": 20,\n",
    "    \"oranges\": 40,\n",
    "    \"mangoes\": 10\n",
    "}\n",
    "\n",
    "# Print the amount of apples in stock\n",
    "print(fruits_inventory[\"apples\"])\n",
    "\n",
    "# Modify the amount of grapes\n",
    "fruits_inventory[\"grapes\"] = 25\n",
    "fruits_inventory\n",
    "\n",
    "# En el ejercicio h, creamos un diccionario que representa un inventario de frutas, donde cada clave es el nombre de una fruta y su valor es la cantidad en stock. Luego, imprimimos la cantidad de manzanas, modificamos la cantidad de uvas y realizamos operaciones sobre los valores del diccionario para simular la gestión de inventarios."
   ]
  },
  {
   "cell_type": "markdown",
   "id": "0c74c187",
   "metadata": {},
   "source": [
    "i.  Write a dictionary with the local GMT of the nexts cities:\n",
    "- Antananarivo, Madagascar, \n",
    "- Beirut, Lebanon, \n",
    "- Jakarta, Indonesia, \n",
    "- Teherán, Iran, \n",
    "- Vientiane, Laos, \n",
    "\n",
    "\n",
    "\n",
    "Hint: Lima would be: `\"Lima\": -5`"
   ]
  },
  {
   "cell_type": "code",
   "execution_count": 29,
   "id": "95e4b82d",
   "metadata": {},
   "outputs": [
    {
     "data": {
      "text/plain": [
       "{'Antananarivo': 3,\n",
       " 'Beirut': 3,\n",
       " 'Jakarta': 7,\n",
       " 'Teherán': 3.5,\n",
       " 'Vientiane': 7,\n",
       " 'Lima': -5}"
      ]
     },
     "execution_count": 29,
     "metadata": {},
     "output_type": "execute_result"
    }
   ],
   "source": [
    "gmt_times = {\n",
    "    \"Antananarivo\": 3,\n",
    "    \"Beirut\": 3,\n",
    "    \"Jakarta\": 7,\n",
    "    \"Teherán\": 3.5,\n",
    "    \"Vientiane\": 7,\n",
    "    \"Lima\": -5\n",
    "}\n",
    "gmt_times\n",
    "# En este ejercicio, hemos creado un diccionario llamado gmt_times que contiene las ciudades y sus respectivas horas de diferencia con respecto al GMT (Greenwich Mean Time). Cada ciudad es una clave, y su valor correspondiente es la diferencia horaria con GMT."
   ]
  },
  {
   "cell_type": "markdown",
   "id": "e0f93671",
   "metadata": {},
   "source": [
    " j.Add the nexts cities to the dictionary:\n",
    "- Astana, Kazakhstan,\n",
    "- Uagadugú, Burkina Faso,\n",
    "- Balmopan, Belize"
   ]
  },
  {
   "cell_type": "markdown",
   "id": "c6c4f120",
   "metadata": {},
   "source": [
    "# Part 3. Numpy\n"
   ]
  },
  {
   "cell_type": "markdown",
   "id": "ef5f5f96",
   "metadata": {},
   "source": [
    "k.Create an array with 10 aleatory values that go from 0 to 9"
   ]
  },
  {
   "cell_type": "markdown",
   "id": "914e1007",
   "metadata": {},
   "source": []
  },
  {
   "cell_type": "markdown",
   "id": "f653f08e",
   "metadata": {},
   "source": [
    "l.Create a matrix 3x2 fill with zeros"
   ]
  },
  {
   "cell_type": "code",
   "execution_count": 31,
   "id": "6aea98a5",
   "metadata": {},
   "outputs": [
    {
     "ename": "NameError",
     "evalue": "name 'np' is not defined",
     "output_type": "error",
     "traceback": [
      "\u001b[1;31m---------------------------------------------------------------------------\u001b[0m",
      "\u001b[1;31mNameError\u001b[0m                                 Traceback (most recent call last)",
      "Cell \u001b[1;32mIn[31], line 1\u001b[0m\n\u001b[1;32m----> 1\u001b[0m valores_k\u001b[38;5;241m=\u001b[39mnp\u001b[38;5;241m.\u001b[39mrandom\u001b[38;5;241m.\u001b[39mrandint(\u001b[38;5;241m0\u001b[39m,\u001b[38;5;241m10\u001b[39m,\u001b[38;5;241m10\u001b[39m)\n\u001b[0;32m      2\u001b[0m valores_k\n",
      "\u001b[1;31mNameError\u001b[0m: name 'np' is not defined"
     ]
    }
   ],
   "source": [
    "valores_k=np.random.randint(0,10,10)\n",
    "valores_k"
   ]
  },
  {
   "cell_type": "markdown",
   "id": "b0cca53d",
   "metadata": {},
   "source": [
    "m.Sum two arrays and then multiply the output by an scalar"
   ]
  },
  {
   "cell_type": "markdown",
   "id": "9d7b9466",
   "metadata": {},
   "source": []
  },
  {
   "cell_type": "code",
   "execution_count": null,
   "id": "7dca938e",
   "metadata": {},
   "outputs": [],
   "source": []
  },
  {
   "cell_type": "markdown",
   "id": "a9e3e08f",
   "metadata": {},
   "source": [
    "n.Create 2 arrays with the values that you wish :\n",
    "- Concatenate vertically \n",
    "- Concatenate horizontally "
   ]
  },
  {
   "cell_type": "code",
   "execution_count": null,
   "id": "6469da02",
   "metadata": {},
   "outputs": [],
   "source": []
  },
  {
   "cell_type": "markdown",
   "id": "c2a634a1",
   "metadata": {},
   "source": []
  }
 ],
 "metadata": {
  "kernelspec": {
   "display_name": "Python 3 (ipykernel)",
   "language": "python",
   "name": "python3"
  },
  "language_info": {
   "codemirror_mode": {
    "name": "ipython",
    "version": 3
   },
   "file_extension": ".py",
   "mimetype": "text/x-python",
   "name": "python",
   "nbconvert_exporter": "python",
   "pygments_lexer": "ipython3",
   "version": "3.11.5"
  }
 },
 "nbformat": 4,
 "nbformat_minor": 5
}
