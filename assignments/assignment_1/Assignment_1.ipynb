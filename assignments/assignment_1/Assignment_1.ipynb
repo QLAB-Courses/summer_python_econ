{
 "cells": [
  {
   "cell_type": "markdown",
   "id": "5d198778",
   "metadata": {},
   "source": [
    "# Assignment_1\n",
    "If you copy codes from previous answers, explain each step. No explanation is `0 points`."
   ]
  },
  {
   "cell_type": "markdown",
   "id": "853562f8",
   "metadata": {},
   "source": [
    "##  Part 1.Data types\n"
   ]
  },
  {
   "cell_type": "markdown",
   "id": "521b5fe7",
   "metadata": {},
   "source": [
    "a.Declare one variable for each one these types: : int , float , string , boolean.\n",
    "- Print  the varible's type using  type () function\n",
    "\n",
    "\n"
   ]
  },
  {
   "cell_type": "code",
   "execution_count": 3,
   "id": "b8adc928",
   "metadata": {},
   "outputs": [
    {
     "name": "stdout",
     "output_type": "stream",
     "text": [
      "<class 'int'>\n"
     ]
    }
   ],
   "source": [
    "# Int\n",
    "a = 5 # se define a=5, el cual es un entero\n",
    "print(type(a))\n"
   ]
  },
  {
   "cell_type": "code",
   "execution_count": 4,
   "id": "4b6ae28f",
   "metadata": {},
   "outputs": [
    {
     "name": "stdout",
     "output_type": "stream",
     "text": [
      "<class 'float'>\n"
     ]
    }
   ],
   "source": [
    "# Float\n",
    "b = 5.0 # se define b=5.0, el cual es un float\n",
    "print(type(b))"
   ]
  },
  {
   "cell_type": "code",
   "execution_count": 5,
   "id": "ad0e6a71",
   "metadata": {},
   "outputs": [
    {
     "name": "stdout",
     "output_type": "stream",
     "text": [
      "<class 'str'>\n"
     ]
    }
   ],
   "source": [
    "# String\n",
    "c = \"bienvenido al curso\" # se define c como un string\n",
    "print(type(c))"
   ]
  },
  {
   "cell_type": "code",
   "execution_count": 6,
   "id": "13edc12a",
   "metadata": {},
   "outputs": [
    {
     "name": "stdout",
     "output_type": "stream",
     "text": [
      "<class 'bool'>\n"
     ]
    }
   ],
   "source": [
    "# Booleano\n",
    "d = True # se define c como un booleano\n",
    "print(type(d))"
   ]
  },
  {
   "cell_type": "markdown",
   "id": "1a2d5445",
   "metadata": {},
   "source": []
  },
  {
   "cell_type": "markdown",
   "id": "ce38f1d9",
   "metadata": {},
   "source": [
    " b. Using only the following inputs: ```5``` and ```2```  ,  work the  operators to get the output  : ```50```"
   ]
  },
  {
   "cell_type": "code",
   "execution_count": 7,
   "id": "46b08279",
   "metadata": {},
   "outputs": [
    {
     "name": "stdout",
     "output_type": "stream",
     "text": [
      "50\n"
     ]
    }
   ],
   "source": [
    "e = (5**2)*2  # se define e como el calculo de 5 al cuadrado, multiplicado por 2\n",
    "print(e)"
   ]
  },
  {
   "cell_type": "markdown",
   "id": "42009dda",
   "metadata": {},
   "source": [
    "c. Evaluate if the output of the previous excercise is over 100. Create a variable that makes this evaluation. (Hint: It would be a boolean)."
   ]
  },
  {
   "cell_type": "code",
   "execution_count": 8,
   "id": "e1226c5e",
   "metadata": {},
   "outputs": [
    {
     "name": "stdout",
     "output_type": "stream",
     "text": [
      "False\n"
     ]
    }
   ],
   "source": [
    "e = (5**2)*2 # en la pregunta anterior se define \"e\" igual a 50\n",
    "f = e>100   # la variable \"f\" evalua si \"e\" es mayor a 100, lo cual es falso\n",
    "print(f)"
   ]
  },
  {
   "cell_type": "markdown",
   "id": "877a0395",
   "metadata": {},
   "source": [
    "d. Create a variable equal to a list that contains: \n",
    "- a string,\n",
    "- a boolean,\n",
    "- two numeric values ( of any kind)  and\n",
    "- a  list of two strings with the names of your favourite musical artists. "
   ]
  },
  {
   "cell_type": "code",
   "execution_count": 10,
   "id": "28a1b547",
   "metadata": {},
   "outputs": [
    {
     "name": "stdout",
     "output_type": "stream",
     "text": [
      "<class 'list'>\n"
     ]
    }
   ],
   "source": [
    "y=[\"hello\", True, 2, 5.3, [\"Adele\",\"Taylor\"]] #Se crea la variable \"y\", el cual es una lista que contiene un string, booleano, 2 valores numericos y una lista anidada.\n",
    "print(type(y))"
   ]
  },
  {
   "cell_type": "markdown",
   "id": "e2a5f459",
   "metadata": {},
   "source": [
    "## Part 2. Containers"
   ]
  },
  {
   "cell_type": "markdown",
   "id": "51681d3c",
   "metadata": {},
   "source": [
    "e. Create a tuple with 3 elements. Explain why you can't modify it. "
   ]
  },
  {
   "cell_type": "code",
   "execution_count": 14,
   "id": "dd8d0079",
   "metadata": {},
   "outputs": [
    {
     "data": {
      "text/plain": [
       "tuple"
      ]
     },
     "execution_count": 14,
     "metadata": {},
     "output_type": "execute_result"
    }
   ],
   "source": [
    "# We create a tuple using parentheses and adding elements inside, separated by commas.\n",
    "\n",
    "tuple_0 = (45, \"precio\", True)\n",
    "type(tuple_0)\n",
    "\n",
    "# We can't modify any element because we are creating a tuple. The elements of a tuple cannot be modified."
   ]
  },
  {
   "cell_type": "markdown",
   "id": "25ecd132",
   "metadata": {},
   "source": [
    "f.Create a dictionary with at least 3 different  keys and values ."
   ]
  },
  {
   "cell_type": "code",
   "execution_count": 15,
   "id": "57ac77f1",
   "metadata": {},
   "outputs": [
    {
     "data": {
      "text/plain": [
       "dict"
      ]
     },
     "execution_count": 15,
     "metadata": {},
     "output_type": "execute_result"
    }
   ],
   "source": [
    "hector = { \"age\" : 19, \"Height\" : \"1.65 meters\", \"Weight\" : \"60 kg\" }\n",
    "type(hector)\n",
    "\n",
    "# we create \"keys\" for each category within the dictionary."
   ]
  },
  {
   "cell_type": "markdown",
   "id": "88837e32",
   "metadata": {},
   "source": [
    "g.We got the next courses list: "
   ]
  },
  {
   "cell_type": "code",
   "execution_count": 5,
   "id": "b75be7fb",
   "metadata": {},
   "outputs": [],
   "source": [
    "courses = [\"History\", \"Economy\", \"Anthropology\", \"Sociology \", \"Literature\"]"
   ]
  },
  {
   "cell_type": "markdown",
   "id": "005d3d70",
   "metadata": {},
   "source": [
    "g.1.Add tree additional courses in 3 different ways( one for each way):\n",
    "   - Sum (+) a list that contains an additional course. \n",
    "   - Use append. \n",
    "   - Use extend. "
   ]
  },
  {
   "cell_type": "code",
   "execution_count": 3,
   "id": "6d6e70db",
   "metadata": {},
   "outputs": [
    {
     "data": {
      "text/plain": [
       "['History', 'Economy', 'Anthropology', 'Sociology ', 'Literature', 'Algebra']"
      ]
     },
     "execution_count": 3,
     "metadata": {},
     "output_type": "execute_result"
    }
   ],
   "source": [
    "#1 Sum (+) a list that contains an additional course\n",
    "\n",
    "extra_course = [\"Algebra\"]\n",
    "courses = [\"History\", \"Economy\", \"Anthropology\", \"Sociology \", \"Literature\"]\n",
    "courses + extra_course\n",
    "\n",
    "# we add the list \"extra_course\" that contains the course \"Algebra\" with \"+\"."
   ]
  },
  {
   "cell_type": "code",
   "execution_count": 4,
   "id": "5c61df09",
   "metadata": {},
   "outputs": [
    {
     "data": {
      "text/plain": [
       "['History', 'Economy', 'Anthropology', 'Sociology ', 'Literature', 'Geography']"
      ]
     },
     "execution_count": 4,
     "metadata": {},
     "output_type": "execute_result"
    }
   ],
   "source": [
    "#2 Use append\n",
    "\n",
    "courses = [\"History\", \"Economy\", \"Anthropology\", \"Sociology \", \"Literature\"]\n",
    "courses.append(\"Geography\")\n",
    "courses\n",
    "\n",
    "# with the \"append\" method we can add the course \"Geography\" to the list."
   ]
  },
  {
   "cell_type": "code",
   "execution_count": 5,
   "id": "8162fe38",
   "metadata": {},
   "outputs": [
    {
     "data": {
      "text/plain": [
       "['History', 'Economy', 'Anthropology', 'Sociology ', 'Literature', 'Physics']"
      ]
     },
     "execution_count": 5,
     "metadata": {},
     "output_type": "execute_result"
    }
   ],
   "source": [
    "#3 Use extend\n",
    "\n",
    "courses = [\"History\", \"Economy\", \"Anthropology\", \"Sociology \", \"Literature\"]\n",
    "another_extra_course = [\"Physics\"]\n",
    "courses.extend(another_extra_course)\n",
    "courses\n",
    "\n",
    "# We create the list \"another_extra_course\" in which we add the course \"Physics\". Once done, we use the \"extend\" method to join the item to the list \"courses\"."
   ]
  },
  {
   "cell_type": "markdown",
   "id": "6cf07d6a",
   "metadata": {},
   "source": [
    "g.2.Use the indexation to stress _Sociology_."
   ]
  },
  {
   "cell_type": "code",
   "execution_count": 6,
   "id": "0a03e468",
   "metadata": {},
   "outputs": [
    {
     "data": {
      "text/plain": [
       "'Sociology '"
      ]
     },
     "execution_count": 6,
     "metadata": {},
     "output_type": "execute_result"
    }
   ],
   "source": [
    "courses[3]\n",
    "\n",
    "# We stress the course \"sociology\" using python indexing. This starts with \"0\", so the position of said item is \"3\". "
   ]
  },
  {
   "cell_type": "markdown",
   "id": "bfb7ace5",
   "metadata": {},
   "source": [
    "g.3 Remove your least favourite course"
   ]
  },
  {
   "cell_type": "code",
   "execution_count": 7,
   "id": "63ea56cf",
   "metadata": {},
   "outputs": [
    {
     "data": {
      "text/plain": [
       "['History', 'Economy', 'Anthropology', 'Sociology ']"
      ]
     },
     "execution_count": 7,
     "metadata": {},
     "output_type": "execute_result"
    }
   ],
   "source": [
    "courses = [\"History\", \"Economy\", \"Anthropology\", \"Sociology \", \"Literature\"]\n",
    "courses.remove(\"Literature\")\n",
    "courses\n",
    "\n",
    "# Using the \"remove\" method, we remove the course \"literature\" from the list."
   ]
  },
  {
   "cell_type": "markdown",
   "id": "d07e8d7c",
   "metadata": {},
   "source": [
    "g.4. Invert the list"
   ]
  },
  {
   "cell_type": "code",
   "execution_count": 8,
   "id": "c32c86be",
   "metadata": {},
   "outputs": [
    {
     "data": {
      "text/plain": [
       "['Literature', 'Sociology ', 'Anthropology', 'Economy', 'History']"
      ]
     },
     "execution_count": 8,
     "metadata": {},
     "output_type": "execute_result"
    }
   ],
   "source": [
    "courses = [\"History\", \"Economy\", \"Anthropology\", \"Sociology \", \"Literature\"]\n",
    "courses.reverse()\n",
    "courses\n",
    "\n",
    "# We invert the list using the \"reverse\" method."
   ]
  },
  {
   "cell_type": "markdown",
   "id": "17a5576a",
   "metadata": {},
   "source": [
    "h.Create a dictionary that representst a fruits inventory:\n",
    " - Add at least 5 fruits to the inventory\n",
    "- Print the amount of apples in stock \n",
    "- Modify the amount of grapes\n"
   ]
  },
  {
   "cell_type": "code",
   "execution_count": 16,
   "id": "a7ec16e9",
   "metadata": {},
   "outputs": [
    {
     "data": {
      "text/plain": [
       "dict"
      ]
     },
     "execution_count": 16,
     "metadata": {},
     "output_type": "execute_result"
    }
   ],
   "source": [
    "#1 Add at least 5 fruits to the inventory\n",
    "\n",
    "fruits_inventory = { \"apples\" : 15, \"grapes\" : 30, \"pears\" : 20, \"pineapples\" : 13, \"oranges\" : 25}\n",
    "type(fruits_inventory)\n",
    "\n",
    "# we create a dictionary with the items \"apples\", \"grapes\", \"pears\", \"pineapples\" and \"oranges\"."
   ]
  },
  {
   "cell_type": "code",
   "execution_count": 10,
   "id": "f3d073db",
   "metadata": {},
   "outputs": [
    {
     "data": {
      "text/plain": [
       "15"
      ]
     },
     "execution_count": 10,
     "metadata": {},
     "output_type": "execute_result"
    }
   ],
   "source": [
    "#2 Print the amount of apples in stock\n",
    "\n",
    "fruits_inventory = { \"apples\" : 15, \"grapes\" : 30, \"pears\" : 20, \"pineapples\" : 13, \"oranges\" : 25}\n",
    "fruits_inventory[\"apples\"]\n",
    "\n",
    "# We indicate the number of apples by writing the dictionary and placing the key \"apples\" in brackets."
   ]
  },
  {
   "cell_type": "code",
   "execution_count": 11,
   "id": "c284cfbc",
   "metadata": {},
   "outputs": [
    {
     "data": {
      "text/plain": [
       "{'apples': 15, 'grapes': 22, 'pears': 20, 'pineapples': 13, 'oranges': 25}"
      ]
     },
     "execution_count": 11,
     "metadata": {},
     "output_type": "execute_result"
    }
   ],
   "source": [
    "#3 Modify the amount of grapes\n",
    "\n",
    "fruits_inventory = { \"apples\" : 15, \"grapes\" : 30, \"pears\" : 20, \"pineapples\" : 13, \"oranges\" : 25}\n",
    "fruits_inventory[\"grapes\"] = 22\n",
    "fruits_inventory\n",
    "\n",
    "# We modify the number of grapes by writing the name of the dictionary, we place the \"key\" in brackets, we use the \"=\" sign and we put the new amount"
   ]
  },
  {
   "cell_type": "markdown",
   "id": "0c74c187",
   "metadata": {},
   "source": [
    "i.  Write a dictionary with the local GMT of the nexts cities:\n",
    "- Antananarivo, Madagascar, \n",
    "- Beirut, Lebanon, \n",
    "- Jakarta, Indonesia, \n",
    "- Teherán, Iran, \n",
    "- Vientiane, Laos, \n",
    "\n",
    "\n",
    "\n",
    "Hint: Lima would be: `\"Lima\": -5`"
   ]
  },
  {
   "cell_type": "code",
   "execution_count": 17,
   "id": "95e4b82d",
   "metadata": {},
   "outputs": [
    {
     "data": {
      "text/plain": [
       "dict"
      ]
     },
     "execution_count": 17,
     "metadata": {},
     "output_type": "execute_result"
    }
   ],
   "source": [
    "GMT_cities = { \"Antananarivo\" : -3, \"Beirut\" : +2, \"Jakarta\" : +7, \"Teherán\" : -3.5, \"Vientiane\" : +7 }\n",
    "type(GMT_cities)\n",
    "\n",
    "# We generate a dictionary associating each city (key) with its respective local GMT."
   ]
  },
  {
   "cell_type": "markdown",
   "id": "e0f93671",
   "metadata": {},
   "source": [
    " j.Add the nexts cities to the dictionary:\n",
    "- Astana, Kazakhstan,\n",
    "- Uagadugú, Burkina Faso,\n",
    "- Balmopan, Belize"
   ]
  },
  {
   "cell_type": "code",
   "execution_count": 13,
   "id": "14c58f20",
   "metadata": {},
   "outputs": [
    {
     "data": {
      "text/plain": [
       "{'Antananarivo': -3,\n",
       " 'Beirut': 2,\n",
       " 'Jakarta': 7,\n",
       " 'Teherán': -3.5,\n",
       " 'Vientiane': 7,\n",
       " 'Astana': 5,\n",
       " 'Uagadugú': 0,\n",
       " 'Balmopan': 6}"
      ]
     },
     "execution_count": 13,
     "metadata": {},
     "output_type": "execute_result"
    }
   ],
   "source": [
    "GMT_extra_cities = { \"Astana\" : +5, \"Uagadugú\" : +0, \"Balmopan\" : +6}\n",
    "GMT_cities = { \"Antananarivo\" : -3, \"Beirut\" : +2, \"Jakarta\" : +7, \"Teherán\" : -3.5, \"Vientiane\" : +7 }\n",
    "GMT_cities.update(GMT_extra_cities)\n",
    "GMT_cities\n",
    "\n",
    "# we generate a new dictionary with the new cities (keys) to add and their respective local GMT. After that, we use the \"update\" method to join the elements of the new dictionary to \"GMT_cities\""
   ]
  },
  {
   "cell_type": "markdown",
   "id": "c6c4f120",
   "metadata": {},
   "source": [
    "# Part 3. Numpy\n"
   ]
  },
  {
   "cell_type": "markdown",
   "id": "ef5f5f96",
   "metadata": {},
   "source": [
    "k.Create an array with 10 aleatory values that go from 0 to 9"
   ]
  },
  {
   "cell_type": "markdown",
   "id": "914e1007",
   "metadata": {},
   "source": []
  },
  {
   "cell_type": "markdown",
   "id": "f653f08e",
   "metadata": {},
   "source": [
    "l.Create a matrix 3x2 fill with zeros"
   ]
  },
  {
   "cell_type": "code",
   "execution_count": null,
   "id": "6aea98a5",
   "metadata": {},
   "outputs": [],
   "source": []
  },
  {
   "cell_type": "markdown",
   "id": "b0cca53d",
   "metadata": {},
   "source": [
    "m.Sum two arrays and then multiply the output by an scalar"
   ]
  },
  {
   "cell_type": "markdown",
   "id": "9d7b9466",
   "metadata": {},
   "source": []
  },
  {
   "cell_type": "code",
   "execution_count": null,
   "id": "7dca938e",
   "metadata": {},
   "outputs": [],
   "source": []
  },
  {
   "cell_type": "markdown",
   "id": "a9e3e08f",
   "metadata": {},
   "source": [
    "n.Create 2 arrays with the values that you wish :\n",
    "- Concatenate vertically \n",
    "- Concatenate horizontally "
   ]
  },
  {
   "cell_type": "code",
   "execution_count": null,
   "id": "6469da02",
   "metadata": {},
   "outputs": [],
   "source": []
  },
  {
   "cell_type": "markdown",
   "id": "c2a634a1",
   "metadata": {},
   "source": []
  }
 ],
 "metadata": {
  "kernelspec": {
   "display_name": "Python 3 (ipykernel)",
   "language": "python",
   "name": "python3"
  },
  "language_info": {
   "codemirror_mode": {
    "name": "ipython",
    "version": 3
   },
   "file_extension": ".py",
   "mimetype": "text/x-python",
   "name": "python",
   "nbconvert_exporter": "python",
   "pygments_lexer": "ipython3",
   "version": "3.11.5"
  }
 },
 "nbformat": 4,
 "nbformat_minor": 5
}
