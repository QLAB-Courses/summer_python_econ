{
 "cells": [
  {
   "cell_type": "markdown",
   "id": "5d198778",
   "metadata": {},
   "source": [
    "# Assignment_1\n",
    "If you copy codes from previous answers, explain each step. No explanation is `0 points`."
   ]
  },
  {
   "cell_type": "markdown",
   "id": "853562f8",
   "metadata": {},
   "source": [
    "##  Part 1.Data types\n"
   ]
  },
  {
   "cell_type": "markdown",
   "id": "521b5fe7",
   "metadata": {},
   "source": [
    "a.Declare one variable for each one these types: : int , float , string , boolean.\n",
    "- Print  the varible's type using  type () function\n",
    "\n",
    "\n"
   ]
  },
  {
   "cell_type": "code",
   "execution_count": 1,
   "id": "b8adc928",
   "metadata": {},
   "outputs": [],
   "source": [
    "# We create a variable for each type and use the type() function\n",
    "a= 5 \n",
    "b= 331.24\n",
    "c= \"La Oroya\"\n",
    "d= False"
   ]
  },
  {
   "cell_type": "code",
   "execution_count": 3,
   "id": "eb531bbf-f235-42f8-bb98-2fedfff8e03d",
   "metadata": {},
   "outputs": [
    {
     "data": {
      "text/plain": [
       "int"
      ]
     },
     "execution_count": 3,
     "metadata": {},
     "output_type": "execute_result"
    }
   ],
   "source": [
    "type(a)"
   ]
  },
  {
   "cell_type": "code",
   "execution_count": 5,
   "id": "6305426a-ed6c-4e80-a573-ee885aa0cbe8",
   "metadata": {},
   "outputs": [
    {
     "data": {
      "text/plain": [
       "float"
      ]
     },
     "execution_count": 5,
     "metadata": {},
     "output_type": "execute_result"
    }
   ],
   "source": [
    "type(b)"
   ]
  },
  {
   "cell_type": "code",
   "execution_count": 7,
   "id": "529c5e76-84d1-4d63-b80a-4d6b5a11da72",
   "metadata": {},
   "outputs": [
    {
     "data": {
      "text/plain": [
       "str"
      ]
     },
     "execution_count": 7,
     "metadata": {},
     "output_type": "execute_result"
    }
   ],
   "source": [
    "type(c)"
   ]
  },
  {
   "cell_type": "code",
   "execution_count": 9,
   "id": "a7011f99-4460-4bb6-b500-c1408f7a04d8",
   "metadata": {},
   "outputs": [
    {
     "data": {
      "text/plain": [
       "bool"
      ]
     },
     "execution_count": 9,
     "metadata": {},
     "output_type": "execute_result"
    }
   ],
   "source": [
    "type(d)"
   ]
  },
  {
   "cell_type": "markdown",
   "id": "ce38f1d9",
   "metadata": {},
   "source": [
    " b. Using only the following inputs: ```5``` and ```2```  ,  work the  operators to get the output  : ```50```"
   ]
  },
  {
   "cell_type": "code",
   "execution_count": 12,
   "id": "46b08279",
   "metadata": {},
   "outputs": [],
   "source": [
    "# We create the inputs\n",
    "x=5\n",
    "y=2"
   ]
  },
  {
   "cell_type": "code",
   "execution_count": 14,
   "id": "474582d0-f800-4bab-bf4d-b52348481c31",
   "metadata": {},
   "outputs": [
    {
     "name": "stdout",
     "output_type": "stream",
     "text": [
      "5\n"
     ]
    },
    {
     "data": {
      "text/plain": [
       "int"
      ]
     },
     "execution_count": 14,
     "metadata": {},
     "output_type": "execute_result"
    }
   ],
   "source": [
    "print(x)\n",
    "type(x)"
   ]
  },
  {
   "cell_type": "code",
   "execution_count": 16,
   "id": "2401d93e-25a7-431a-a6e7-4915ba08be38",
   "metadata": {},
   "outputs": [
    {
     "name": "stdout",
     "output_type": "stream",
     "text": [
      "2\n"
     ]
    },
    {
     "data": {
      "text/plain": [
       "int"
      ]
     },
     "execution_count": 16,
     "metadata": {},
     "output_type": "execute_result"
    }
   ],
   "source": [
    "print(y)\n",
    "type(y)"
   ]
  },
  {
   "cell_type": "code",
   "execution_count": 18,
   "id": "afe5113c-b96d-4367-9294-09becebcdf21",
   "metadata": {},
   "outputs": [
    {
     "name": "stdout",
     "output_type": "stream",
     "text": [
      "50\n"
     ]
    }
   ],
   "source": [
    "# The result is (5^2)*2 = 50\n",
    "resultado = x**y * y\n",
    "print(resultado)"
   ]
  },
  {
   "cell_type": "markdown",
   "id": "42009dda",
   "metadata": {},
   "source": [
    "c. Evaluate if the output of the previous excercise is over 100. Create a variable that makes this evaluation. (Hint: It would be a boolean)."
   ]
  },
  {
   "cell_type": "code",
   "execution_count": 21,
   "id": "e1226c5e",
   "metadata": {},
   "outputs": [
    {
     "name": "stdout",
     "output_type": "stream",
     "text": [
      "False\n"
     ]
    }
   ],
   "source": [
    "# We evaluate if the output is over 100\n",
    "evaluate= resultado>100\n",
    "print(evaluate)"
   ]
  },
  {
   "cell_type": "markdown",
   "id": "877a0395",
   "metadata": {},
   "source": [
    "d. Create a variable equal to a list that contains: \n",
    "- a string,\n",
    "- a boolean,\n",
    "- two numeric values ( of any kind)  and\n",
    "- a  list of two strings with the names of your favourite musical artists. "
   ]
  },
  {
   "cell_type": "code",
   "execution_count": 24,
   "id": "081b71d0",
   "metadata": {},
   "outputs": [],
   "source": [
    "# We create the list that contains each requirement\n",
    "t=[\"La Oroya\",True,33.56, 100,[\"Do Kyungsoo\",\"Adele\"]]"
   ]
  },
  {
   "cell_type": "code",
   "execution_count": 26,
   "id": "5f56318e-0b17-417d-8201-7575ac42a826",
   "metadata": {},
   "outputs": [
    {
     "data": {
      "text/plain": [
       "list"
      ]
     },
     "execution_count": 26,
     "metadata": {},
     "output_type": "execute_result"
    }
   ],
   "source": [
    "type(t)"
   ]
  },
  {
   "cell_type": "code",
   "execution_count": 28,
   "id": "31e5d99d-860d-450e-8c55-73504f969f58",
   "metadata": {},
   "outputs": [
    {
     "name": "stdout",
     "output_type": "stream",
     "text": [
      "['La Oroya', True, 33.56, 100, ['Do Kyungsoo', 'Adele']]\n"
     ]
    }
   ],
   "source": [
    "print(t)"
   ]
  },
  {
   "cell_type": "markdown",
   "id": "e2a5f459",
   "metadata": {},
   "source": [
    "## Part 2. Containers"
   ]
  },
  {
   "cell_type": "markdown",
   "id": "51681d3c",
   "metadata": {},
   "source": [
    "e. Create a tuple with 3 elements. Explain why you can't modify it. "
   ]
  },
  {
   "cell_type": "code",
   "execution_count": 5,
   "id": "dd8d0079",
   "metadata": {},
   "outputs": [],
   "source": [
    "#I am creating a tuple with three elements. Tuples are immutable, meaning I cannot change or update their values after creating them.\n",
    "tuple_1=(45,\"Fam.Ramos\", True)"
   ]
  },
  {
   "cell_type": "code",
   "execution_count": 6,
   "id": "8f2fe984",
   "metadata": {},
   "outputs": [
    {
     "data": {
      "text/plain": [
       "tuple"
      ]
     },
     "execution_count": 6,
     "metadata": {},
     "output_type": "execute_result"
    }
   ],
   "source": [
    "type(tuple_1)"
   ]
  },
  {
   "cell_type": "code",
   "execution_count": 7,
   "id": "7b8772fc",
   "metadata": {},
   "outputs": [
    {
     "ename": "TypeError",
     "evalue": "'type' object does not support item assignment",
     "output_type": "error",
     "traceback": [
      "\u001b[1;31m---------------------------------------------------------------------------\u001b[0m",
      "\u001b[1;31mTypeError\u001b[0m                                 Traceback (most recent call last)",
      "Cell \u001b[1;32mIn[7], line 1\u001b[0m\n\u001b[1;32m----> 1\u001b[0m \u001b[38;5;28mtuple\u001b[39m[\u001b[38;5;241m0\u001b[39m]\u001b[38;5;241m=\u001b[39m \u001b[38;5;124m\"\u001b[39m\u001b[38;5;124mJorge Ramos\u001b[39m\u001b[38;5;124m\"\u001b[39m\n",
      "\u001b[1;31mTypeError\u001b[0m: 'type' object does not support item assignment"
     ]
    }
   ],
   "source": [
    "tuple[0]= \"Jorge Ramos\""
   ]
  },
  {
   "cell_type": "code",
   "execution_count": 8,
   "id": "b30f811c",
   "metadata": {},
   "outputs": [],
   "source": [
    "#Here I try to modify the value in the tuple_1 but it is impossible because tuples\n",
    "#are immutable containers. This immutability ensures that the data remains constant \n",
    "#throughout the program, making tupless ideal for storing ficed collection of \n",
    "#elements wher changes are not allowed #"
   ]
  },
  {
   "cell_type": "markdown",
   "id": "25ecd132",
   "metadata": {},
   "source": [
    "f.Create a dictionary with at least 3 different  keys and values ."
   ]
  },
  {
   "cell_type": "code",
   "execution_count": 9,
   "id": "57ac77f1",
   "metadata": {},
   "outputs": [],
   "source": [
    "#I am creating a dictionary with three key-value pairs. Each key is unique and is used to identify its associated value.\n",
    "#I am adding a mix of data types, such as strings, numbers, and booleans, to show the flexibility of dictionaries. Once created, I can quickly access any value by using its key."
   ]
  },
  {
   "cell_type": "code",
   "execution_count": 12,
   "id": "3fed5703",
   "metadata": {},
   "outputs": [],
   "source": [
    "caracteristicas={\"Edad\":24, \"Peso\": 67.55, \"Nombre\": \"Jose\", \"Enfermedad Gastritis\": True}"
   ]
  },
  {
   "cell_type": "code",
   "execution_count": 13,
   "id": "ccaea2bd",
   "metadata": {},
   "outputs": [
    {
     "data": {
      "text/plain": [
       "dict"
      ]
     },
     "execution_count": 13,
     "metadata": {},
     "output_type": "execute_result"
    }
   ],
   "source": [
    "type(caracteristicas)"
   ]
  },
  {
   "cell_type": "code",
   "execution_count": 14,
   "id": "cf6b5e18",
   "metadata": {},
   "outputs": [
    {
     "name": "stdout",
     "output_type": "stream",
     "text": [
      "{'Edad': 24, 'Peso': 67.55, 'Nombre': 'Jose', 'Enfermedad Gastritis': True}\n"
     ]
    }
   ],
   "source": [
    "print(caracteristicas)"
   ]
  },
  {
   "cell_type": "markdown",
   "id": "88837e32",
   "metadata": {},
   "source": [
    "g.We got the next courses list: "
   ]
  },
  {
   "cell_type": "code",
   "execution_count": 16,
   "id": "b75be7fb",
   "metadata": {},
   "outputs": [],
   "source": [
    "courses = [\"History\", \"Economy\", \"Anthropology\", \"Sociology \", \"Literature\"]"
   ]
  },
  {
   "cell_type": "markdown",
   "id": "005d3d70",
   "metadata": {},
   "source": [
    "g.1.Add tree additional courses in 3 different ways( one for each way):\n",
    "   - Sum (+) a list that contains an additional course. \n",
    "   - Use append. \n",
    "   - Use extend. "
   ]
  },
  {
   "cell_type": "code",
   "execution_count": 23,
   "id": "98126d64",
   "metadata": {},
   "outputs": [],
   "source": [
    "#First, I am adding a course to the list using the + operator. \n",
    "#This creates a new list by concatenating the original list with another \n",
    "#one containing the new course.\n"
   ]
  },
  {
   "cell_type": "code",
   "execution_count": 17,
   "id": "6d6e70db",
   "metadata": {},
   "outputs": [],
   "source": [
    "courses= courses+[\"Science and Technology\"]"
   ]
  },
  {
   "cell_type": "code",
   "execution_count": 18,
   "id": "6a7dd88d",
   "metadata": {},
   "outputs": [
    {
     "name": "stdout",
     "output_type": "stream",
     "text": [
      "['History', 'Economy', 'Anthropology', 'Sociology ', 'Literature', 'Science and Technology']\n"
     ]
    }
   ],
   "source": [
    "print(courses)"
   ]
  },
  {
   "cell_type": "code",
   "execution_count": null,
   "id": "d31e83a2",
   "metadata": {},
   "outputs": [],
   "source": [
    "#Next, I am using the append() method to add a single \n",
    "#course directly to the end of the existing list.\n"
   ]
  },
  {
   "cell_type": "code",
   "execution_count": 19,
   "id": "eb28b89d",
   "metadata": {},
   "outputs": [],
   "source": [
    "courses.append(\"Biology\")"
   ]
  },
  {
   "cell_type": "code",
   "execution_count": 20,
   "id": "528902b5",
   "metadata": {},
   "outputs": [
    {
     "name": "stdout",
     "output_type": "stream",
     "text": [
      "['History', 'Economy', 'Anthropology', 'Sociology ', 'Literature', 'Science and Technology', 'Biology']\n"
     ]
    }
   ],
   "source": [
    "print(courses)"
   ]
  },
  {
   "cell_type": "code",
   "execution_count": null,
   "id": "80326a3c",
   "metadata": {},
   "outputs": [],
   "source": [
    "#Finally, I am using the extend() method to add multiple\n",
    "#courses at once. This unpacks the elements of another list and adds\n",
    "#them individually to the current list.\n"
   ]
  },
  {
   "cell_type": "code",
   "execution_count": 21,
   "id": "7e540774",
   "metadata": {},
   "outputs": [],
   "source": [
    "courses.extend([\"Physics\"])"
   ]
  },
  {
   "cell_type": "code",
   "execution_count": 22,
   "id": "cd362802",
   "metadata": {},
   "outputs": [
    {
     "name": "stdout",
     "output_type": "stream",
     "text": [
      "['History', 'Economy', 'Anthropology', 'Sociology ', 'Literature', 'Science and Technology', 'Biology', 'Physics']\n"
     ]
    }
   ],
   "source": [
    "print(courses)\n"
   ]
  },
  {
   "cell_type": "markdown",
   "id": "6cf07d6a",
   "metadata": {},
   "source": [
    "g.2.Use the indexation to stress _Sociology_."
   ]
  },
  {
   "cell_type": "code",
   "execution_count": null,
   "id": "c638a607",
   "metadata": {},
   "outputs": [],
   "source": [
    "#I am modifying the \"Sociology\" element to highlight it. \n",
    "#For example, I can make it uppercase or add special characters to emphasize it.\n"
   ]
  },
  {
   "cell_type": "code",
   "execution_count": 24,
   "id": "0a03e468",
   "metadata": {},
   "outputs": [],
   "source": [
    "courses[3]=\"**SOCIOLOGY**\""
   ]
  },
  {
   "cell_type": "code",
   "execution_count": 25,
   "id": "1d3a282a",
   "metadata": {},
   "outputs": [
    {
     "name": "stdout",
     "output_type": "stream",
     "text": [
      "['History', 'Economy', 'Anthropology', '**SOCIOLOGY**', 'Literature', 'Science and Technology', 'Biology', 'Physics']\n"
     ]
    }
   ],
   "source": [
    "print(courses)"
   ]
  },
  {
   "cell_type": "markdown",
   "id": "bfb7ace5",
   "metadata": {},
   "source": [
    "g.3 Remove your least favourite course"
   ]
  },
  {
   "cell_type": "code",
   "execution_count": 26,
   "id": "7183b0ba",
   "metadata": {},
   "outputs": [
    {
     "name": "stdout",
     "output_type": "stream",
     "text": [
      "['History', 'Economy', '**SOCIOLOGY**', 'Literature', 'Science and Technology', 'Biology', 'Physics']\n"
     ]
    }
   ],
   "source": [
    "courses.remove(\"Anthropology\")\n",
    "print(courses)"
   ]
  },
  {
   "cell_type": "code",
   "execution_count": null,
   "id": "63ea56cf",
   "metadata": {},
   "outputs": [],
   "source": [
    "#I am removing my least favorite course from the list. \n",
    "#To do this, I can either use the remove() method to delete the course by\n",
    "#its name or the pop() method to delete it by its index.\n",
    "#After removing the course, I am checking the updated list\n",
    "#to ensure that the element has been successfully removed."
   ]
  },
  {
   "cell_type": "markdown",
   "id": "d07e8d7c",
   "metadata": {},
   "source": [
    "g.4. Invert the list"
   ]
  },
  {
   "cell_type": "code",
   "execution_count": 27,
   "id": "c32c86be",
   "metadata": {},
   "outputs": [
    {
     "name": "stdout",
     "output_type": "stream",
     "text": [
      "['History', 'Economy', '**SOCIOLOGY**', 'Literature', 'Science and Technology', 'Biology', 'Physics']\n"
     ]
    }
   ],
   "source": [
    "print(courses)"
   ]
  },
  {
   "cell_type": "code",
   "execution_count": 28,
   "id": "8235323a",
   "metadata": {},
   "outputs": [
    {
     "name": "stdout",
     "output_type": "stream",
     "text": [
      "['Physics', 'Biology', 'Science and Technology', 'Literature', '**SOCIOLOGY**', 'Economy', 'History']\n"
     ]
    }
   ],
   "source": [
    "courses.reverse()\n",
    "print(courses)"
   ]
  },
  {
   "cell_type": "code",
   "execution_count": null,
   "id": "e89fbb96",
   "metadata": {},
   "outputs": [],
   "source": [
    "#I am reversing the order of the list so that the last course becomes the first. \n",
    "#To do this, I can use the reverse() method, which modifies the list directly."
   ]
  },
  {
   "cell_type": "markdown",
   "id": "17a5576a",
   "metadata": {},
   "source": [
    "h.Create a dictionary that representst a fruits inventory:\n",
    " - Add at least 5 fruits to the inventory\n",
    "- Print the amount of apples in stock \n",
    "- Modify the amount of grapes\n"
   ]
  },
  {
   "cell_type": "code",
   "execution_count": 29,
   "id": "a7ec16e9",
   "metadata": {},
   "outputs": [],
   "source": [
    "my_inventory={\"apple\":32,\"pineapple\": 15, \"strawberry\":443, \"banana\": 43, \"grapes\": 69}"
   ]
  },
  {
   "cell_type": "code",
   "execution_count": 30,
   "id": "a8dbc7cb",
   "metadata": {},
   "outputs": [
    {
     "data": {
      "text/plain": [
       "dict"
      ]
     },
     "execution_count": 30,
     "metadata": {},
     "output_type": "execute_result"
    }
   ],
   "source": [
    "type(my_inventory)"
   ]
  },
  {
   "cell_type": "code",
   "execution_count": 31,
   "id": "31edc049",
   "metadata": {},
   "outputs": [
    {
     "name": "stdout",
     "output_type": "stream",
     "text": [
      "{'apple': 32, 'pineapple': 15, 'strawberry': 443, 'banana': 43, 'grapes': 69}\n"
     ]
    }
   ],
   "source": [
    "print(my_inventory)"
   ]
  },
  {
   "cell_type": "code",
   "execution_count": 32,
   "id": "16dbf2c7",
   "metadata": {},
   "outputs": [
    {
     "name": "stdout",
     "output_type": "stream",
     "text": [
      "Stock of apples: 32\n"
     ]
    }
   ],
   "source": [
    "print(\"Stock of apples:\", my_inventory[\"apple\"])"
   ]
  },
  {
   "cell_type": "code",
   "execution_count": 33,
   "id": "76275140",
   "metadata": {},
   "outputs": [],
   "source": [
    "my_inventory[\"grapes\"]= 169"
   ]
  },
  {
   "cell_type": "code",
   "execution_count": 34,
   "id": "c96db5f5",
   "metadata": {},
   "outputs": [
    {
     "name": "stdout",
     "output_type": "stream",
     "text": [
      "{'apple': 32, 'pineapple': 15, 'strawberry': 443, 'banana': 43, 'grapes': 169}\n"
     ]
    }
   ],
   "source": [
    "print(my_inventory)"
   ]
  },
  {
   "cell_type": "code",
   "execution_count": 35,
   "id": "e8b068c0",
   "metadata": {},
   "outputs": [],
   "source": [
    "#I am creating a dictionary to represent a fruits inventory. \n",
    "#Each key is the name of a fruit, and the value represents its stock quantity.\n",
    "#I am accessing the stock of apples by referencing the \"apple\" key.\n",
    "#I am updating the stock of grapes by assigning a new value to the \"grape\" key."
   ]
  },
  {
   "cell_type": "markdown",
   "id": "0c74c187",
   "metadata": {},
   "source": [
    "i.  Write a dictionary with the local GMT of the nexts cities:\n",
    "- Antananarivo, Madagascar, \n",
    "- Beirut, Lebanon, \n",
    "- Jakarta, Indonesia, \n",
    "- Teherán, Iran, \n",
    "- Vientiane, Laos, \n",
    "\n",
    "\n",
    "\n",
    "Hint: Lima would be: `\"Lima\": -5`"
   ]
  },
  {
   "cell_type": "code",
   "execution_count": 36,
   "id": "95e4b82d",
   "metadata": {},
   "outputs": [],
   "source": [
    "gmt_cities={\"Antananarivo, Madagascar\": +3,\n",
    "    \"Beirut, Lebanon\": +2,\n",
    "    \"Jakarta, Indonesia\": +7,\n",
    "    \"Tehran, Iran\": +3.5,\n",
    "    \"Vientiane, Laos\": +7}"
   ]
  },
  {
   "cell_type": "code",
   "execution_count": 37,
   "id": "7822ef66",
   "metadata": {},
   "outputs": [
    {
     "data": {
      "text/plain": [
       "dict"
      ]
     },
     "execution_count": 37,
     "metadata": {},
     "output_type": "execute_result"
    }
   ],
   "source": [
    "type(gmt_cities)"
   ]
  },
  {
   "cell_type": "code",
   "execution_count": 38,
   "id": "1d76921a",
   "metadata": {},
   "outputs": [
    {
     "name": "stdout",
     "output_type": "stream",
     "text": [
      "{'Antananarivo, Madagascar': 3, 'Beirut, Lebanon': 2, 'Jakarta, Indonesia': 7, 'Tehran, Iran': 3.5, 'Vientiane, Laos': 7}\n"
     ]
    }
   ],
   "source": [
    "print(gmt_cities)"
   ]
  },
  {
   "cell_type": "code",
   "execution_count": 39,
   "id": "79ffa4be",
   "metadata": {},
   "outputs": [],
   "source": [
    "#I am creating a dictionary where the keys represent city names and the values\n",
    "#represent their GMT offsets.\n",
    "#This structure allows me to quickly look up the timezone of any city by its \n",
    "#name. I can also update the GMT offset for any city if needed."
   ]
  },
  {
   "cell_type": "markdown",
   "id": "e0f93671",
   "metadata": {},
   "source": [
    " j.Add the nexts cities to the dictionary:\n",
    "- Astana, Kazakhstan,\n",
    "- Uagadugú, Burkina Faso,\n",
    "- Balmopan, Belize"
   ]
  },
  {
   "cell_type": "code",
   "execution_count": 40,
   "id": "33003424",
   "metadata": {},
   "outputs": [],
   "source": [
    "gmt_cities.update({\"Astana, Kazakhstan\": +6,\n",
    "    \"Uagadugú, Burkina Faso\": 0,\n",
    "    \"Balmopan, Belize\": -6})"
   ]
  },
  {
   "cell_type": "code",
   "execution_count": 41,
   "id": "70d4d782",
   "metadata": {},
   "outputs": [
    {
     "name": "stdout",
     "output_type": "stream",
     "text": [
      "{'Antananarivo, Madagascar': 3, 'Beirut, Lebanon': 2, 'Jakarta, Indonesia': 7, 'Tehran, Iran': 3.5, 'Vientiane, Laos': 7, 'Astana, Kazakhstan': 6, 'Uagadugú, Burkina Faso': 0, 'Balmopan, Belize': -6}\n"
     ]
    }
   ],
   "source": [
    "print(gmt_cities)"
   ]
  },
  {
   "cell_type": "code",
   "execution_count": null,
   "id": "e08a53a1",
   "metadata": {},
   "outputs": [],
   "source": [
    "#I am adding three more cities to the dictionary created in the previous question.\n",
    "#These cities are Astana, Kazakhstan with GMT +6, Uagadugú, Burkina Faso with \n",
    "#GMT 0, and Balmopan, Belize with GMT -6.\n",
    "#To add these new cities, I am using the update() method. \n",
    "#This allows me to insert multiple key-value pairs into the dictionary at once.\n",
    "#After adding the cities, I am printing the updated dictionary to confirm\n",
    "#that all the new entries have been added correctly."
   ]
  },
  {
   "cell_type": "markdown",
   "id": "c6c4f120",
   "metadata": {},
   "source": [
    "# Part 3. Numpy\n"
   ]
  },
  {
   "cell_type": "markdown",
   "id": "ef5f5f96",
   "metadata": {},
   "source": [
    "k.Create an array with 10 aleatory values that go from 0 to 9"
   ]
  },
  {
   "cell_type": "code",
   "execution_count": 1,
   "id": "e8013937-53e1-464c-b68a-45efc1fa325e",
   "metadata": {},
   "outputs": [
    {
     "name": "stdout",
     "output_type": "stream",
     "text": [
      "Array with random values: [8 4 7 8 9 7 0 0 6 8]\n"
     ]
    }
   ],
   "source": [
    "# First, import the numpy library\n",
    "import numpy as np\n",
    "\n",
    "# Second, create an array with 10 random integer values between 0 and 9\n",
    "array_k = np.random.randint(0, 10, 10)  # In this case, randint generates random integers in the range [0, 10)\n",
    "print(\"Array with random values:\", array_k)"
   ]
  },
  {
   "cell_type": "markdown",
   "id": "f653f08e",
   "metadata": {},
   "source": [
    "l.Create a matrix 3x2 fill with zeros"
   ]
  },
  {
   "cell_type": "code",
   "execution_count": 2,
   "id": "6aea98a5",
   "metadata": {},
   "outputs": [
    {
     "name": "stdout",
     "output_type": "stream",
     "text": [
      "3x2 matrix filled with zeros:\n",
      " [[0. 0.]\n",
      " [0. 0.]\n",
      " [0. 0.]]\n"
     ]
    }
   ],
   "source": [
    "# In this item, we created a 3x2 matrix filled with zeros\n",
    "matrix_l = np.zeros((3, 2)) \n",
    "print(\"3x2 matrix filled with zeros:\\n\", matrix_l)"
   ]
  },
  {
   "cell_type": "markdown",
   "id": "b0cca53d",
   "metadata": {},
   "source": [
    "m.Sum two arrays and then multiply the output by an scalar"
   ]
  },
  {
   "cell_type": "code",
   "execution_count": 3,
   "id": "7dca938e",
   "metadata": {},
   "outputs": [
    {
     "name": "stdout",
     "output_type": "stream",
     "text": [
      "Sum of the arrays: [5 7 9]\n",
      "Result after multiplying by the scalar: [10 14 18]\n"
     ]
    }
   ],
   "source": [
    "# First, we defined two arrays\n",
    "array1 = np.array([1, 2, 3])  # First array\n",
    "array2 = np.array([4, 5, 6])  # Second array\n",
    "\n",
    "# Scalar for multiplication\n",
    "scalar = 2\n",
    "\n",
    "# Sum the two arrays element by element\n",
    "sum_array = array1 + array2  # Vectorized operation\n",
    "print(\"Sum of the arrays:\", sum_array)\n",
    "\n",
    "# Finally, multiply the result by the scalar\n",
    "result_m = scalar * sum_array\n",
    "print(\"Result after multiplying by the scalar:\", result_m)"
   ]
  },
  {
   "cell_type": "markdown",
   "id": "d95aa147-2f5c-4ec9-8883-4e67f8a05f15",
   "metadata": {},
   "source": [
    "1)  Define two numerical arrays: Two sets of data are created, named array1 and array2, which contain numbers organized in the form of lists.\n",
    "\n",
    "2) Perform element-wise addition: Each value in the first array is added to the corresponding value in the second array. For example, the first number in the first array is added to the first number in the second array, the second to the second, and so on. \n",
    "\n",
    "3) Multiply the result by a scalar: The resulting array from the addition is multiplied by a fixed number (called scalar), which is applied to each element of the array. \n",
    "\n",
    "4) Print the results: Finally, both the intermediate array and the final array are displayed on the screen."
   ]
  },
  {
   "cell_type": "markdown",
   "id": "a9e3e08f",
   "metadata": {},
   "source": [
    "n.Create 2 arrays with the values that you wish :\n",
    "- Concatenate vertically \n",
    "- Concatenate horizontally "
   ]
  },
  {
   "cell_type": "code",
   "execution_count": null,
   "id": "6469da02",
   "metadata": {},
   "outputs": [],
   "source": [
    "# In the last item, we created two arrays with arbitrary values!\n",
    "array_n1 = np.array([1, 2, 3])  # First array\n",
    "array_n2 = np.array([4, 5, 6])  # Second array\n",
    "\n",
    "# Vertical \n",
    "concat_vert = np.vstack((array_n1, array_n2))  # vstack stacks the arrays as rows\n",
    "print(\"Vertical concatenation:\\n\", concat_vert)\n",
    "\n",
    "# Horizontal \n",
    "concat_horiz = np.hstack((array_n1, array_n2))  # hstack concatenates the arrays as columns\n",
    "print(\"Horizontal concatenation:\\n\", concat_horiz)\n"
   ]
  },
  {
   "cell_type": "markdown",
   "id": "c2a634a1",
   "metadata": {},
   "source": [
    "1) Define two numerical arrays: Two independent datasets are created, array_n1 and array_n2, which contain custom values. These values will be used for concatenation.\n",
    "\n",
    "2) Vertical concatenation: The two arrays are placed one below the other, forming a matrix structure with two rows and as many columns as elements each array has.\n",
    "\n",
    "3) Horizontal concatenation: The two arrays are placed side by side, forming a single longer array, with the elements from the first array followed by the elements from the second.\n",
    "\n",
    "4) Print the results: Finally, both forms of concatenation are displayed, allowing visualization of how the data is organized in the two configurations "
   ]
  }
 ],
 "metadata": {
  "kernelspec": {
   "display_name": "Python [conda env:base] *",
   "language": "python",
   "name": "conda-base-py"
  },
  "language_info": {
   "codemirror_mode": {
    "name": "ipython",
    "version": 3
   },
   "file_extension": ".py",
   "mimetype": "text/x-python",
   "name": "python",
   "nbconvert_exporter": "python",
   "pygments_lexer": "ipython3",
   "version": "3.11.5"
  }
 },
 "nbformat": 4,
 "nbformat_minor": 5
}
