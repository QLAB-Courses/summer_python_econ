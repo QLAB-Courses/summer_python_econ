{
 "cells": [
  {
   "cell_type": "markdown",
   "id": "5d198778",
   "metadata": {},
   "source": [
    "# Assignment_1\n",
    "If you copy codes from previous answers, explain each step. No explanation is `0 points`."
   ]
  },
  {
   "cell_type": "markdown",
   "id": "853562f8",
   "metadata": {},
   "source": [
    "##  Part 1.Data types\n"
   ]
  },
  {
   "cell_type": "markdown",
   "id": "521b5fe7",
   "metadata": {},
   "source": [
    "a.Declare one variable for each one these types: : int , float , string , boolean.\n",
    "- Print  the varible's type using  type () function\n",
    "\n",
    "\n"
   ]
  },
  {
   "cell_type": "code",
   "execution_count": 1,
   "id": "b8adc928",
   "metadata": {},
   "outputs": [],
   "source": [
    "# We create a variable for each type and use the type() function\n",
    "a= 5 \n",
    "b= 331.24\n",
    "c= \"La Oroya\"\n",
    "d= False"
   ]
  },
  {
   "cell_type": "code",
   "execution_count": 3,
   "id": "eb531bbf-f235-42f8-bb98-2fedfff8e03d",
   "metadata": {},
   "outputs": [
    {
     "data": {
      "text/plain": [
       "int"
      ]
     },
     "execution_count": 3,
     "metadata": {},
     "output_type": "execute_result"
    }
   ],
   "source": [
    "type(a)"
   ]
  },
  {
   "cell_type": "code",
   "execution_count": 5,
   "id": "6305426a-ed6c-4e80-a573-ee885aa0cbe8",
   "metadata": {},
   "outputs": [
    {
     "data": {
      "text/plain": [
       "float"
      ]
     },
     "execution_count": 5,
     "metadata": {},
     "output_type": "execute_result"
    }
   ],
   "source": [
    "type(b)"
   ]
  },
  {
   "cell_type": "code",
   "execution_count": 7,
   "id": "529c5e76-84d1-4d63-b80a-4d6b5a11da72",
   "metadata": {},
   "outputs": [
    {
     "data": {
      "text/plain": [
       "str"
      ]
     },
     "execution_count": 7,
     "metadata": {},
     "output_type": "execute_result"
    }
   ],
   "source": [
    "type(c)"
   ]
  },
  {
   "cell_type": "code",
   "execution_count": 9,
   "id": "a7011f99-4460-4bb6-b500-c1408f7a04d8",
   "metadata": {},
   "outputs": [
    {
     "data": {
      "text/plain": [
       "bool"
      ]
     },
     "execution_count": 9,
     "metadata": {},
     "output_type": "execute_result"
    }
   ],
   "source": [
    "type(d)"
   ]
  },
  {
   "cell_type": "markdown",
   "id": "ce38f1d9",
   "metadata": {},
   "source": [
    " b. Using only the following inputs: ```5``` and ```2```  ,  work the  operators to get the output  : ```50```"
   ]
  },
  {
   "cell_type": "code",
   "execution_count": 12,
   "id": "46b08279",
   "metadata": {},
   "outputs": [],
   "source": [
    "# We create the inputs\n",
    "x=5\n",
    "y=2"
   ]
  },
  {
   "cell_type": "code",
   "execution_count": 14,
   "id": "474582d0-f800-4bab-bf4d-b52348481c31",
   "metadata": {},
   "outputs": [
    {
     "name": "stdout",
     "output_type": "stream",
     "text": [
      "5\n"
     ]
    },
    {
     "data": {
      "text/plain": [
       "int"
      ]
     },
     "execution_count": 14,
     "metadata": {},
     "output_type": "execute_result"
    }
   ],
   "source": [
    "print(x)\n",
    "type(x)"
   ]
  },
  {
   "cell_type": "code",
   "execution_count": 16,
   "id": "2401d93e-25a7-431a-a6e7-4915ba08be38",
   "metadata": {},
   "outputs": [
    {
     "name": "stdout",
     "output_type": "stream",
     "text": [
      "2\n"
     ]
    },
    {
     "data": {
      "text/plain": [
       "int"
      ]
     },
     "execution_count": 16,
     "metadata": {},
     "output_type": "execute_result"
    }
   ],
   "source": [
    "print(y)\n",
    "type(y)"
   ]
  },
  {
   "cell_type": "code",
   "execution_count": 18,
   "id": "afe5113c-b96d-4367-9294-09becebcdf21",
   "metadata": {},
   "outputs": [
    {
     "name": "stdout",
     "output_type": "stream",
     "text": [
      "50\n"
     ]
    }
   ],
   "source": [
    "# The result is (5^2)*2 = 50\n",
    "resultado = x**y * y\n",
    "print(resultado)"
   ]
  },
  {
   "cell_type": "markdown",
   "id": "42009dda",
   "metadata": {},
   "source": [
    "c. Evaluate if the output of the previous excercise is over 100. Create a variable that makes this evaluation. (Hint: It would be a boolean)."
   ]
  },
  {
   "cell_type": "code",
   "execution_count": 21,
   "id": "e1226c5e",
   "metadata": {},
   "outputs": [
    {
     "name": "stdout",
     "output_type": "stream",
     "text": [
      "False\n"
     ]
    }
   ],
   "source": [
    "# We evaluate if the output is over 100\n",
    "evaluate= resultado>100\n",
    "print(evaluate)"
   ]
  },
  {
   "cell_type": "markdown",
   "id": "877a0395",
   "metadata": {},
   "source": [
    "d. Create a variable equal to a list that contains: \n",
    "- a string,\n",
    "- a boolean,\n",
    "- two numeric values ( of any kind)  and\n",
    "- a  list of two strings with the names of your favourite musical artists. "
   ]
  },
  {
   "cell_type": "code",
   "execution_count": 24,
   "id": "081b71d0",
   "metadata": {},
   "outputs": [],
   "source": [
    "# We create the list that contains each requirement\n",
    "t=[\"La Oroya\",True,33.56, 100,[\"Do Kyungsoo\",\"Adele\"]]"
   ]
  },
  {
   "cell_type": "code",
   "execution_count": 26,
   "id": "5f56318e-0b17-417d-8201-7575ac42a826",
   "metadata": {},
   "outputs": [
    {
     "data": {
      "text/plain": [
       "list"
      ]
     },
     "execution_count": 26,
     "metadata": {},
     "output_type": "execute_result"
    }
   ],
   "source": [
    "type(t)"
   ]
  },
  {
   "cell_type": "code",
   "execution_count": 28,
   "id": "31e5d99d-860d-450e-8c55-73504f969f58",
   "metadata": {},
   "outputs": [
    {
     "name": "stdout",
     "output_type": "stream",
     "text": [
      "['La Oroya', True, 33.56, 100, ['Do Kyungsoo', 'Adele']]\n"
     ]
    }
   ],
   "source": [
    "print(t)"
   ]
  },
  {
   "cell_type": "markdown",
   "id": "e2a5f459",
   "metadata": {},
   "source": [
    "## Part 2. Containers"
   ]
  },
  {
   "cell_type": "markdown",
   "id": "51681d3c",
   "metadata": {},
   "source": [
    "e. Create a tuple with 3 elements. Explain why you can't modify it. "
   ]
  },
  {
   "cell_type": "code",
   "execution_count": null,
   "id": "dd8d0079",
   "metadata": {},
   "outputs": [],
   "source": []
  },
  {
   "cell_type": "markdown",
   "id": "25ecd132",
   "metadata": {},
   "source": [
    "f.Create a dictionary with at least 3 different  keys and values ."
   ]
  },
  {
   "cell_type": "code",
   "execution_count": null,
   "id": "57ac77f1",
   "metadata": {},
   "outputs": [],
   "source": []
  },
  {
   "cell_type": "markdown",
   "id": "88837e32",
   "metadata": {},
   "source": [
    "g.We got the next courses list: "
   ]
  },
  {
   "cell_type": "code",
   "execution_count": 5,
   "id": "b75be7fb",
   "metadata": {},
   "outputs": [],
   "source": [
    "courses = [\"History\", \"Economy\", \"Anthropology\", \"Sociology \", \"Literature\"]"
   ]
  },
  {
   "cell_type": "markdown",
   "id": "005d3d70",
   "metadata": {},
   "source": [
    "g.1.Add tree additional courses in 3 different ways( one for each way):\n",
    "   - Sum (+) a list that contains an additional course. \n",
    "   - Use append. \n",
    "   - Use extend. "
   ]
  },
  {
   "cell_type": "code",
   "execution_count": null,
   "id": "6d6e70db",
   "metadata": {},
   "outputs": [],
   "source": []
  },
  {
   "cell_type": "markdown",
   "id": "6cf07d6a",
   "metadata": {},
   "source": [
    "g.2.Use the indexation to stress _Sociology_."
   ]
  },
  {
   "cell_type": "code",
   "execution_count": null,
   "id": "0a03e468",
   "metadata": {},
   "outputs": [],
   "source": []
  },
  {
   "cell_type": "markdown",
   "id": "bfb7ace5",
   "metadata": {},
   "source": [
    "g.3 Remove your least favourite course"
   ]
  },
  {
   "cell_type": "code",
   "execution_count": null,
   "id": "63ea56cf",
   "metadata": {},
   "outputs": [],
   "source": []
  },
  {
   "cell_type": "markdown",
   "id": "d07e8d7c",
   "metadata": {},
   "source": [
    "g.4. Invert the list"
   ]
  },
  {
   "cell_type": "code",
   "execution_count": null,
   "id": "c32c86be",
   "metadata": {},
   "outputs": [],
   "source": []
  },
  {
   "cell_type": "markdown",
   "id": "17a5576a",
   "metadata": {},
   "source": [
    "h.Create a dictionary that representst a fruits inventory:\n",
    " - Add at least 5 fruits to the inventory\n",
    "- Print the amount of apples in stock \n",
    "- Modify the amount of grapes\n"
   ]
  },
  {
   "cell_type": "code",
   "execution_count": null,
   "id": "a7ec16e9",
   "metadata": {},
   "outputs": [],
   "source": []
  },
  {
   "cell_type": "markdown",
   "id": "0c74c187",
   "metadata": {},
   "source": [
    "i.  Write a dictionary with the local GMT of the nexts cities:\n",
    "- Antananarivo, Madagascar, \n",
    "- Beirut, Lebanon, \n",
    "- Jakarta, Indonesia, \n",
    "- Teherán, Iran, \n",
    "- Vientiane, Laos, \n",
    "\n",
    "\n",
    "\n",
    "Hint: Lima would be: `\"Lima\": -5`"
   ]
  },
  {
   "cell_type": "code",
   "execution_count": null,
   "id": "95e4b82d",
   "metadata": {},
   "outputs": [],
   "source": []
  },
  {
   "cell_type": "markdown",
   "id": "e0f93671",
   "metadata": {},
   "source": [
    " j.Add the nexts cities to the dictionary:\n",
    "- Astana, Kazakhstan,\n",
    "- Uagadugú, Burkina Faso,\n",
    "- Balmopan, Belize"
   ]
  },
  {
   "cell_type": "markdown",
   "id": "c6c4f120",
   "metadata": {},
   "source": [
    "# Part 3. Numpy\n"
   ]
  },
  {
   "cell_type": "markdown",
   "id": "ef5f5f96",
   "metadata": {},
   "source": [
    "k.Create an array with 10 aleatory values that go from 0 to 9"
   ]
  },
  {
   "cell_type": "markdown",
   "id": "914e1007",
   "metadata": {},
   "source": []
  },
  {
   "cell_type": "markdown",
   "id": "f653f08e",
   "metadata": {},
   "source": [
    "l.Create a matrix 3x2 fill with zeros"
   ]
  },
  {
   "cell_type": "code",
   "execution_count": null,
   "id": "6aea98a5",
   "metadata": {},
   "outputs": [],
   "source": []
  },
  {
   "cell_type": "markdown",
   "id": "b0cca53d",
   "metadata": {},
   "source": [
    "m.Sum two arrays and then multiply the output by an scalar"
   ]
  },
  {
   "cell_type": "markdown",
   "id": "9d7b9466",
   "metadata": {},
   "source": []
  },
  {
   "cell_type": "code",
   "execution_count": null,
   "id": "7dca938e",
   "metadata": {},
   "outputs": [],
   "source": []
  },
  {
   "cell_type": "markdown",
   "id": "a9e3e08f",
   "metadata": {},
   "source": [
    "n.Create 2 arrays with the values that you wish :\n",
    "- Concatenate vertically \n",
    "- Concatenate horizontally "
   ]
  },
  {
   "cell_type": "code",
   "execution_count": null,
   "id": "6469da02",
   "metadata": {},
   "outputs": [],
   "source": []
  },
  {
   "cell_type": "markdown",
   "id": "c2a634a1",
   "metadata": {},
   "source": []
  }
 ],
 "metadata": {
  "kernelspec": {
   "display_name": "Python [conda env:base] *",
   "language": "python",
   "name": "conda-base-py"
  },
  "language_info": {
   "codemirror_mode": {
    "name": "ipython",
    "version": 3
   },
   "file_extension": ".py",
   "mimetype": "text/x-python",
   "name": "python",
   "nbconvert_exporter": "python",
   "pygments_lexer": "ipython3",
   "version": "3.11.5"
  }
 },
 "nbformat": 4,
 "nbformat_minor": 5
}
