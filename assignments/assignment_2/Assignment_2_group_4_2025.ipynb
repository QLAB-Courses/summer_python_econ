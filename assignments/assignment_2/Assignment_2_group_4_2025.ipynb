{
 "cells": [
  {
   "cell_type": "markdown",
   "id": "25b5978b",
   "metadata": {},
   "source": [
    " # Assignment_2"
   ]
  },
  {
   "cell_type": "markdown",
   "id": "91ad63a7",
   "metadata": {},
   "source": [
    "If you copy codes from previous answers, explain each step. No explanation is 0 points."
   ]
  },
  {
   "cell_type": "markdown",
   "id": "8809a95f",
   "metadata": {},
   "source": [
    "## Part 1. Pandas"
   ]
  },
  {
   "cell_type": "markdown",
   "id": "e1e42706",
   "metadata": {},
   "source": [
    "\n",
    "1. Go to  [INEI's](https://proyectos.inei.gob.pe/microdatos/) page.\n",
    "2. Search for \"Consulta por encuestas\" and click on ENAHO metodología ACTUALIZADA. \n",
    "3. Choose the one that says \"Condiciones de Vida y Pobreza - ENAHO\" (the one that isn't panel). \n",
    "4. Choose the year 2022, and in period choose yearly..   \n",
    "5. Download the **CSV files** from the Code 1 (housing and home characteristics) and module 34 (Summary - Calculated variables ). \n",
    "\n",
    "(The file of the sumary is Sumaria-2022).\n",
    "\n",
    "This task is meant to be developed using only the CSV files."
   ]
  },
  {
   "cell_type": "markdown",
   "id": "32d6bdd9",
   "metadata": {},
   "source": [
    "1. Read both csv files with pandas and label them with a name that allows you to work with them as databases. (If there is an error, it's because our surveys are taken on spanish and have some characteristics such as ˜ from the ñ or the accent. That's why in the options of reading the csv file add the next option ``` encoding = \"latin-1\" ```. \n",
    "\n",
    "(Don't forget to import pandas 🐼)\n",
    "\n",
    "\n",
    "In case your columns have their labels with uppercase , you can run the next code to switch to lowercase.\n",
    "\n",
    "``` python3 \n",
    "df.columns= df.columns.str.lower()\n",
    "``` \n",
    "Where `df` is the name of the data frame.   \n"
   ]
  },
  {
   "cell_type": "code",
   "execution_count": null,
   "id": "d933e460",
   "metadata": {},
   "outputs": [],
   "source": []
  },
  {
   "cell_type": "code",
   "execution_count": null,
   "id": "3def1570",
   "metadata": {},
   "outputs": [],
   "source": []
  },
  {
   "cell_type": "markdown",
   "id": "a346b0e9",
   "metadata": {},
   "source": [
    "2. - What are the dimensions of the summary( or the number of columns and rows)\n",
    "   - What are the dimensions of the housing module (or the number of columns and rows)."
   ]
  },
  {
   "cell_type": "code",
   "execution_count": null,
   "id": "b002aaa8",
   "metadata": {},
   "outputs": [],
   "source": []
  },
  {
   "cell_type": "code",
   "execution_count": null,
   "id": "fd5eb83e",
   "metadata": {},
   "outputs": [],
   "source": []
  },
  {
   "cell_type": "markdown",
   "id": "427e5d0e",
   "metadata": {},
   "source": [
    "3. We wont need all the variables from ENAHO. \n",
    "- Keep the next variables from the summary ``` CONGLOME VIVIENDA HOGAR MIEPERHO PERCEPHO POBREZA GASHOG2D INGHOG2D UBIGEO``` \n",
    "- Keep the next variables from the housing module ``` CONGLOME VIVIENDA HOGAR RESULT NBI1 NBI2 NBI3 NBI4 NBI5 ```.\n",
    " \n",
    " Note: each one of the varibles is :\n",
    "- MIEPERHO: number of members per home.. \n",
    "- PERCEPHO: number of members that earn some income \n",
    "- POBREZA: monetary poverty according to the poor line.\n",
    "- GASHOG2D: gross anual household expenditure.\n",
    "- INGHOG2D: anual net household incomer. \n",
    "- UBIGEO: 6 digit code that indicates the district the persons belongs to.\n",
    "\n",
    "Basic needs::\n",
    "- NBI1: inadequate housing\n",
    "- NBI2: overcrowding\n",
    "- NBI3: housing without hygienic services\n",
    "- NBI4: households with children who do not attend school.\n",
    "- NBI5: households with high economic dependence\n",
    "\n",
    "CONGLOME, VIVIENDA y HOGAR are the unique's household identifiers ( like a  key id)."
   ]
  },
  {
   "cell_type": "code",
   "execution_count": null,
   "id": "184c22f2",
   "metadata": {},
   "outputs": [],
   "source": []
  },
  {
   "cell_type": "markdown",
   "id": "b89d41b0",
   "metadata": {},
   "source": [
    "4. The housing module includes all the houses that got into the sampling frame even the ones that didn't participate in the ENAHO for various reasons. To delete these houses just keep the ones wich  ``` RESULT``` is equeal to 1 or 2. Keep this information for later "
   ]
  },
  {
   "cell_type": "code",
   "execution_count": null,
   "id": "8d4a4139",
   "metadata": {},
   "outputs": [],
   "source": []
  },
  {
   "cell_type": "markdown",
   "id": "48044795",
   "metadata": {},
   "source": [
    "5. We want to calculate a series of new variables( or new columns) :  \n",
    "\n",
    "In the summary : \n",
    "- We want the number of household dependent. These are the ones that don't percieve any income or the difference between the total household  members  and the total of percievers. \n",
    "- We want the average monthly income from the household percievers. \n",
    "- We want the difference between income and expenditure of the houselholds."
   ]
  },
  {
   "cell_type": "code",
   "execution_count": null,
   "id": "52c34814",
   "metadata": {},
   "outputs": [],
   "source": []
  },
  {
   "cell_type": "code",
   "execution_count": null,
   "id": "2d119a89",
   "metadata": {},
   "outputs": [],
   "source": []
  },
  {
   "cell_type": "code",
   "execution_count": null,
   "id": "fa389575",
   "metadata": {},
   "outputs": [],
   "source": []
  },
  {
   "cell_type": "markdown",
   "id": "7501b818",
   "metadata": {},
   "source": [
    "6. We want the `poverty` variable in the summary to be codified as an integers 1, 2 ,3 according to:\n",
    "`1`: extreme poor home\n",
    "`2`: not extreme poor home\n",
    "`3`: not poor home  \n",
    "\n",
    "Using this variable , make two more: \n",
    "1. A variable that says  `'extreme poor'`, `' not extreme poor'` and `'not poor '` instead of 1,2,3.\n",
    "2. A variable that has `'poor'` and  `'not poor'` (or one that combines the poor and not extreme poor households)."
   ]
  },
  {
   "cell_type": "code",
   "execution_count": null,
   "id": "55c5a1d7",
   "metadata": {},
   "outputs": [],
   "source": []
  },
  {
   "cell_type": "code",
   "execution_count": null,
   "id": "f1a6be0c",
   "metadata": {},
   "outputs": [],
   "source": []
  },
  {
   "cell_type": "markdown",
   "id": "d55c2f94",
   "metadata": {},
   "source": [
    "7. We want to now the average household income (inghog2d) per poverty level. Make a `groupby` to find this.\n",
    "\n",
    "(For example, the extreme poor households would only have one mean and it's the same for the others two  poor categories). "
   ]
  },
  {
   "cell_type": "code",
   "execution_count": null,
   "id": "93af4f03",
   "metadata": {},
   "outputs": [],
   "source": []
  },
  {
   "cell_type": "markdown",
   "id": "a52f6075",
   "metadata": {},
   "source": [
    "8. We whould now merge the data  \n",
    "But before a sanity check: Verify that the number of rows in both data bases are the same.( remember we filtrate the observations  by  `result`).  The ENAHO  recolects the information of these 34,490 homes trough all their modules. In order to use all the modules at once, we would merge them.   \n",
    "\n",
    "Merge both bases with an _inner merge_. Remember that the id that identifies each home its componed by  ` conglome vivienda hogar`.  "
   ]
  },
  {
   "cell_type": "code",
   "execution_count": null,
   "id": "abba34bc",
   "metadata": {},
   "outputs": [],
   "source": []
  },
  {
   "cell_type": "code",
   "execution_count": null,
   "id": "11e61fa0",
   "metadata": {},
   "outputs": [],
   "source": []
  },
  {
   "cell_type": "code",
   "execution_count": null,
   "id": "1cd0f6a1",
   "metadata": {},
   "outputs": [],
   "source": []
  },
  {
   "cell_type": "markdown",
   "id": "bcb31499",
   "metadata": {},
   "source": [
    "## Part 2. If and loops "
   ]
  },
  {
   "cell_type": "markdown",
   "id": "b2a6e8e4",
   "metadata": {},
   "source": [
    "1.   \n",
    "\n",
    "a. Do a  for-loop that goes from 22 to 42, but that only take the odd numbers.  Print each of the elements as you iterate through them. Hint : you can use ranges. \n",
    "\n",
    "b. Modify your program so that as you iterate through them, you add them to a variable called sum_total, defined before the loop begins. Use a operator that has a higher allocation."
   ]
  },
  {
   "cell_type": "code",
   "execution_count": null,
   "id": "1527ad05",
   "metadata": {},
   "outputs": [],
   "source": []
  },
  {
   "cell_type": "code",
   "execution_count": null,
   "id": "5dc065cc",
   "metadata": {},
   "outputs": [],
   "source": []
  },
  {
   "cell_type": "markdown",
   "id": "8450a363",
   "metadata": {},
   "source": [
    "2.  Write a  while loop that begins in 1 and ends in 100, but each loop, the counter i is increasing +=2.\n"
   ]
  },
  {
   "cell_type": "code",
   "execution_count": null,
   "id": "8a0861dc",
   "metadata": {},
   "outputs": [],
   "source": []
  },
  {
   "cell_type": "markdown",
   "id": "feb28d96",
   "metadata": {},
   "source": [
    "3. Write a program that asks the user for their age and determines if they are of legal age (18 years or older). If it is, it displays a message indicating that you can vote. If not, it displays a message indicating that you cannot vote yet."
   ]
  },
  {
   "cell_type": "code",
   "execution_count": null,
   "id": "525442b4",
   "metadata": {},
   "outputs": [],
   "source": []
  },
  {
   "cell_type": "code",
   "execution_count": null,
   "id": "ac5859d2",
   "metadata": {},
   "outputs": [],
   "source": []
  }
 ],
 "metadata": {
  "kernelspec": {
   "display_name": "Python 3 (ipykernel)",
   "language": "python",
   "name": "python3"
  },
  "language_info": {
   "codemirror_mode": {
    "name": "ipython",
    "version": 3
   },
   "file_extension": ".py",
   "mimetype": "text/x-python",
   "name": "python",
   "nbconvert_exporter": "python",
   "pygments_lexer": "ipython3",
   "version": "3.11.5"
  }
 },
 "nbformat": 4,
 "nbformat_minor": 5
}
