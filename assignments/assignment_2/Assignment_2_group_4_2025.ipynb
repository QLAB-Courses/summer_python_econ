{
 "cells": [
  {
   "cell_type": "markdown",
   "id": "25b5978b",
   "metadata": {},
   "source": [
    " # Assignment_2"
   ]
  },
  {
   "cell_type": "markdown",
   "id": "91ad63a7",
   "metadata": {},
   "source": [
    "If you copy codes from previous answers, explain each step. No explanation is 0 points."
   ]
  },
  {
   "cell_type": "markdown",
   "id": "8809a95f",
   "metadata": {},
   "source": [
    "## Part 1. Pandas"
   ]
  },
  {
   "cell_type": "markdown",
   "id": "e1e42706",
   "metadata": {},
   "source": [
    "\n",
    "1. Go to  [INEI's](https://proyectos.inei.gob.pe/microdatos/) page.\n",
    "2. Search for \"Consulta por encuestas\" and click on ENAHO metodología ACTUALIZADA. \n",
    "3. Choose the one that says \"Condiciones de Vida y Pobreza - ENAHO\" (the one that isn't panel). \n",
    "4. Choose the year 2022, and in period choose yearly..   \n",
    "5. Download the **CSV files** from the Code 1 (housing and home characteristics) and module 34 (Summary - Calculated variables ). \n",
    "\n",
    "(The file of the sumary is Sumaria-2022).\n",
    "\n",
    "This task is meant to be developed using only the CSV files."
   ]
  },
  {
   "cell_type": "markdown",
   "id": "32d6bdd9",
   "metadata": {},
   "source": [
    "1. Read both csv files with pandas and label them with a name that allows you to work with them as databases. (If there is an error, it's because our surveys are taken on spanish and have some characteristics such as ˜ from the ñ or the accent. That's why in the options of reading the csv file add the next option ``` encoding = \"latin-1\" ```. \n",
    "\n",
    "(Don't forget to import pandas 🐼)\n",
    "\n",
    "\n",
    "In case your columns have their labels with uppercase , you can run the next code to switch to lowercase.\n",
    "\n",
    "``` python3 \n",
    "df.columns= df.columns.str.lower()\n",
    "``` \n",
    "Where `df` is the name of the data frame.   \n"
   ]
  },
  {
   "cell_type": "code",
   "execution_count": 1,
   "id": "d933e460",
   "metadata": {},
   "outputs": [
    {
     "name": "stdout",
     "output_type": "stream",
     "text": [
      "C:\\Users\\A\\Documents\\GitHub\n",
      "    AÑO  MES  CONGLOME  VIVIENDA  HOGAR  UBIGEO  DOMINIO  ESTRATO  PERIODO  \\\n",
      "0  2022    2      5007         3     11   10101        4        4        1   \n",
      "1  2022    2      5007        12     11   10101        4        4        1   \n",
      "2  2022    2      5007        22     11   10101        4        4        1   \n",
      "3  2022    2      5007        31     11   10101        4        4        1   \n",
      "4  2022    2      5007        50     11   10101        4        4        1   \n",
      "\n",
      "   TIPENC  ...  NBI4  NBI5   FACTOR07 NCONGLOME SUB_CONGLOME CODCCPP  \\\n",
      "0       3  ...     0     0  45.282372      7070            0       1   \n",
      "1       3  ...     0     0  45.282372      7070            0       1   \n",
      "2       3  ...     0     0  45.282372      7070            0       1   \n",
      "3       3  ...              45.282372      7070            0       1   \n",
      "4       3  ...     0     0  45.282372      7070            0       1   \n",
      "\n",
      "              NOMCCPP   LONGITUD   LATITUD ALTITUD  \n",
      "0  CIUDAD CHACHAPOYAS -77.873924 -6.229049  2338.0  \n",
      "1  CIUDAD CHACHAPOYAS -77.873924 -6.229049  2338.0  \n",
      "2  CIUDAD CHACHAPOYAS -77.873924 -6.229049  2338.0  \n",
      "3  CIUDAD CHACHAPOYAS -77.873924 -6.229049  2338.0  \n",
      "4  CIUDAD CHACHAPOYAS -77.873924 -6.229049  2338.0  \n",
      "\n",
      "[5 rows x 324 columns]\n",
      "    AÑO  MES  CONGLOME  VIVIENDA  HOGAR  UBIGEO  DOMINIO  ESTRATO  MIEPERHO  \\\n",
      "0  2022    1      5030         8     11   10201        7        4         2   \n",
      "1  2022    1      5030        17     11   10201        7        4         2   \n",
      "2  2022    1      5030        33     11   10201        7        4         4   \n",
      "3  2022    1      5030        50     11   10201        7        4         3   \n",
      "4  2022    1      5030        59     11   10201        7        4        11   \n",
      "\n",
      "   TOTMIEHO  ...  ESTRSOCIAL    FACTOR07        LD       LINPE       LINEA  \\\n",
      "0         2  ...           4  106.890244  0.809237  223.765335  378.169434   \n",
      "1         2  ...           4  106.890244  0.809237  223.765335  378.169434   \n",
      "2         4  ...           4  106.890244  0.809237  223.765335  378.169434   \n",
      "3         3  ...           4  106.890244  0.809237  223.765335  378.169434   \n",
      "4        11  ...           4  106.890244  0.809237  223.765335  378.169434   \n",
      "\n",
      "   POBREZA      LINEAV  POBREZAV  NCONGLOME  SUB_CONGLOME  \n",
      "0        3  636.334351         4       6618             0  \n",
      "1        3  662.069275         4       6618             0  \n",
      "2        3  662.475037         3       6618             0  \n",
      "3        3  652.384521         3       6618             0  \n",
      "4        2  654.640137         2       6618             0  \n",
      "\n",
      "[5 rows x 167 columns]\n"
     ]
    }
   ],
   "source": [
    "import os\n",
    "print(os.getcwd())\n",
    "\n",
    "import pandas as pd\n",
    "\n",
    "# Leer el archivo del módulo de características de vivienda\n",
    "caracteristicas_vivienda = pd.read_csv(\"Enaho01-2022-100.csv\", encoding=\"latin-1\")\n",
    "\n",
    "# Leer el archivo del módulo de resumen\n",
    "sumaria = pd.read_csv(\"sumaria-2022.csv\", encoding=\"latin-1\")\n",
    "\n",
    "# Mostrar las primeras filas de ambos DataFrames\n",
    "print(caracteristicas_vivienda.head())\n",
    "print(sumaria.head())\n",
    "\n"
   ]
  },
  {
   "cell_type": "code",
   "execution_count": 12,
   "id": "75fd0493",
   "metadata": {},
   "outputs": [],
   "source": [
    "#Convertir los nombres de las columnas a minúsculas\n",
    "caracteristicas_vivienda.columns = caracteristicas_vivienda.columns.str.lower()\n",
    "sumaria.columns = sumaria.columns.str.lower()"
   ]
  },
  {
   "cell_type": "code",
   "execution_count": 13,
   "id": "f7f108fd",
   "metadata": {},
   "outputs": [
    {
     "name": "stdout",
     "output_type": "stream",
     "text": [
      "    año  mes  conglome  vivienda  hogar  ubigeo  dominio  estrato  periodo  \\\n",
      "0  2022    2      5007         3     11   10101        4        4        1   \n",
      "1  2022    2      5007        12     11   10101        4        4        1   \n",
      "2  2022    2      5007        22     11   10101        4        4        1   \n",
      "3  2022    2      5007        31     11   10101        4        4        1   \n",
      "4  2022    2      5007        50     11   10101        4        4        1   \n",
      "\n",
      "   tipenc  ...  nbi4  nbi5   factor07 nconglome sub_conglome codccpp  \\\n",
      "0       3  ...     0     0  45.282372      7070            0       1   \n",
      "1       3  ...     0     0  45.282372      7070            0       1   \n",
      "2       3  ...     0     0  45.282372      7070            0       1   \n",
      "3       3  ...              45.282372      7070            0       1   \n",
      "4       3  ...     0     0  45.282372      7070            0       1   \n",
      "\n",
      "              nomccpp   longitud   latitud altitud  \n",
      "0  CIUDAD CHACHAPOYAS -77.873924 -6.229049  2338.0  \n",
      "1  CIUDAD CHACHAPOYAS -77.873924 -6.229049  2338.0  \n",
      "2  CIUDAD CHACHAPOYAS -77.873924 -6.229049  2338.0  \n",
      "3  CIUDAD CHACHAPOYAS -77.873924 -6.229049  2338.0  \n",
      "4  CIUDAD CHACHAPOYAS -77.873924 -6.229049  2338.0  \n",
      "\n",
      "[5 rows x 324 columns]\n",
      "    año  mes  conglome  vivienda  hogar  ubigeo  dominio  estrato  mieperho  \\\n",
      "0  2022    1      5030         8     11   10201        7        4         2   \n",
      "1  2022    1      5030        17     11   10201        7        4         2   \n",
      "2  2022    1      5030        33     11   10201        7        4         4   \n",
      "3  2022    1      5030        50     11   10201        7        4         3   \n",
      "4  2022    1      5030        59     11   10201        7        4        11   \n",
      "\n",
      "   totmieho  ...  estrsocial    factor07        ld       linpe       linea  \\\n",
      "0         2  ...           4  106.890244  0.809237  223.765335  378.169434   \n",
      "1         2  ...           4  106.890244  0.809237  223.765335  378.169434   \n",
      "2         4  ...           4  106.890244  0.809237  223.765335  378.169434   \n",
      "3         3  ...           4  106.890244  0.809237  223.765335  378.169434   \n",
      "4        11  ...           4  106.890244  0.809237  223.765335  378.169434   \n",
      "\n",
      "   pobreza      lineav  pobrezav  nconglome  sub_conglome  \n",
      "0        3  636.334351         4       6618             0  \n",
      "1        3  662.069275         4       6618             0  \n",
      "2        3  662.475037         3       6618             0  \n",
      "3        3  652.384521         3       6618             0  \n",
      "4        2  654.640137         2       6618             0  \n",
      "\n",
      "[5 rows x 167 columns]\n",
      "<class 'pandas.core.frame.DataFrame'>\n",
      "RangeIndex: 44122 entries, 0 to 44121\n",
      "Columns: 324 entries, año to altitud\n",
      "dtypes: float64(4), int64(30), object(290)\n",
      "memory usage: 109.1+ MB\n",
      "None\n",
      "<class 'pandas.core.frame.DataFrame'>\n",
      "RangeIndex: 34213 entries, 0 to 34212\n",
      "Columns: 167 entries, año to sub_conglome\n",
      "dtypes: float64(105), int64(62)\n",
      "memory usage: 43.6 MB\n",
      "None\n"
     ]
    }
   ],
   "source": [
    "#Mostrar las primeras filas\n",
    "print(caracteristicas_vivienda.head())\n",
    "print(sumaria.head())\n",
    "\n",
    "#Resumen de las columnas\n",
    "print(caracteristicas_vivienda.info())\n",
    "print(sumaria.info())"
   ]
  },
  {
   "cell_type": "markdown",
   "id": "a346b0e9",
   "metadata": {},
   "source": [
    "2. - What are the dimensions of the summary( or the number of columns and rows)\n",
    "   - What are the dimensions of the housing module (or the number of columns and rows)."
   ]
  },
  {
   "cell_type": "code",
   "execution_count": 14,
   "id": "b002aaa8",
   "metadata": {},
   "outputs": [
    {
     "name": "stdout",
     "output_type": "stream",
     "text": [
      "El módulo de resumen (Sumaria-2022) tiene 34213 filas y 167 columnas.\n"
     ]
    }
   ],
   "source": [
    "#Dimensiones del módulo de sumarias\n",
    "filas_sumaria, columnas_sumaria = sumaria.shape\n",
    "print(f\"El módulo de resumen (Sumaria-2022) tiene {filas_sumaria} filas y {columnas_sumaria} columnas.\")"
   ]
  },
  {
   "cell_type": "code",
   "execution_count": null,
   "id": "fd5eb83e",
   "metadata": {},
   "outputs": [],
   "source": [
    "#Dimensiones del módulo de características de vivienda\n",
    "filas_vivienda, columnas_vivienda = caracteristicas_vivienda.shape\n",
    "print(f\"El módulo de características de vivienda tiene {filas_vivienda} filas y {columnas_vivienda} columnas.\")"
   ]
  },
  {
   "cell_type": "markdown",
   "id": "427e5d0e",
   "metadata": {},
   "source": [
    "3. We wont need all the variables from ENAHO. \n",
    "- Keep the next variables from the summary ``` CONGLOME VIVIENDA HOGAR MIEPERHO PERCEPHO POBREZA GASHOG2D INGHOG2D UBIGEO``` \n",
    "- Keep the next variables from the housing module ``` CONGLOME VIVIENDA HOGAR RESULT NBI1 NBI2 NBI3 NBI4 NBI5 ```.\n",
    " \n",
    " Note: each one of the varibles is :\n",
    "- MIEPERHO: number of members per home.. \n",
    "- PERCEPHO: number of members that earn some income \n",
    "- POBREZA: monetary poverty according to the poor line.\n",
    "- GASHOG2D: gross anual household expenditure.\n",
    "- INGHOG2D: anual net household incomer. \n",
    "- UBIGEO: 6 digit code that indicates the district the persons belongs to.\n",
    "\n",
    "Basic needs::\n",
    "- NBI1: inadequate housing\n",
    "- NBI2: overcrowding\n",
    "- NBI3: housing without hygienic services\n",
    "- NBI4: households with children who do not attend school.\n",
    "- NBI5: households with high economic dependence\n",
    "\n",
    "CONGLOME, VIVIENDA y HOGAR are the unique's household identifiers ( like a  key id)."
   ]
  },
  {
   "cell_type": "code",
   "execution_count": 15,
   "id": "184c22f2",
   "metadata": {},
   "outputs": [
    {
     "name": "stdout",
     "output_type": "stream",
     "text": [
      "   conglome  vivienda  hogar  mieperho  percepho  pobreza      gashog2d  \\\n",
      "0      5030         8     11         2         2        3  36949.523438   \n",
      "1      5030        17     11         2         2        3  48161.250000   \n",
      "2      5030        33     11         4         4        3  27575.876953   \n",
      "3      5030        50     11         3         1        3  16161.042969   \n",
      "4      5030        59     11        11         7        2  30606.212891   \n",
      "\n",
      "       inghog2d  ubigeo  \n",
      "0  34606.441406   10201  \n",
      "1  82028.218750   10201  \n",
      "2  31791.029297   10201  \n",
      "3  24028.867188   10201  \n",
      "4  46056.109375   10201  \n"
     ]
    }
   ],
   "source": [
    "#Selección de columnas del módulo de sumarias\n",
    "columnas_sumaria = [\n",
    "    \"conglome\", \"vivienda\", \"hogar\", \"mieperho\",\n",
    "    \"percepho\", \"pobreza\", \"gashog2d\", \"inghog2d\", \"ubigeo\"\n",
    "]\n",
    "sumaria_filtrado = sumaria[columnas_sumaria]\n",
    "\n",
    "#Verificar el nuevo DataFrame\n",
    "print(sumaria_filtrado.head())"
   ]
  },
  {
   "cell_type": "code",
   "execution_count": 16,
   "id": "62aa0e55",
   "metadata": {},
   "outputs": [
    {
     "name": "stdout",
     "output_type": "stream",
     "text": [
      "   conglome  vivienda  hogar  result nbi1 nbi2 nbi3 nbi4 nbi5\n",
      "0      5007         3     11       1    0    0    0    0    0\n",
      "1      5007        12     11       1    0    0    0    0    0\n",
      "2      5007        22     11       1    0    0    0    0    0\n",
      "3      5007        31     11       4                         \n",
      "4      5007        50     11       1    0    0    0    0    0\n"
     ]
    }
   ],
   "source": [
    "#Selección de columnas del módulo de características de vivienda\n",
    "columnas_vivienda = [\n",
    "    \"conglome\", \"vivienda\", \"hogar\", \"result\",\n",
    "    \"nbi1\", \"nbi2\", \"nbi3\", \"nbi4\", \"nbi5\"\n",
    "]\n",
    "vivienda_filtrado = caracteristicas_vivienda[columnas_vivienda]\n",
    "\n",
    "#Verificar el nuevo DataFrame\n",
    "print(vivienda_filtrado.head())\n"
   ]
  },
  {
   "cell_type": "code",
   "execution_count": 17,
   "id": "ce47ca44",
   "metadata": {},
   "outputs": [
    {
     "name": "stdout",
     "output_type": "stream",
     "text": [
      "Dimensiones del módulo de resumen filtrado: (34213, 9)\n",
      "Dimensiones del módulo de vivienda filtrado: (44122, 9)\n"
     ]
    }
   ],
   "source": [
    "#confirmar las dimensiones de los dataFRame filtrados\n",
    "print(f\"Dimensiones del módulo de resumen filtrado: {sumaria_filtrado.shape}\")\n",
    "print(f\"Dimensiones del módulo de vivienda filtrado: {vivienda_filtrado.shape}\")"
   ]
  },
  {
   "cell_type": "markdown",
   "id": "b89d41b0",
   "metadata": {},
   "source": [
    "4. The housing module includes all the houses that got into the sampling frame even the ones that didn't participate in the ENAHO for various reasons. To delete these houses just keep the ones wich  ``` RESULT``` is equeal to 1 or 2. Keep this information for later "
   ]
  },
  {
   "cell_type": "code",
   "execution_count": 19,
   "id": "8d4a4139",
   "metadata": {},
   "outputs": [
    {
     "name": "stdout",
     "output_type": "stream",
     "text": [
      "Dimensiones del módulo de vivienda filtrado por resultado: (34213, 9)\n"
     ]
    }
   ],
   "source": [
    "#Filtrar las filas donde result es igual a 1 o 2\n",
    "vivienda_participantes = vivienda_filtrado[vivienda_filtrado[\"result\"].isin([1, 2])]\n",
    "\n",
    "#Verificar las dimensiones del nuevo DataFrame\n",
    "print(f\"Dimensiones del módulo de vivienda filtrado por resultado: {vivienda_participantes.shape}\")"
   ]
  },
  {
   "cell_type": "code",
   "execution_count": 20,
   "id": "14116a29",
   "metadata": {},
   "outputs": [
    {
     "name": "stdout",
     "output_type": "stream",
     "text": [
      "    conglome  vivienda  hogar  result nbi1 nbi2 nbi3 nbi4 nbi5\n",
      "0       5007         3     11       1    0    0    0    0    0\n",
      "1       5007        12     11       1    0    0    0    0    0\n",
      "2       5007        22     11       1    0    0    0    0    0\n",
      "4       5007        50     11       1    0    0    0    0    0\n",
      "10      5009        56     11       1    0    1    0    0    0\n"
     ]
    }
   ],
   "source": [
    "#Mostrar las primeras filas del DataFrame filtrado\n",
    "print(vivienda_participantes.head())"
   ]
  },
  {
   "cell_type": "code",
   "execution_count": 21,
   "id": "450708bb",
   "metadata": {},
   "outputs": [],
   "source": [
    "#Guardar el DataFrame filtrado en un archivo CSV\n",
    "vivienda_participantes.to_csv(\"vivienda_participantes.csv\", index=False)"
   ]
  },
  {
   "cell_type": "markdown",
   "id": "48044795",
   "metadata": {},
   "source": [
    "5. We want to calculate a series of new variables( or new columns) :  \n",
    "\n",
    "In the summary : \n",
    "- We want the number of household dependent. These are the ones that don't percieve any income or the difference between the total household  members  and the total of percievers. \n",
    "- We want the average monthly income from the household percievers. \n",
    "- We want the difference between income and expenditure of the houselholds."
   ]
  },
  {
   "cell_type": "code",
   "execution_count": 31,
   "id": "52c34814",
   "metadata": {},
   "outputs": [],
   "source": [
    "#Crear una copia\n",
    "sumaria_filtrado = sumaria_filtrado.copy()\n",
    "\n",
    "#Calcular el número de dependientes\n",
    "sumaria_filtrado.loc[:, \"dependientes\"] = sumaria_filtrado[\"mieperho\"] - sumaria_filtrado[\"percepho\"]\n"
   ]
  },
  {
   "cell_type": "code",
   "execution_count": 32,
   "id": "2d119a89",
   "metadata": {},
   "outputs": [],
   "source": [
    "#calcular el ingreso mensual promedio por perceptor\n",
    "sumaria_filtrado.loc[:, \"ingreso_prom_perceptor\"] = sumaria_filtrado[\"inghog2d\"] / (12 * sumaria_filtrado[\"percepho\"])\n",
    "\n",
    "#Rellenar NaN con 0 para perceptores igual a 0\n",
    "sumaria_filtrado[\"ingreso_prom_perceptor\"].fillna(0, inplace=True)"
   ]
  },
  {
   "cell_type": "code",
   "execution_count": 38,
   "id": "fa389575",
   "metadata": {},
   "outputs": [],
   "source": [
    "#Calcular la diferencia entre ingreso y gasto\n",
    "sumaria_filtrado.loc[:, \"diferencia_ingreso_gasto\"] = sumaria_filtrado[\"inghog2d\"] - sumaria_filtrado[\"gashog2d\"]"
   ]
  },
  {
   "cell_type": "code",
   "execution_count": 39,
   "id": "ed1fb53a",
   "metadata": {},
   "outputs": [
    {
     "name": "stdout",
     "output_type": "stream",
     "text": [
      "   dependientes  ingreso_prom_perceptor  diferencia_ingreso_gasto\n",
      "0             0             1441.935059              -2343.082031\n",
      "1             0             3417.842448              33866.968750\n",
      "2             0              662.313110               4215.152344\n",
      "3             2             2002.405599               7867.824219\n",
      "4             4              548.287016              15449.896484\n"
     ]
    }
   ],
   "source": [
    "#Mostrar las primeras filas con las nuevas columnas\n",
    "print(sumaria_filtrado[[\"dependientes\", \"ingreso_prom_perceptor\", \"diferencia_ingreso_gasto\"]].head())\n"
   ]
  },
  {
   "cell_type": "code",
   "execution_count": 45,
   "id": "1a5831d4",
   "metadata": {},
   "outputs": [],
   "source": [
    "#guardamos\n",
    "sumaria_filtrado.to_csv(\"sumaria_actualizada.csv\", index=False)\n"
   ]
  },
  {
   "cell_type": "markdown",
   "id": "7501b818",
   "metadata": {},
   "source": [
    "6. We want the `poverty` variable in the summary to be codified as an integers 1, 2 ,3 according to:\n",
    "`1`: extreme poor home\n",
    "`2`: not extreme poor home\n",
    "`3`: not poor home  \n",
    "\n",
    "Using this variable , make two more: \n",
    "1. A variable that says  `'extreme poor'`, `' not extreme poor'` and `'not poor '` instead of 1,2,3.\n",
    "2. A variable that has `'poor'` and  `'not poor'` (or one that combines the poor and not extreme poor households)."
   ]
  },
  {
   "cell_type": "code",
   "execution_count": 46,
   "id": "55c5a1d7",
   "metadata": {},
   "outputs": [],
   "source": [
    "#convertir la columna pobreza a enteros\n",
    "sumaria_filtrado[\"pobreza\"] = sumaria_filtrado[\"pobreza\"].astype(int)"
   ]
  },
  {
   "cell_type": "code",
   "execution_count": 47,
   "id": "f1a6be0c",
   "metadata": {},
   "outputs": [],
   "source": [
    "#Crear una columna con etiquetas descriptivas\n",
    "sumaria_filtrado[\"pobreza_etiqueta\"] = sumaria_filtrado[\"pobreza\"].replace({\n",
    "    1: \"extreme poor\",\n",
    "    2: \"not extreme poor\",\n",
    "    3: \"not poor\"\n",
    "})\n"
   ]
  },
  {
   "cell_type": "code",
   "execution_count": 48,
   "id": "8eff3e93",
   "metadata": {},
   "outputs": [],
   "source": [
    "# Crear una columna con la codificación binaria\n",
    "sumaria_filtrado[\"pobreza_binaria\"] = sumaria_filtrado[\"pobreza\"].replace({\n",
    "    1: \"poor\",\n",
    "    2: \"poor\",\n",
    "    3: \"not poor\"\n",
    "})\n"
   ]
  },
  {
   "cell_type": "code",
   "execution_count": 49,
   "id": "58764d65",
   "metadata": {},
   "outputs": [
    {
     "name": "stdout",
     "output_type": "stream",
     "text": [
      "   pobreza  pobreza_etiqueta pobreza_binaria\n",
      "0        3          not poor        not poor\n",
      "1        3          not poor        not poor\n",
      "2        3          not poor        not poor\n",
      "3        3          not poor        not poor\n",
      "4        2  not extreme poor            poor\n"
     ]
    }
   ],
   "source": [
    "#verificamos\n",
    "print(sumaria_filtrado[[\"pobreza\", \"pobreza_etiqueta\", \"pobreza_binaria\"]].head())\n"
   ]
  },
  {
   "cell_type": "code",
   "execution_count": 50,
   "id": "26ea49d9",
   "metadata": {},
   "outputs": [],
   "source": [
    "#guardamos\n",
    "sumaria_filtrado.to_csv(\"sumaria_con_pobreza.csv\", index=False)\n"
   ]
  },
  {
   "cell_type": "markdown",
   "id": "d55c2f94",
   "metadata": {},
   "source": [
    "7. We want to now the average household income (inghog2d) per poverty level. Make a `groupby` to find this.\n",
    "\n",
    "(For example, the extreme poor households would only have one mean and it's the same for the others two  poor categories). "
   ]
  },
  {
   "cell_type": "code",
   "execution_count": 51,
   "id": "93af4f03",
   "metadata": {},
   "outputs": [
    {
     "name": "stdout",
     "output_type": "stream",
     "text": [
      "pobreza_etiqueta\n",
      "extreme poor        12945.434301\n",
      "not extreme poor    20042.135942\n",
      "not poor            40513.933057\n",
      "Name: inghog2d, dtype: float64\n"
     ]
    }
   ],
   "source": [
    "#agrupar por nivel de pobreza y calcular el ingreso promedio\n",
    "ingreso_promedio_por_pobreza = sumaria_filtrado.groupby(\"pobreza_etiqueta\")[\"inghog2d\"].mean()\n",
    "\n",
    "#resultado\n",
    "print(ingreso_promedio_por_pobreza)\n"
   ]
  },
  {
   "cell_type": "code",
   "execution_count": 52,
   "id": "c5e2bc1e",
   "metadata": {},
   "outputs": [
    {
     "name": "stdout",
     "output_type": "stream",
     "text": [
      "      Poverty Level  Average Income\n",
      "0      extreme poor    12945.434301\n",
      "1  not extreme poor    20042.135942\n",
      "2          not poor    40513.933057\n"
     ]
    }
   ],
   "source": [
    "#convertimos el resultado en un dataframe\n",
    "ingreso_promedio_por_pobreza_df = ingreso_promedio_por_pobreza.reset_index()\n",
    "ingreso_promedio_por_pobreza_df.columns = [\"Poverty Level\", \"Average Income\"]\n",
    "\n",
    "#dataframe\n",
    "print(ingreso_promedio_por_pobreza_df)\n"
   ]
  },
  {
   "cell_type": "markdown",
   "id": "a52f6075",
   "metadata": {},
   "source": [
    "8. We whould now merge the data  \n",
    "But before a sanity check: Verify that the number of rows in both data bases are the same.( remember we filtrate the observations  by  `result`).  The ENAHO  recolects the information of these 34,490 homes trough all their modules. In order to use all the modules at once, we would merge them.   \n",
    "\n",
    "Merge both bases with an _inner merge_. Remember that the id that identifies each home its componed by  ` conglome vivienda hogar`.  "
   ]
  },
  {
   "cell_type": "code",
   "execution_count": 55,
   "id": "abba34bc",
   "metadata": {},
   "outputs": [
    {
     "name": "stdout",
     "output_type": "stream",
     "text": [
      "Filas en sumaria_filtrado: 34213\n",
      "Filas en vivienda_participantes: 34213\n"
     ]
    }
   ],
   "source": [
    "print(f\"Filas en sumaria_filtrado: {sumaria_filtrado.shape[0]}\")\n",
    "print(f\"Filas en vivienda_participantes: {vivienda_participantes.shape[0]}\")"
   ]
  },
  {
   "cell_type": "code",
   "execution_count": 56,
   "id": "11e61fa0",
   "metadata": {},
   "outputs": [
    {
     "name": "stdout",
     "output_type": "stream",
     "text": [
      "Dimensiones del DataFrame combinado: (34213, 20)\n"
     ]
    }
   ],
   "source": [
    "#merge\n",
    "enaho_combinado = pd.merge(\n",
    "    sumaria_filtrado,\n",
    "    vivienda_participantes,\n",
    "    on=[\"conglome\", \"vivienda\", \"hogar\"],\n",
    "    how=\"inner\"\n",
    ")\n",
    "\n",
    "#verificar\n",
    "print(f\"Dimensiones del DataFrame combinado: {enaho_combinado.shape}\")\n"
   ]
  },
  {
   "cell_type": "code",
   "execution_count": 58,
   "id": "1cd0f6a1",
   "metadata": {},
   "outputs": [
    {
     "name": "stdout",
     "output_type": "stream",
     "text": [
      "   conglome  vivienda  hogar  mieperho  percepho  pobreza      gashog2d  \\\n",
      "0      5030         8     11         2         2        3  36949.523438   \n",
      "1      5030        17     11         2         2        3  48161.250000   \n",
      "2      5030        33     11         4         4        3  27575.876953   \n",
      "3      5030        50     11         3         1        3  16161.042969   \n",
      "4      5030        59     11        11         7        2  30606.212891   \n",
      "\n",
      "       inghog2d  ubigeo  dependientes  ingreso_prom_perceptor  \\\n",
      "0  34606.441406   10201             0             1441.935059   \n",
      "1  82028.218750   10201             0             3417.842448   \n",
      "2  31791.029297   10201             0              662.313110   \n",
      "3  24028.867188   10201             2             2002.405599   \n",
      "4  46056.109375   10201             4              548.287016   \n",
      "\n",
      "   diferencia_ingreso_gasto  pobreza_etiqueta pobreza_binaria  result nbi1  \\\n",
      "0              -2343.082031          not poor        not poor       1    0   \n",
      "1              33866.968750          not poor        not poor       1    0   \n",
      "2               4215.152344          not poor        not poor       1    0   \n",
      "3               7867.824219          not poor        not poor       1    0   \n",
      "4              15449.896484  not extreme poor            poor       1    0   \n",
      "\n",
      "  nbi2 nbi3 nbi4 nbi5  \n",
      "0    0    0    0    0  \n",
      "1    0    0    0    0  \n",
      "2    1    0    0    0  \n",
      "3    0    0    0    0  \n",
      "4    1    0    0    0  \n"
     ]
    }
   ],
   "source": [
    "print(enaho_combinado.head())\n",
    "#guardamos\n",
    "enaho_combinado.to_csv(\"enaho_combinado.csv\", index=False)"
   ]
  },
  {
   "cell_type": "markdown",
   "id": "bcb31499",
   "metadata": {},
   "source": [
    "## Part 2. If and loops "
   ]
  },
  {
   "cell_type": "markdown",
   "id": "b2a6e8e4",
   "metadata": {},
   "source": [
    "1.   \n",
    "\n",
    "a. Do a  for-loop that goes from 22 to 42, but that only take the odd numbers.  Print each of the elements as you iterate through them. Hint : you can use ranges. \n",
    "\n",
    "b. Modify your program so that as you iterate through them, you add them to a variable called sum_total, defined before the loop begins. Use a operator that has a higher allocation."
   ]
  },
  {
   "cell_type": "code",
   "execution_count": 62,
   "id": "1527ad05",
   "metadata": {},
   "outputs": [
    {
     "name": "stdout",
     "output_type": "stream",
     "text": [
      "23\n",
      "25\n",
      "27\n",
      "29\n",
      "31\n",
      "33\n",
      "35\n",
      "37\n",
      "39\n",
      "41\n"
     ]
    }
   ],
   "source": [
    "for i in range(23, 43, 2) :\n",
    "    print(i)"
   ]
  },
  {
   "cell_type": "code",
   "execution_count": 63,
   "id": "5dc065cc",
   "metadata": {},
   "outputs": [
    {
     "name": "stdout",
     "output_type": "stream",
     "text": [
      "23\n",
      "25\n",
      "27\n",
      "29\n",
      "31\n",
      "33\n",
      "35\n",
      "37\n",
      "39\n",
      "41\n",
      "Total sum: 320\n"
     ]
    }
   ],
   "source": [
    "sum_total = 0\n",
    "for i in range(23, 43, 2):\n",
    "    sum_total += i\n",
    "    print(i)\n",
    "\n",
    "print(\"Total sum:\", sum_total)\n"
   ]
  },
  {
   "cell_type": "markdown",
   "id": "8450a363",
   "metadata": {},
   "source": [
    "2.  Write a  while loop that begins in 1 and ends in 100, but each loop, the counter i is increasing +=2.\n"
   ]
  },
  {
   "cell_type": "code",
   "execution_count": 66,
   "id": "8a0861dc",
   "metadata": {},
   "outputs": [
    {
     "name": "stdout",
     "output_type": "stream",
     "text": [
      "1\n",
      "3\n",
      "5\n",
      "7\n",
      "9\n",
      "11\n",
      "13\n",
      "15\n",
      "17\n",
      "19\n",
      "21\n",
      "23\n",
      "25\n",
      "27\n",
      "29\n",
      "31\n",
      "33\n",
      "35\n",
      "37\n",
      "39\n",
      "41\n",
      "43\n",
      "45\n",
      "47\n",
      "49\n",
      "51\n",
      "53\n",
      "55\n",
      "57\n",
      "59\n",
      "61\n",
      "63\n",
      "65\n",
      "67\n",
      "69\n",
      "71\n",
      "73\n",
      "75\n",
      "77\n",
      "79\n",
      "81\n",
      "83\n",
      "85\n",
      "87\n",
      "89\n",
      "91\n",
      "93\n",
      "95\n",
      "97\n",
      "99\n"
     ]
    }
   ],
   "source": [
    "i = 1\n",
    "while i <= 100:\n",
    "    print(i)\n",
    "    i += 2\n"
   ]
  },
  {
   "cell_type": "markdown",
   "id": "feb28d96",
   "metadata": {},
   "source": [
    "3. Write a program that asks the user for their age and determines if they are of legal age (18 years or older). If it is, it displays a message indicating that you can vote. If not, it displays a message indicating that you cannot vote yet."
   ]
  },
  {
   "cell_type": "code",
   "execution_count": 67,
   "id": "525442b4",
   "metadata": {},
   "outputs": [
    {
     "name": "stdout",
     "output_type": "stream",
     "text": [
      "Enter your age: 20\n"
     ]
    }
   ],
   "source": [
    "age = int(input(\"Enter your age: \"))"
   ]
  },
  {
   "cell_type": "code",
   "execution_count": 68,
   "id": "ac5859d2",
   "metadata": {},
   "outputs": [
    {
     "name": "stdout",
     "output_type": "stream",
     "text": [
      "You are of legal age and can vote.\n"
     ]
    }
   ],
   "source": [
    "if age >= 18:  \n",
    "    print(\"You are of legal age and can vote.\")\n",
    "else:\n",
    "    print(\"You are not of legal age yet and cannot vote.\")"
   ]
  }
 ],
 "metadata": {
  "kernelspec": {
   "display_name": "Python 3 (ipykernel)",
   "language": "python",
   "name": "python3"
  },
  "language_info": {
   "codemirror_mode": {
    "name": "ipython",
    "version": 3
   },
   "file_extension": ".py",
   "mimetype": "text/x-python",
   "name": "python",
   "nbconvert_exporter": "python",
   "pygments_lexer": "ipython3",
   "version": "3.11.5"
  }
 },
 "nbformat": 4,
 "nbformat_minor": 5
}
